{
  "nbformat": 4,
  "nbformat_minor": 0,
  "metadata": {
    "colab": {
      "name": "1 - word2vec.ipynb",
      "provenance": [],
      "collapsed_sections": [],
      "include_colab_link": true
    },
    "kernelspec": {
      "name": "python3",
      "display_name": "Python 3"
    },
    "language_info": {
      "name": "python"
    }
  },
  "cells": [
    {
      "cell_type": "markdown",
      "metadata": {
        "id": "view-in-github",
        "colab_type": "text"
      },
      "source": [
        "<a href=\"https://colab.research.google.com/github/davidbro-in/natural-language-processing/blob/main/1_word2vec.ipynb\" target=\"_parent\"><img src=\"https://colab.research.google.com/assets/colab-badge.svg\" alt=\"Open In Colab\"/></a>"
      ]
    },
    {
      "cell_type": "markdown",
      "metadata": {
        "id": "Ue5hxxkdAQJg"
      },
      "source": [
        "<a href=\"https://www.inove.com.ar\"><img src=\"https://github.com/hernancontigiani/ceia_memorias_especializacion/raw/master/Figures/logoFIUBA.jpg\" width=\"500\" align=\"center\"></a>\n",
        "\n",
        "\n",
        "# Procesamiento de lenguaje natural\n",
        "## Word2vect\n"
      ]
    },
    {
      "cell_type": "code",
      "metadata": {
        "id": "kCED1hh-Ioyf"
      },
      "source": [
        "import numpy as np\n",
        "import pandas as pd\n"
      ],
      "execution_count": 2,
      "outputs": []
    },
    {
      "cell_type": "code",
      "metadata": {
        "id": "PUbfVnzIIoMj"
      },
      "source": [
        "def cosine_similarity(a, b):\n",
        "    return np.dot(a, b) / (np.linalg.norm(a) * (np.linalg.norm(b)))"
      ],
      "execution_count": 3,
      "outputs": []
    },
    {
      "cell_type": "markdown",
      "metadata": {
        "id": "DMOa4JPSCJ29"
      },
      "source": [
        "### Datos"
      ]
    },
    {
      "cell_type": "code",
      "metadata": {
        "id": "RIO7b8GjAC17"
      },
      "source": [
        "corpus = np.array(['que dia es hoy', 'martes el dia de hoy es martes', 'martes muchas gracias'])"
      ],
      "execution_count": 4,
      "outputs": []
    },
    {
      "cell_type": "markdown",
      "metadata": {
        "id": "FVHxBRNzCMOS"
      },
      "source": [
        "### 1 - Obtener el vocabulario del corpus (los términos utilizados)\n",
        "- Cada documento transformarlo en una lista de términos\n",
        "- Armar un vector de términos no repetidos de todos los documentos"
      ]
    },
    {
      "cell_type": "code",
      "metadata": {
        "id": "3ZqTOZzDI7uv",
        "colab": {
          "base_uri": "https://localhost:8080/"
        },
        "outputId": "3fd05e2a-02dd-4c38-c90b-34e1e84397e3"
      },
      "source": [
        "vocab = set()\n",
        "for document in corpus:\n",
        "  vocab = vocab.union(set(document.split()))\n",
        "\n",
        "print(vocab)\n"
      ],
      "execution_count": 5,
      "outputs": [
        {
          "output_type": "stream",
          "name": "stdout",
          "text": [
            "{'dia', 'gracias', 'el', 'hoy', 'muchas', 'de', 'es', 'que', 'martes'}\n"
          ]
        }
      ]
    },
    {
      "cell_type": "markdown",
      "metadata": {
        "id": "RUhH983FI7It"
      },
      "source": [
        "### 2- OneHot encoding\n",
        "Data una lista de textos, devolver una matriz con la representación oneHotEncoding de estos"
      ]
    },
    {
      "cell_type": "code",
      "metadata": {
        "colab": {
          "base_uri": "https://localhost:8080/"
        },
        "id": "UdXDLlYIf7SC",
        "outputId": "3f3da95d-72e8-4d20-ee41-b14872a8ff0b"
      },
      "source": [
        "vocab_list = list(vocab)\n",
        "\n",
        "one_hot_encoded = np.zeros((len(corpus), len(vocab_list)))\n",
        "print(one_hot_encoded)"
      ],
      "execution_count": 6,
      "outputs": [
        {
          "output_type": "stream",
          "name": "stdout",
          "text": [
            "[[0. 0. 0. 0. 0. 0. 0. 0. 0.]\n",
            " [0. 0. 0. 0. 0. 0. 0. 0. 0.]\n",
            " [0. 0. 0. 0. 0. 0. 0. 0. 0.]]\n"
          ]
        }
      ]
    },
    {
      "cell_type": "code",
      "metadata": {
        "colab": {
          "base_uri": "https://localhost:8080/"
        },
        "id": "kHCaGR2jZGFA",
        "outputId": "3fa77db5-be19-4945-912b-043ace213e37"
      },
      "source": [
        "\n",
        "\n",
        "for i in range(len(corpus)):\n",
        "  for j in range(len(vocab_list)):  \n",
        "    if vocab_list[j] in str(corpus[i]):\n",
        "      one_hot_encoded[i, j] = 1\n",
        "\n",
        "print(vocab_list)\n",
        "print(one_hot_encoded)\n",
        "\n",
        "#['que dia es hoy', 'martes el dia de hoy es martes', 'martes muchas gracias']\n",
        "#{'dia', 'martes', 'de', 'el', 'que', 'hoy', 'gracias', 'es', 'muchas'}"
      ],
      "execution_count": 7,
      "outputs": [
        {
          "output_type": "stream",
          "name": "stdout",
          "text": [
            "['dia', 'gracias', 'el', 'hoy', 'muchas', 'de', 'es', 'que', 'martes']\n",
            "[[1. 0. 0. 1. 0. 0. 1. 1. 0.]\n",
            " [1. 0. 1. 1. 0. 1. 1. 0. 1.]\n",
            " [0. 1. 0. 0. 1. 0. 1. 0. 1.]]\n"
          ]
        }
      ]
    },
    {
      "cell_type": "markdown",
      "metadata": {
        "id": "IIyWGmCpJVQL"
      },
      "source": [
        "### 3- Vectores de frecuencia\n",
        "Data una lista de textos, devolver una matriz con la representación de frecuencia de estos"
      ]
    },
    {
      "cell_type": "code",
      "metadata": {
        "id": "yqij_7eHJbUi",
        "colab": {
          "base_uri": "https://localhost:8080/"
        },
        "outputId": "fd2ebf84-a14c-4516-f787-f75880a5b14c"
      },
      "source": [
        "vocab_list = list(vocab)\n",
        "\n",
        "freq = np.zeros((len(corpus), len(vocab_list)))\n",
        "print(freq)"
      ],
      "execution_count": 8,
      "outputs": [
        {
          "output_type": "stream",
          "name": "stdout",
          "text": [
            "[[0. 0. 0. 0. 0. 0. 0. 0. 0.]\n",
            " [0. 0. 0. 0. 0. 0. 0. 0. 0.]\n",
            " [0. 0. 0. 0. 0. 0. 0. 0. 0.]]\n"
          ]
        }
      ]
    },
    {
      "cell_type": "code",
      "metadata": {
        "colab": {
          "base_uri": "https://localhost:8080/"
        },
        "id": "smMv06HPgi9x",
        "outputId": "bd447675-9d9d-49d7-c415-31ea235397db"
      },
      "source": [
        "for i in range(len(corpus)):\n",
        "  for j in range(len(vocab_list)):\n",
        "      freq[i, j] = corpus[i].split().count(vocab_list[j])\n",
        "\n",
        "print(vocab_list)\n",
        "print(freq)\n",
        "\n",
        "#['que dia es hoy', 'martes el dia de hoy es martes', 'martes muchas gracias']\n",
        "#['hoy', 'de', 'dia', 'martes', 'el', 'gracias', 'muchas', 'que', 'es']"
      ],
      "execution_count": 9,
      "outputs": [
        {
          "output_type": "stream",
          "name": "stdout",
          "text": [
            "['dia', 'gracias', 'el', 'hoy', 'muchas', 'de', 'es', 'que', 'martes']\n",
            "[[1. 0. 0. 1. 0. 0. 1. 1. 0.]\n",
            " [1. 0. 1. 1. 0. 1. 1. 0. 2.]\n",
            " [0. 1. 0. 0. 1. 0. 0. 0. 1.]]\n"
          ]
        }
      ]
    },
    {
      "cell_type": "markdown",
      "metadata": {
        "id": "z_Ot8HvWJcBu"
      },
      "source": [
        "### 4- TF-IDF\n",
        "Data una lista de textos, devolver una matriz con la representacion TFIDF"
      ]
    },
    {
      "cell_type": "code",
      "metadata": {
        "id": "waG_oWtpJjRw",
        "colab": {
          "base_uri": "https://localhost:8080/"
        },
        "outputId": "47efb6ef-d88e-4513-d899-9edf526bd197"
      },
      "source": [
        "def corpus_to_tf_idf(corpus):\n",
        "  flat_list = [item for sublist in (document.split() for document in corpus) for item in sublist]\n",
        "  doc_freq = np.vectorize(flat_list.count)(vocab_list)\n",
        "\n",
        "  N = corpus.shape[0]\n",
        "  IDF = np.log(N/doc_freq)\n",
        "  TF_IDF = IDF * freq\n",
        "  return TF_IDF\n",
        "\n",
        "\n",
        "print(corpus_to_tf_idf(corpus))"
      ],
      "execution_count": 14,
      "outputs": [
        {
          "output_type": "stream",
          "name": "stdout",
          "text": [
            "[[0.40546511 0.         0.         0.40546511 0.         0.\n",
            "  0.40546511 1.09861229 0.        ]\n",
            " [0.40546511 0.         1.09861229 0.40546511 0.         1.09861229\n",
            "  0.40546511 0.         0.        ]\n",
            " [0.         1.09861229 0.         0.         1.09861229 0.\n",
            "  0.         0.         0.        ]]\n"
          ]
        }
      ]
    },
    {
      "cell_type": "markdown",
      "metadata": {
        "id": "xMcsfndWJjm_"
      },
      "source": [
        "### 5 - Comparación de documentos\n",
        "Realizar una funcion que reciba el corpus y el índice de un documento y devuelva los documentos ordenados por la similitud coseno"
      ]
    },
    {
      "cell_type": "code",
      "metadata": {
        "id": "CZdiop6IJpZN",
        "outputId": "5cc36a99-a476-425b-a8b8-abae5398b507",
        "colab": {
          "base_uri": "https://localhost:8080/"
        }
      },
      "source": [
        "def ordenar_simil_coseno(corpus):\n",
        "  tf_idf = corpus_to_tf_idf(corpus)\n",
        "  idx = np.array([])\n",
        "  for i in range(len(tf_idf)):\n",
        "    #print(f'Compare {i} against {i-1}')\n",
        "    simil = cosine_similarity(tf_idf[i], tf_idf[i-1])\n",
        "    #print(simil)\n",
        "    idx = np.append(idx, [simil])\n",
        "  #print(idx)\n",
        "  ordered_corpus = corpus[np.argsort(idx)]\n",
        "  return ordered_corpus\n",
        "\n",
        "print(corpus)\n",
        "print(ordenar_simil_coseno(corpus))\n"
      ],
      "execution_count": 68,
      "outputs": [
        {
          "output_type": "stream",
          "name": "stdout",
          "text": [
            "['que dia es hoy' 'martes el dia de hoy es martes' 'martes muchas gracias']\n",
            "['que dia es hoy' 'martes muchas gracias' 'martes el dia de hoy es martes']\n"
          ]
        }
      ]
    }
  ]
}