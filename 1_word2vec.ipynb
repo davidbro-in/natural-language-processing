{
  "nbformat": 4,
  "nbformat_minor": 0,
  "metadata": {
    "colab": {
      "name": "1 - word2vec.ipynb",
      "provenance": [],
      "collapsed_sections": [],
      "include_colab_link": true
    },
    "kernelspec": {
      "name": "python3",
      "display_name": "Python 3"
    },
    "language_info": {
      "name": "python"
    }
  },
  "cells": [
    {
      "cell_type": "markdown",
      "metadata": {
        "id": "view-in-github",
        "colab_type": "text"
      },
      "source": [
        "<a href=\"https://colab.research.google.com/github/davidbro-in/natural-language-processing/blob/main/1_word2vec.ipynb\" target=\"_parent\"><img src=\"https://colab.research.google.com/assets/colab-badge.svg\" alt=\"Open In Colab\"/></a>"
      ]
    },
    {
      "cell_type": "markdown",
      "metadata": {
        "id": "Ue5hxxkdAQJg"
      },
      "source": [
        "<a href=\"https://www.inove.com.ar\"><img src=\"https://github.com/hernancontigiani/ceia_memorias_especializacion/raw/master/Figures/logoFIUBA.jpg\" width=\"500\" align=\"center\"></a>\n",
        "\n",
        "\n",
        "# Procesamiento de lenguaje natural\n",
        "## Word2vect\n"
      ]
    },
    {
      "cell_type": "code",
      "metadata": {
        "id": "kCED1hh-Ioyf"
      },
      "source": [
        "import numpy as np\n",
        "import pandas as pd\n"
      ],
      "execution_count": null,
      "outputs": []
    },
    {
      "cell_type": "code",
      "metadata": {
        "id": "PUbfVnzIIoMj"
      },
      "source": [
        "def cosine_similarity(a, b):\n",
        "    return np.dot(a, b) / (np.linalg.norm(a) * (np.linalg.norm(b)))"
      ],
      "execution_count": null,
      "outputs": []
    },
    {
      "cell_type": "markdown",
      "metadata": {
        "id": "DMOa4JPSCJ29"
      },
      "source": [
        "### Datos"
      ]
    },
    {
      "cell_type": "code",
      "metadata": {
        "id": "RIO7b8GjAC17"
      },
      "source": [
        "corpus = np.array(['que dia es hoy', 'martes el dia de hoy es martes', 'martes muchas gracias'])"
      ],
      "execution_count": null,
      "outputs": []
    },
    {
      "cell_type": "markdown",
      "metadata": {
        "id": "FVHxBRNzCMOS"
      },
      "source": [
        "### 1 - Obtener el vocabulario del corpus (los términos utilizados)\n",
        "- Cada documento transformarlo en una lista de términos\n",
        "- Armar un vector de términos no repetidos de todos los documentos"
      ]
    },
    {
      "cell_type": "code",
      "metadata": {
        "id": "3ZqTOZzDI7uv",
        "colab": {
          "base_uri": "https://localhost:8080/"
        },
        "outputId": "d5d2f682-a96a-4302-ff02-45cc3e5a6702"
      },
      "source": [
        "vocab = set()\n",
        "for document in corpus:\n",
        "  vocab = vocab.union(set(document.split()))\n",
        "\n",
        "print(vocab)\n"
      ],
      "execution_count": null,
      "outputs": [
        {
          "output_type": "stream",
          "name": "stdout",
          "text": [
            "{'hoy', 'de', 'dia', 'martes', 'el', 'gracias', 'muchas', 'que', 'es'}\n"
          ]
        }
      ]
    },
    {
      "cell_type": "markdown",
      "metadata": {
        "id": "RUhH983FI7It"
      },
      "source": [
        "### 2- OneHot encoding\n",
        "Data una lista de textos, devolver una matriz con la representación oneHotEncoding de estos"
      ]
    },
    {
      "cell_type": "code",
      "metadata": {
        "colab": {
          "base_uri": "https://localhost:8080/"
        },
        "id": "UdXDLlYIf7SC",
        "outputId": "3683c0fc-e323-42e8-a827-b67b739c11b8"
      },
      "source": [
        "vocab_list = list(vocab)\n",
        "\n",
        "one_hot_encoded = np.zeros((len(corpus), len(vocab_list)))\n",
        "print(one_hot_encoded)"
      ],
      "execution_count": null,
      "outputs": [
        {
          "output_type": "stream",
          "name": "stdout",
          "text": [
            "[[0. 0. 0. 0. 0. 0. 0. 0. 0.]\n",
            " [0. 0. 0. 0. 0. 0. 0. 0. 0.]\n",
            " [0. 0. 0. 0. 0. 0. 0. 0. 0.]]\n"
          ]
        }
      ]
    },
    {
      "cell_type": "code",
      "metadata": {
        "colab": {
          "base_uri": "https://localhost:8080/"
        },
        "id": "kHCaGR2jZGFA",
        "outputId": "a1ce190e-9f79-4d6c-e1ce-f54301159fa5"
      },
      "source": [
        "\n",
        "\n",
        "for i in range(len(corpus)):\n",
        "  for j in range(len(vocab_list)):  \n",
        "    if vocab_list[j] in str(corpus[i]):\n",
        "      one_hot_encoded[i, j] = 1\n",
        "\n",
        "print(vocab_list)\n",
        "print(one_hot_encoded)\n",
        "\n",
        "#['que dia es hoy', 'martes el dia de hoy es martes', 'martes muchas gracias']\n",
        "#{'dia', 'martes', 'de', 'el', 'que', 'hoy', 'gracias', 'es', 'muchas'}"
      ],
      "execution_count": null,
      "outputs": [
        {
          "output_type": "stream",
          "name": "stdout",
          "text": [
            "['hoy', 'de', 'dia', 'martes', 'el', 'gracias', 'muchas', 'que', 'es']\n",
            "[[1. 0. 1. 0. 0. 0. 0. 1. 1.]\n",
            " [1. 1. 1. 1. 1. 0. 0. 0. 1.]\n",
            " [0. 0. 0. 1. 0. 1. 1. 0. 1.]]\n"
          ]
        }
      ]
    },
    {
      "cell_type": "markdown",
      "metadata": {
        "id": "IIyWGmCpJVQL"
      },
      "source": [
        "### 3- Vectores de frecuencia\n",
        "Data una lista de textos, devolver una matriz con la representación de frecuencia de estos"
      ]
    },
    {
      "cell_type": "code",
      "metadata": {
        "id": "yqij_7eHJbUi",
        "colab": {
          "base_uri": "https://localhost:8080/"
        },
        "outputId": "a73461d1-0d77-46ac-e179-2bbb8940ead1"
      },
      "source": [
        "vocab_list = list(vocab)\n",
        "\n",
        "freq = np.zeros((len(corpus), len(vocab_list)))\n",
        "print(freq)"
      ],
      "execution_count": null,
      "outputs": [
        {
          "output_type": "stream",
          "name": "stdout",
          "text": [
            "[[0. 0. 0. 0. 0. 0. 0. 0. 0.]\n",
            " [0. 0. 0. 0. 0. 0. 0. 0. 0.]\n",
            " [0. 0. 0. 0. 0. 0. 0. 0. 0.]]\n"
          ]
        }
      ]
    },
    {
      "cell_type": "code",
      "metadata": {
        "colab": {
          "base_uri": "https://localhost:8080/"
        },
        "id": "smMv06HPgi9x",
        "outputId": "0b97e0f5-a7c5-4036-e2a3-8ae1c2323d12"
      },
      "source": [
        "for i in range(len(corpus)):\n",
        "  for j in range(len(vocab_list)):\n",
        "      freq[i, j] = corpus[i].split().count(vocab_list[j])\n",
        "\n",
        "print(vocab_list)\n",
        "print(freq)\n",
        "\n",
        "#['que dia es hoy', 'martes el dia de hoy es martes', 'martes muchas gracias']\n",
        "#['hoy', 'de', 'dia', 'martes', 'el', 'gracias', 'muchas', 'que', 'es']"
      ],
      "execution_count": null,
      "outputs": [
        {
          "output_type": "stream",
          "name": "stdout",
          "text": [
            "['hoy', 'de', 'dia', 'martes', 'el', 'gracias', 'muchas', 'que', 'es']\n",
            "[[1. 0. 1. 0. 0. 0. 0. 1. 1.]\n",
            " [1. 1. 1. 2. 1. 0. 0. 0. 1.]\n",
            " [0. 0. 0. 1. 0. 1. 1. 0. 0.]]\n"
          ]
        }
      ]
    },
    {
      "cell_type": "markdown",
      "metadata": {
        "id": "z_Ot8HvWJcBu"
      },
      "source": [
        "### 4- TF-IDF\n",
        "Data una lista de textos, devolver una matriz con la representacion TFIDF"
      ]
    },
    {
      "cell_type": "code",
      "metadata": {
        "id": "waG_oWtpJjRw",
        "colab": {
          "base_uri": "https://localhost:8080/"
        },
        "outputId": "30a3293b-5a1c-40fb-f9ce-f2b7413d0cfa"
      },
      "source": [
        "flat_list = [item for sublist in (document.split() for document in corpus) for item in sublist]\n",
        "doc_freq = np.vectorize(flat_list.count)(vocab_list)\n",
        "\n",
        "N = corpus.shape[0]\n",
        "IDF = np.log(N/doc_freq)\n",
        "print(doc_freq)\n",
        "print(freq)\n",
        "print(IDF)\n",
        "TF_IDF = IDF * freq\n",
        "\n",
        "print(TF_IDF)"
      ],
      "execution_count": null,
      "outputs": [
        {
          "output_type": "stream",
          "name": "stdout",
          "text": [
            "[2 1 2 3 1 1 1 1 2]\n",
            "[[1. 0. 1. 0. 0. 0. 0. 1. 1.]\n",
            " [1. 1. 1. 2. 1. 0. 0. 0. 1.]\n",
            " [0. 0. 0. 1. 0. 1. 1. 0. 0.]]\n",
            "[0.40546511 1.09861229 0.40546511 0.         1.09861229 1.09861229\n",
            " 1.09861229 1.09861229 0.40546511]\n",
            "[[0.40546511 0.         0.40546511 0.         0.         0.\n",
            "  0.         1.09861229 0.40546511]\n",
            " [0.40546511 1.09861229 0.40546511 0.         1.09861229 0.\n",
            "  0.         0.         0.40546511]\n",
            " [0.         0.         0.         0.         0.         1.09861229\n",
            "  1.09861229 0.         0.        ]]\n"
          ]
        }
      ]
    },
    {
      "cell_type": "markdown",
      "metadata": {
        "id": "xMcsfndWJjm_"
      },
      "source": [
        "### 5 - Comparación de documentos\n",
        "Realizar una funcion que reciba el corpus y el índice de un documento y devuelva los documentos ordenados por la similitud coseno"
      ]
    },
    {
      "cell_type": "code",
      "metadata": {
        "id": "CZdiop6IJpZN"
      },
      "source": [
        ""
      ],
      "execution_count": null,
      "outputs": []
    }
  ]
}