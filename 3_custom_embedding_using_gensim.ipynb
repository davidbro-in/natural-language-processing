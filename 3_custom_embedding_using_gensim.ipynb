{
  "nbformat": 4,
  "nbformat_minor": 0,
  "metadata": {
    "colab": {
      "name": "3_custom_embedding_using_gensim.ipynb",
      "provenance": [],
      "collapsed_sections": [],
      "include_colab_link": true
    },
    "kernelspec": {
      "name": "python3",
      "display_name": "Python 3"
    }
  },
  "cells": [
    {
      "cell_type": "markdown",
      "metadata": {
        "id": "view-in-github",
        "colab_type": "text"
      },
      "source": [
        "<a href=\"https://colab.research.google.com/github/davidbro-in/natural-language-processing/blob/main/3_custom_embedding_using_gensim.ipynb\" target=\"_parent\"><img src=\"https://colab.research.google.com/assets/colab-badge.svg\" alt=\"Open In Colab\"/></a>"
      ]
    },
    {
      "cell_type": "markdown",
      "metadata": {
        "id": "sZd5yLnnHOK0"
      },
      "source": [
        "<a href=\"https://www.inove.com.ar\"><img src=\"https://github.com/hernancontigiani/ceia_memorias_especializacion/raw/master/Figures/logoFIUBA.jpg\" width=\"500\" align=\"center\"></a>\n",
        "\n",
        "\n",
        "# Procesamiento de lenguaje natural\n",
        "## Custom embedddings con Gensim\n",
        "\n"
      ]
    },
    {
      "cell_type": "markdown",
      "metadata": {
        "id": "vA7nqkumo9z9"
      },
      "source": [
        "### Objetivo\n",
        "El objetivo es utilizar documentos / corpus para crear embeddings de palabras basado en ese contexto. Se utilizará canciones de bandas para generar los embeddings, es decir, que los vectores tendrán la forma en función de como esa banda haya utilizado las palabras en sus canciones."
      ]
    },
    {
      "cell_type": "code",
      "metadata": {
        "id": "lFToQs5FK5uZ"
      },
      "source": [
        "import pandas as pd\n",
        "import matplotlib.pyplot as plt\n",
        "import seaborn as sns\n",
        "\n",
        "import multiprocessing\n",
        "from gensim.models import Word2Vec"
      ],
      "execution_count": null,
      "outputs": []
    },
    {
      "cell_type": "markdown",
      "metadata": {
        "id": "g07zJxG7H9vG"
      },
      "source": [
        "### Datos\n",
        "Utilizaremos como dataset canciones de bandas de habla inglés."
      ]
    },
    {
      "cell_type": "code",
      "metadata": {
        "id": "l7z4CSBfpR3X",
        "colab": {
          "base_uri": "https://localhost:8080/"
        },
        "outputId": "e9b08edc-da3d-489a-a0cd-25bbbbb0be2b"
      },
      "source": [
        "# Descargar la carpeta de dataset\n",
        "import os\n",
        "import gdown\n",
        "if os.access('./songs_dataset', os.F_OK) is False:\n",
        "    if os.access('simpsons_dataset.zip', os.F_OK) is False:\n",
        "        url = 'https://drive.google.com/uc?id=1VLVgb3fD02XrF2V5OruKvQTOT91juXcs&export=download'\n",
        "        output = 'songs_dataset.zip'\n",
        "        gdown.download(url, output, quiet=False)\n",
        "    !unzip -q songs_dataset.zip   \n",
        "else:\n",
        "    print(\"El dataset ya se encuentra descargado\")"
      ],
      "execution_count": null,
      "outputs": [
        {
          "output_type": "stream",
          "name": "stderr",
          "text": [
            "Downloading...\n",
            "From: https://drive.google.com/uc?id=1VLVgb3fD02XrF2V5OruKvQTOT91juXcs&export=download\n",
            "To: /content/songs_dataset.zip\n",
            "100%|██████████| 2.09M/2.09M [00:00<00:00, 58.3MB/s]\n"
          ]
        }
      ]
    },
    {
      "cell_type": "code",
      "metadata": {
        "id": "mysGrIw9ljC2",
        "colab": {
          "base_uri": "https://localhost:8080/"
        },
        "outputId": "3c7ed206-26fb-4976-fdac-057e782c9781"
      },
      "source": [
        "# Posibles bandas\n",
        "os.listdir(\"./songs_dataset/\")"
      ],
      "execution_count": null,
      "outputs": [
        {
          "output_type": "execute_result",
          "data": {
            "text/plain": [
              "['paul-simon.txt',\n",
              " 'bjork.txt',\n",
              " 'leonard-cohen.txt',\n",
              " 'dolly-parton.txt',\n",
              " 'britney-spears.txt',\n",
              " 'bieber.txt',\n",
              " 'cake.txt',\n",
              " 'kanye.txt',\n",
              " 'lil-wayne.txt',\n",
              " 'Kanye_West.txt',\n",
              " 'missy-elliott.txt',\n",
              " 'johnny-cash.txt',\n",
              " 'nickelback.txt',\n",
              " 'amy-winehouse.txt',\n",
              " 'michael-jackson.txt',\n",
              " 'disney.txt',\n",
              " 'rihanna.txt',\n",
              " 'bob-marley.txt',\n",
              " 'joni-mitchell.txt',\n",
              " 'bruce-springsteen.txt',\n",
              " 'lorde.txt',\n",
              " 'bob-dylan.txt',\n",
              " 'dj-khaled.txt',\n",
              " 'nicki-minaj.txt',\n",
              " 'bruno-mars.txt',\n",
              " 'alicia-keys.txt',\n",
              " 'notorious-big.txt',\n",
              " 'lady-gaga.txt',\n",
              " 'ludacris.txt',\n",
              " 'janisjoplin.txt',\n",
              " 'dickinson.txt',\n",
              " 'notorious_big.txt',\n",
              " 'patti-smith.txt',\n",
              " 'prince.txt',\n",
              " 'nirvana.txt',\n",
              " 'jimi-hendrix.txt',\n",
              " 'eminem.txt',\n",
              " 'beatles.txt',\n",
              " 'lin-manuel-miranda.txt',\n",
              " 'adele.txt',\n",
              " 'drake.txt',\n",
              " 'kanye-west.txt',\n",
              " 'dr-seuss.txt',\n",
              " 'al-green.txt',\n",
              " 'blink-182.txt',\n",
              " 'nursery_rhymes.txt',\n",
              " 'Lil_Wayne.txt',\n",
              " 'radiohead.txt',\n",
              " 'r-kelly.txt']"
            ]
          },
          "metadata": {},
          "execution_count": 3
        }
      ]
    },
    {
      "cell_type": "code",
      "metadata": {
        "colab": {
          "base_uri": "https://localhost:8080/"
        },
        "id": "LhLYZbzSn8Gc",
        "outputId": "ba0d3293-cc1b-47da-8371-ad3ee4f20105"
      },
      "source": [
        "!wget https://www.gutenberg.org/cache/epub/31193/pg31193.txt"
      ],
      "execution_count": null,
      "outputs": [
        {
          "output_type": "stream",
          "name": "stdout",
          "text": [
            "--2021-09-16 22:02:02--  https://www.gutenberg.org/cache/epub/31193/pg31193.txt\n",
            "Resolving www.gutenberg.org (www.gutenberg.org)... 152.19.134.47, 2610:28:3090:3000:0:bad:cafe:47\n",
            "Connecting to www.gutenberg.org (www.gutenberg.org)|152.19.134.47|:443... connected.\n",
            "HTTP request sent, awaiting response... 200 OK\n",
            "Length: 114408 (112K) [text/plain]\n",
            "Saving to: ‘pg31193.txt’\n",
            "\n",
            "pg31193.txt         100%[===================>] 111.73K  --.-KB/s    in 0.1s    \n",
            "\n",
            "2021-09-16 22:02:02 (1.11 MB/s) - ‘pg31193.txt’ saved [114408/114408]\n",
            "\n"
          ]
        }
      ]
    },
    {
      "cell_type": "code",
      "metadata": {
        "id": "ticoqYD1Z3I7",
        "colab": {
          "base_uri": "https://localhost:8080/",
          "height": 292
        },
        "outputId": "77e7628b-04e3-40a9-abca-7e7f4b3b7860"
      },
      "source": [
        "# Armar el dataset utilizando salto de línea para separar las oraciones/docs\n",
        "df = pd.read_csv('/content/pg31193.txt', sep='/n', header=None)\n",
        "df.head()"
      ],
      "execution_count": null,
      "outputs": [
        {
          "output_type": "stream",
          "name": "stderr",
          "text": [
            "/usr/local/lib/python3.7/dist-packages/ipykernel_launcher.py:2: ParserWarning:\n",
            "\n",
            "Falling back to the 'python' engine because the 'c' engine does not support regex separators (separators > 1 char and different from '\\s+' are interpreted as regex); you can avoid this warning by specifying engine='python'.\n",
            "\n"
          ]
        },
        {
          "output_type": "execute_result",
          "data": {
            "text/html": [
              "<div>\n",
              "<style scoped>\n",
              "    .dataframe tbody tr th:only-of-type {\n",
              "        vertical-align: middle;\n",
              "    }\n",
              "\n",
              "    .dataframe tbody tr th {\n",
              "        vertical-align: top;\n",
              "    }\n",
              "\n",
              "    .dataframe thead th {\n",
              "        text-align: right;\n",
              "    }\n",
              "</style>\n",
              "<table border=\"1\" class=\"dataframe\">\n",
              "  <thead>\n",
              "    <tr style=\"text-align: right;\">\n",
              "      <th></th>\n",
              "      <th>0</th>\n",
              "    </tr>\n",
              "  </thead>\n",
              "  <tbody>\n",
              "    <tr>\n",
              "      <th>0</th>\n",
              "      <td>The Project Gutenberg EBook of Manifesto of th...</td>\n",
              "    </tr>\n",
              "    <tr>\n",
              "      <th>1</th>\n",
              "      <td>Karl Marx and Frederick Engels</td>\n",
              "    </tr>\n",
              "    <tr>\n",
              "      <th>2</th>\n",
              "      <td>This eBook is for the use of anyone anywhere a...</td>\n",
              "    </tr>\n",
              "    <tr>\n",
              "      <th>3</th>\n",
              "      <td>almost no restrictions whatsoever.  You may co...</td>\n",
              "    </tr>\n",
              "    <tr>\n",
              "      <th>4</th>\n",
              "      <td>re-use it under the terms of the Project Guten...</td>\n",
              "    </tr>\n",
              "  </tbody>\n",
              "</table>\n",
              "</div>"
            ],
            "text/plain": [
              "                                                   0\n",
              "0  The Project Gutenberg EBook of Manifesto of th...\n",
              "1                     Karl Marx and Frederick Engels\n",
              "2  This eBook is for the use of anyone anywhere a...\n",
              "3  almost no restrictions whatsoever.  You may co...\n",
              "4  re-use it under the terms of the Project Guten..."
            ]
          },
          "metadata": {},
          "execution_count": 43
        }
      ]
    },
    {
      "cell_type": "code",
      "metadata": {
        "id": "LEpKubK9XzXN",
        "colab": {
          "base_uri": "https://localhost:8080/"
        },
        "outputId": "5af701f1-16fb-4f34-aa59-b1cbbb90ef1f"
      },
      "source": [
        "print(\"Cantidad de documentos:\", df.shape[0])"
      ],
      "execution_count": null,
      "outputs": [
        {
          "output_type": "stream",
          "name": "stdout",
          "text": [
            "Cantidad de documentos: 1796\n"
          ]
        }
      ]
    },
    {
      "cell_type": "markdown",
      "metadata": {
        "id": "ab94qaFlrA1G"
      },
      "source": [
        "### 1 - Preprocesamiento"
      ]
    },
    {
      "cell_type": "code",
      "metadata": {
        "id": "rIsmMWmjrDHd"
      },
      "source": [
        "from keras.preprocessing.text import text_to_word_sequence\n",
        "\n",
        "sentence_tokens = []\n",
        "# Recorrer todas las filas y transformar las oraciones\n",
        "# en una secuencia de palabras (esto podría realizarse con NLTK o spaCy también)\n",
        "for _, row in df[:None].iterrows():\n",
        "    sentence_tokens.append(text_to_word_sequence(row[0]))"
      ],
      "execution_count": null,
      "outputs": []
    },
    {
      "cell_type": "code",
      "metadata": {
        "id": "CHepi_DGrbhq",
        "colab": {
          "base_uri": "https://localhost:8080/"
        },
        "outputId": "92072121-bce5-48e4-b90e-35fa8583d291"
      },
      "source": [
        "# Demos un vistazo\n",
        "sentence_tokens[:2]"
      ],
      "execution_count": null,
      "outputs": [
        {
          "output_type": "execute_result",
          "data": {
            "text/plain": [
              "[['the',\n",
              "  'project',\n",
              "  'gutenberg',\n",
              "  'ebook',\n",
              "  'of',\n",
              "  'manifesto',\n",
              "  'of',\n",
              "  'the',\n",
              "  'communist',\n",
              "  'party',\n",
              "  'by'],\n",
              " ['karl', 'marx', 'and', 'frederick', 'engels']]"
            ]
          },
          "metadata": {},
          "execution_count": 46
        }
      ]
    },
    {
      "cell_type": "markdown",
      "metadata": {
        "id": "BaXV6nlHr5Aa"
      },
      "source": [
        "### 2 - Crear los vectores (word2vec)"
      ]
    },
    {
      "cell_type": "code",
      "metadata": {
        "id": "OSb0v7h8r7hK"
      },
      "source": [
        "from gensim.models.callbacks import CallbackAny2Vec\n",
        "# Durante el entrenamiento gensim por defecto no informa el \"loss\" en cada época\n",
        "# Sobracargamos el callback para poder tener esta información\n",
        "class callback(CallbackAny2Vec):\n",
        "    \"\"\"\n",
        "    Callback to print loss after each epoch\n",
        "    \"\"\"\n",
        "    def __init__(self):\n",
        "        self.epoch = 0\n",
        "\n",
        "    def on_epoch_end(self, model):\n",
        "        loss = model.get_latest_training_loss()\n",
        "        if self.epoch == 0:\n",
        "            print('Loss after epoch {}: {}'.format(self.epoch, loss))\n",
        "        else:\n",
        "            print('Loss after epoch {}: {}'.format(self.epoch, loss- self.loss_previous_step))\n",
        "        self.epoch += 1\n",
        "        self.loss_previous_step = loss"
      ],
      "execution_count": null,
      "outputs": []
    },
    {
      "cell_type": "code",
      "metadata": {
        "id": "i0wnDdv9sJ47"
      },
      "source": [
        "# Crearmos el modelo generador de vectoeres\n",
        "# En este caso utilizaremos la estructura modelo Skipgram\n",
        "w2v_model = Word2Vec(min_count=5,    # frecuencia mínima de palabra para incluirla en el vocabulario\n",
        "                     window=2,       # cant de palabras antes y desp de la predicha\n",
        "                     size=300,       # dimensionalidad de los vectores \n",
        "                     negative=20,    # cantidad de negative samples... 0 es no se usa\n",
        "                     workers=1,      # si tienen más cores pueden cambiar este valor\n",
        "                     sg=1)           # modelo 0:CBOW  1:skipgram"
      ],
      "execution_count": null,
      "outputs": []
    },
    {
      "cell_type": "code",
      "metadata": {
        "id": "5lTt8wErsf17"
      },
      "source": [
        "# Buildear el vocabularui con los tokens\n",
        "w2v_model.build_vocab(sentence_tokens)"
      ],
      "execution_count": null,
      "outputs": []
    },
    {
      "cell_type": "code",
      "metadata": {
        "id": "TNc9qt4os5AT",
        "colab": {
          "base_uri": "https://localhost:8080/"
        },
        "outputId": "f38e0fa7-2201-4495-bbf6-7524c5be7895"
      },
      "source": [
        "# Cantidad de filas/docs encontradas en el corpus\n",
        "print(\"Cantidad de docs en el corpus:\", w2v_model.corpus_count)"
      ],
      "execution_count": null,
      "outputs": [
        {
          "output_type": "stream",
          "name": "stdout",
          "text": [
            "Cantidad de docs en el corpus: 1796\n"
          ]
        }
      ]
    },
    {
      "cell_type": "code",
      "metadata": {
        "id": "idw9cHF3tSMl",
        "colab": {
          "base_uri": "https://localhost:8080/"
        },
        "outputId": "0f8aacf3-c790-4e6f-afeb-0c5406e99078"
      },
      "source": [
        "# Cantidad de words encontradas en el corpus\n",
        "print(\"Cantidad de words distintas en el corpus:\", len(w2v_model.wv.vocab))"
      ],
      "execution_count": null,
      "outputs": [
        {
          "output_type": "stream",
          "name": "stdout",
          "text": [
            "Cantidad de words distintas en el corpus: 523\n"
          ]
        }
      ]
    },
    {
      "cell_type": "markdown",
      "metadata": {
        "id": "fC9mZ8DPk-UC"
      },
      "source": [
        "### 3 - Entrenar el modelo generador"
      ]
    },
    {
      "cell_type": "code",
      "metadata": {
        "id": "QSp-x0PAsq56",
        "colab": {
          "base_uri": "https://localhost:8080/"
        },
        "outputId": "150f4ce1-728e-4b1d-aeaa-52eb6f103717"
      },
      "source": [
        "# Entrenamos el modelo generador de vectores\n",
        "# Utilizamos nuestro callback\n",
        "w2v_model.train(sentence_tokens,\n",
        "                 total_examples=w2v_model.corpus_count,\n",
        "                 epochs=20,\n",
        "                 compute_loss = True,\n",
        "                 callbacks=[callback()]\n",
        "                 )"
      ],
      "execution_count": null,
      "outputs": [
        {
          "output_type": "stream",
          "name": "stdout",
          "text": [
            "Loss after epoch 0: 141628.34375\n",
            "Loss after epoch 1: 74423.96875\n",
            "Loss after epoch 2: 72339.6875\n",
            "Loss after epoch 3: 72246.21875\n",
            "Loss after epoch 4: 71785.125\n",
            "Loss after epoch 5: 71975.09375\n",
            "Loss after epoch 6: 72338.125\n",
            "Loss after epoch 7: 73623.4375\n",
            "Loss after epoch 8: 73091.625\n",
            "Loss after epoch 9: 73558.5625\n",
            "Loss after epoch 10: 73450.9375\n",
            "Loss after epoch 11: 73388.0625\n",
            "Loss after epoch 12: 72947.625\n",
            "Loss after epoch 13: 67410.8125\n",
            "Loss after epoch 14: 63964.0\n",
            "Loss after epoch 15: 63015.125\n",
            "Loss after epoch 16: 62892.125\n",
            "Loss after epoch 17: 63648.5\n",
            "Loss after epoch 18: 63255.5\n",
            "Loss after epoch 19: 63602.625\n"
          ]
        },
        {
          "output_type": "execute_result",
          "data": {
            "text/plain": [
              "(166408, 357940)"
            ]
          },
          "metadata": {},
          "execution_count": 52
        }
      ]
    },
    {
      "cell_type": "markdown",
      "metadata": {
        "id": "ddT9NVuNlCAe"
      },
      "source": [
        "### 4 - Ensayar"
      ]
    },
    {
      "cell_type": "code",
      "metadata": {
        "id": "6cHN9xGLuPEm",
        "colab": {
          "base_uri": "https://localhost:8080/"
        },
        "outputId": "9a839e28-69c6-4e92-8005-b7979e0ae16f"
      },
      "source": [
        "# Palabras que MÁS se relacionan con...:\n",
        "w2v_model.wv.most_similar(positive=[\"capital\"], topn=10)"
      ],
      "execution_count": null,
      "outputs": [
        {
          "output_type": "execute_result",
          "data": {
            "text/plain": [
              "[('national', 0.9925433397293091),\n",
              " ('become', 0.9920361042022705),\n",
              " ('wage', 0.9912710785865784),\n",
              " ('english', 0.9899228811264038),\n",
              " ('developed', 0.9898823499679565),\n",
              " ('since', 0.9897341728210449),\n",
              " ('were', 0.9893654584884644),\n",
              " ('where', 0.9893307685852051),\n",
              " ('because', 0.9890304803848267),\n",
              " ('system', 0.9889686107635498)]"
            ]
          },
          "metadata": {},
          "execution_count": 55
        }
      ]
    },
    {
      "cell_type": "code",
      "metadata": {
        "id": "47HiU5gdkdMq",
        "colab": {
          "base_uri": "https://localhost:8080/"
        },
        "outputId": "c5a2034c-c80d-454e-8270-8d42815e55c3"
      },
      "source": [
        "# Palabras que MENOS se relacionan con...:\n",
        "w2v_model.wv.most_similar(positive=[\"right\"], topn=10)"
      ],
      "execution_count": null,
      "outputs": [
        {
          "output_type": "execute_result",
          "data": {
            "text/plain": [
              "[('little', 0.998960554599762),\n",
              " ('express', 0.998708963394165),\n",
              " ('help', 0.9986742734909058),\n",
              " ('less', 0.9984412789344788),\n",
              " ('written', 0.9984068870544434),\n",
              " ('say', 0.9983329772949219),\n",
              " ('given', 0.9983271956443787),\n",
              " ('money', 0.9983250498771667),\n",
              " ('either', 0.9982715249061584),\n",
              " ('except', 0.9982256889343262)]"
            ]
          },
          "metadata": {},
          "execution_count": 57
        }
      ]
    },
    {
      "cell_type": "code",
      "metadata": {
        "id": "DT4Rvno2mD65",
        "colab": {
          "base_uri": "https://localhost:8080/"
        },
        "outputId": "678adc6e-16a3-44ed-a7c3-b1cc5a933611"
      },
      "source": [
        "# Palabras que MÁS se relacionan con...:\n",
        "w2v_model.wv.most_similar(positive=[\"power\"], topn=10)"
      ],
      "execution_count": null,
      "outputs": [
        {
          "output_type": "execute_result",
          "data": {
            "text/plain": [
              "[('order', 0.9991225004196167),\n",
              " ('supremacy', 0.9990338087081909),\n",
              " ('character', 0.9988534450531006),\n",
              " ('whose', 0.9987103343009949),\n",
              " ('made', 0.9986703991889954),\n",
              " ('great', 0.9985951781272888),\n",
              " ('then', 0.9982390403747559),\n",
              " ('england', 0.9981627464294434),\n",
              " ('germany', 0.9981406927108765),\n",
              " ('life', 0.9981369972229004)]"
            ]
          },
          "metadata": {},
          "execution_count": 59
        }
      ]
    },
    {
      "cell_type": "code",
      "metadata": {
        "id": "XPLDPgzBmQXt",
        "colab": {
          "base_uri": "https://localhost:8080/"
        },
        "outputId": "a254bec4-056e-4222-8837-3bf50ed96e33"
      },
      "source": [
        "# Palabras que MÁS se relacionan con...:\n",
        "w2v_model.wv.most_similar(positive=[\"state\"], topn=5)"
      ],
      "execution_count": null,
      "outputs": [
        {
          "output_type": "execute_result",
          "data": {
            "text/plain": [
              "[('existing', 0.9963316917419434),\n",
              " ('proletariat', 0.9959862232208252),\n",
              " ('between', 0.9944427609443665),\n",
              " ('classes', 0.994326114654541),\n",
              " ('movement', 0.9935375452041626)]"
            ]
          },
          "metadata": {},
          "execution_count": 60
        }
      ]
    },
    {
      "cell_type": "code",
      "metadata": {
        "id": "L_UvHPMMklOr",
        "colab": {
          "base_uri": "https://localhost:8080/"
        },
        "outputId": "43622f3f-02ca-4abe-a0ba-71111f2016c4"
      },
      "source": [
        "# Ensayar con una palabra que no está en el corpus (en vocab):\n",
        "w2v_model.wv.most_similar(negative=[\"work\"])"
      ],
      "execution_count": null,
      "outputs": [
        {
          "output_type": "execute_result",
          "data": {
            "text/plain": [
              "[('class', -0.3217197060585022),\n",
              " ('working', -0.36751803755760193),\n",
              " ('modern', -0.38811030983924866),\n",
              " ('has', -0.4405629634857178),\n",
              " ('conditions', -0.45894092321395874),\n",
              " ('against', -0.4654366970062256),\n",
              " ('production', -0.4761267304420471),\n",
              " ('bourgeois', -0.500950038433075),\n",
              " ('political', -0.5024511814117432),\n",
              " ('industry', -0.5061120390892029)]"
            ]
          },
          "metadata": {},
          "execution_count": 64
        }
      ]
    },
    {
      "cell_type": "markdown",
      "metadata": {
        "id": "_g8UVWe6lFmh"
      },
      "source": [
        "### 5 - Visualizar agrupación de vectores"
      ]
    },
    {
      "cell_type": "code",
      "metadata": {
        "id": "pDxEVXAivjr9"
      },
      "source": [
        "from sklearn.decomposition import IncrementalPCA    \n",
        "from sklearn.manifold import TSNE                   \n",
        "import numpy as np                                  \n",
        "\n",
        "def reduce_dimensions(model):\n",
        "    num_dimensions = 2  \n",
        "\n",
        "    vectors = np.asarray(model.wv.vectors)\n",
        "    labels = np.asarray(model.wv.index2word)  \n",
        "\n",
        "    tsne = TSNE(n_components=num_dimensions, random_state=0)\n",
        "    vectors = tsne.fit_transform(vectors)\n",
        "\n",
        "    x_vals = [v[0] for v in vectors]\n",
        "    y_vals = [v[1] for v in vectors]\n",
        "    return x_vals, y_vals, labels"
      ],
      "execution_count": null,
      "outputs": []
    },
    {
      "cell_type": "code",
      "metadata": {
        "id": "NCCXtDpcugmd",
        "colab": {
          "base_uri": "https://localhost:8080/",
          "height": 542
        },
        "outputId": "578f59ad-a6f9-4808-ee1f-e8c98f2a1f56"
      },
      "source": [
        "# Graficar los embedddings en 2D\n",
        "import plotly.graph_objects as go\n",
        "import plotly.express as px\n",
        "\n",
        "x_vals, y_vals, labels = reduce_dimensions(w2v_model)\n",
        "\n",
        "MAX_WORDS=200\n",
        "fig = px.scatter(x=x_vals[:MAX_WORDS], y=y_vals[:MAX_WORDS], text=labels[:MAX_WORDS])\n",
        "fig.show(renderer=\"colab\") # esto para plotly en colab\n"
      ],
      "execution_count": null,
      "outputs": [
        {
          "output_type": "display_data",
          "data": {
            "text/html": [
              "<html>\n",
              "<head><meta charset=\"utf-8\" /></head>\n",
              "<body>\n",
              "    <div>\n",
              "            <script src=\"https://cdnjs.cloudflare.com/ajax/libs/mathjax/2.7.5/MathJax.js?config=TeX-AMS-MML_SVG\"></script><script type=\"text/javascript\">if (window.MathJax) {MathJax.Hub.Config({SVG: {font: \"STIX-Web\"}});}</script>\n",
              "                <script type=\"text/javascript\">window.PlotlyConfig = {MathJaxConfig: 'local'};</script>\n",
              "        <script src=\"https://cdn.plot.ly/plotly-latest.min.js\"></script>    \n",
              "            <div id=\"3dc302d2-7c63-4923-bdf2-d5e8658d3b5b\" class=\"plotly-graph-div\" style=\"height:525px; width:100%;\"></div>\n",
              "            <script type=\"text/javascript\">\n",
              "                \n",
              "                    window.PLOTLYENV=window.PLOTLYENV || {};\n",
              "                    \n",
              "                if (document.getElementById(\"3dc302d2-7c63-4923-bdf2-d5e8658d3b5b\")) {\n",
              "                    Plotly.newPlot(\n",
              "                        '3dc302d2-7c63-4923-bdf2-d5e8658d3b5b',\n",
              "                        [{\"hoverlabel\": {\"namelength\": 0}, \"hovertemplate\": \"x=%{x}<br>y=%{y}<br>text=%{text}\", \"legendgroup\": \"\", \"marker\": {\"color\": \"#636efa\", \"symbol\": \"circle\"}, \"mode\": \"markers+text\", \"name\": \"\", \"showlegend\": false, \"text\": [\"the\", \"of\", \"and\", \"in\", \"to\", \"a\", \"is\", \"by\", \"that\", \"with\", \"it\", \"class\", \"for\", \"all\", \"this\", \"as\", \"or\", \"bourgeois\", \"bourgeoisie\", \"gutenberg\", \"its\", \"you\", \"they\", \"project\", \"their\", \"are\", \"on\", \"has\", \"from\", \"society\", \"be\", \"but\", \"not\", \"at\", \"proletariat\", \"have\", \"which\", \"work\", \"into\", \"more\", \"production\", \"property\", \"tm\", \"was\", \"no\", \"conditions\", \"any\", \"working\", \"1\", \"labor\", \"social\", \"modern\", \"these\", \"one\", \"an\", \"other\", \"we\", \"new\", \"political\", \"do\", \"means\", \"against\", \"will\", \"socialism\", \"only\", \"his\", \"works\", \"up\", \"development\", \"capital\", \"state\", \"form\", \"so\", \"existence\", \"industry\", \"e\", \"been\", \"itself\", \"old\", \"foundation\", \"under\", \"german\", \"most\", \"can\", \"if\", \"electronic\", \"french\", \"classes\", \"every\", \"communists\", \"feudal\", \"had\", \"when\", \"whole\", \"own\", \"must\", \"therefore\", \"relations\", \"terms\", \"movement\", \"were\", \"between\", \"them\", \"history\", \"such\", \"may\", \"first\", \"what\", \"manifesto\", \"communist\", \"out\", \"struggle\", \"i\", \"use\", \"historical\", \"revolutionary\", \"abolition\", \"your\", \"marx\", \"place\", \"revolution\", \"time\", \"there\", \"without\", \"section\", \"agreement\", \"party\", \"also\", \"common\", \"thus\", \"ruling\", \"france\", \"who\", \"communism\", \"he\", \"general\", \"existing\", \"character\", \"country\", \"ideas\", \"3\", \"away\", \"license\", \"middle\", \"then\", \"germany\", \"than\", \"present\", \"literature\", \"our\", \"cannot\", \"states\", \"longer\", \"public\", \"industrial\", \"free\", \"wage\", \"individual\", \"within\", \"archive\", \"even\", \"countries\", \"where\", \"how\", \"power\", \"capitalist\", \"full\", \"literary\", \"donations\", \"before\", \"very\", \"england\", \"about\", \"socialist\", \"being\", \"proletarians\", \"part\", \"set\", \"national\", \"order\", \"copyright\", \"copy\", \"org\", \"great\", \"action\", \"way\", \"become\", \"same\", \"exploitation\", \"many\", \"each\", \"antagonisms\", \"family\", \"interests\", \"laws\", \"petty\", \"united\", \"english\", \"different\", \"life\"], \"type\": \"scatter\", \"x\": [-28.989280700683594, -28.95214080810547, -26.281551361083984, 13.551740646362305, 20.776792526245117, 15.618162155151367, 9.518299102783203, -21.891969680786133, -11.745357513427734, 21.129648208618164, -13.175650596618652, -26.068981170654297, 12.573389053344727, 12.944853782653809, 28.378231048583984, -13.187499046325684, 30.306833267211914, -26.33379364013672, -23.379032135009766, 33.1902961730957, -25.071691513061523, 24.74217987060547, -12.535284042358398, 32.453243255615234, -18.179000854492188, 2.7022242546081543, 12.830099105834961, -15.317644119262695, 3.1204168796539307, -22.270971298217773, 9.683798789978027, -13.137738227844238, 8.321938514709473, 9.484126091003418, -22.8953800201416, 8.138355255126953, -10.7300386428833, 31.213991165161133, -22.96112060546875, -17.618364334106445, -27.095794677734375, -20.82871437072754, 33.02880096435547, -22.142478942871094, 8.923688888549805, -26.830224990844727, 30.204681396484375, -25.333576202392578, 24.996849060058594, -18.66466522216797, -25.76479721069336, -26.07631492614746, -15.678818702697754, -21.451139450073242, 16.664718627929688, 23.30333137512207, 8.22542667388916, -24.808406829833984, -23.487855911254883, 10.980652809143066, -26.145484924316406, -24.867431640625, 20.80752182006836, -13.403188705444336, 6.330399036407471, -25.319934844970703, 31.866077423095703, -2.177877187728882, -24.570934295654297, -16.46925926208496, -22.162500381469727, -11.677596092224121, 0.37788090109825134, -26.524368286132812, -25.236793518066406, 24.573896408081055, -12.405413627624512, -20.677501678466797, -25.951623916625977, 30.117427825927734, 13.94094181060791, -5.954978942871094, 5.533931732177734, 10.053424835205078, 23.78944206237793, 32.673095703125, -19.889623641967773, -22.107088088989258, -15.86566162109375, 4.290956974029541, -22.555675506591797, -14.1548490524292, 4.121861934661865, -22.20858383178711, -20.03410530090332, 20.78438949584961, -12.99137020111084, -21.461267471313477, 29.80631446838379, -22.719133377075195, -12.181831359863281, -21.613908767700195, -10.325393676757812, -22.070993423461914, -16.04517364501953, 10.91661262512207, -21.556840896606445, 3.9137916564941406, 13.83923625946045, -14.071438789367676, -11.147595405578613, -24.347768783569336, 21.559974670410156, 27.297576904296875, -20.003643035888672, -14.715605735778809, -19.79362678527832, -13.050402641296387, -12.384039878845215, -24.25571632385254, -20.58207893371582, -9.657841682434082, 6.568559169769287, 18.397876739501953, 18.67802619934082, 28.148521423339844, 10.109254837036133, -10.442641258239746, -11.010638236999512, -21.020414352416992, -22.036836624145508, -12.507365226745605, 6.4334397315979, -15.627653121948242, -4.628345966339111, 14.966508865356445, -22.569469451904297, -19.553319931030273, 3.2635536193847656, -9.837674140930176, 23.466842651367188, 5.3478851318359375, 31.061702728271484, -23.145065307617188, -14.216585159301758, -13.147850036621094, 7.19329833984375, -22.204097747802734, -18.53302001953125, 1.131928563117981, 3.0146329402923584, 7.077176094055176, 9.245267868041992, 18.325166702270508, -24.495174407958984, 23.065650939941406, -17.777429580688477, 24.519620895385742, 14.43703842163086, 31.205650329589844, -2.9296352863311768, -3.351865291595459, -12.110629081726074, 2.0028140544891357, -20.362009048461914, -17.8669376373291, 30.649917602539062, 31.612010955810547, 20.950233459472656, 5.748958110809326, 2.718343734741211, -18.275144577026367, 27.85602378845215, -18.529542922973633, -16.315292358398438, -4.178884029388428, 23.723731994628906, 21.2337646484375, -16.986257553100586, -19.826547622680664, 25.30488395690918, 22.4268741607666, 28.90771484375, -18.983123779296875, -16.062419891357422, 14.783722877502441, -7.968186378479004, -2.568885326385498, -17.2927303314209, -10.97224235534668, -4.576754093170166, -20.99835968017578, -5.996929168701172, -15.479728698730469, -10.947061538696289, -23.450782775878906, 17.43794822692871, -8.426762580871582, 1.0812231302261353, -23.17064094543457], \"xaxis\": \"x\", \"y\": [-18.421371459960938, -18.49222183227539, -12.851926803588867, 0.12050174176692963, 12.144283294677734, 15.547018051147461, 0.7807751893997192, -5.330935478210449, -18.931867599487305, 9.605268478393555, -19.567724227905273, -23.205123901367188, 19.02728843688965, 18.465675354003906, 18.9674072265625, -16.188077926635742, 18.635236740112305, -20.6671085357666, -18.99561309814453, 22.753143310546875, -16.90996742248535, 7.459913730621338, -20.500349044799805, 24.151390075683594, -20.788267135620117, -13.226114273071289, 18.665367126464844, -21.290145874023438, 11.685877799987793, -21.569780349731445, -12.653908729553223, -20.247081756591797, -15.631263732910156, 0.7589322924613953, -18.34419822692871, -16.1901912689209, -1.9863340854644775, 20.888317108154297, -20.998905181884766, -18.734785079956055, -20.716764450073242, -21.813783645629883, 24.15343475341797, -9.998656272888184, -13.349920272827148, -21.31913948059082, 18.9721736907959, -23.00483512878418, -0.26725971698760986, -15.552725791931152, -19.266319274902344, -22.245323181152344, 6.048946380615234, -11.561067581176758, 11.306408882141113, 16.570106506347656, -15.827771186828613, -14.769268035888672, -21.309463500976562, -14.113997459411621, -15.779871940612793, -21.512847900390625, 12.049604415893555, -1.9579859972000122, -13.640291213989258, -16.433595657348633, 22.8579044342041, -6.87400484085083, -19.128780364990234, -13.369770050048828, -18.6713809967041, -15.109207153320312, -13.328706741333008, -19.029617309570312, -20.753110885620117, -0.29656583070755005, -21.21052360534668, -16.36758804321289, -18.86797332763672, 23.9663028717041, 17.379955291748047, 8.193145751953125, 13.970427513122559, -12.528108596801758, 7.491034030914307, 23.389829635620117, -12.523127555847168, -19.62667465209961, -18.021127700805664, -13.6111478805542, -13.941189765930176, -20.09749984741211, -11.129051208496094, -15.258063316345215, -20.309173583984375, 11.156595230102539, -17.823612213134766, -21.2548885345459, 21.32584571838379, -16.912960052490234, -12.022857666015625, -19.52547264099121, -16.685590744018555, -14.931689262390137, -8.62731647491455, -12.785367012023926, -8.508339881896973, -13.029051780700684, 18.132984161376953, 10.267253875732422, -3.3168060779571533, -20.229280471801758, -0.16088180243968964, 19.78382682800293, -7.830657482147217, -17.137502670288086, -2.540217399597168, 9.442452430725098, -12.669610023498535, -13.41090202331543, -12.530320167541504, -15.548584938049316, -11.794711112976074, 11.479405403137207, 1.4332051277160645, 18.74691390991211, 13.862316131591797, -15.612553596496582, -13.127203941345215, -14.153294563293457, -17.794048309326172, -10.807690620422363, -4.371753215789795, -15.255159378051758, 10.527139663696289, 7.444751739501953, -19.413589477539062, -8.87686538696289, -8.521794319152832, -14.332320213317871, 1.2179439067840576, -13.59499740600586, 22.535245895385742, -15.766083717346191, -11.267411231994629, -11.311530113220215, 2.5991244316101074, -3.0272631645202637, 9.204651832580566, -1.7626636028289795, -11.613391876220703, -10.461787223815918, -12.322072982788086, 16.476547241210938, -12.638623237609863, 19.400794982910156, -14.187480926513672, 19.450284957885742, 10.403494834899902, 24.28326988220215, -11.365047454833984, 7.98672342300415, -17.309864044189453, 12.900321006774902, -10.679712295532227, -2.384376287460327, 21.907363891601562, 24.132568359375, 16.929861068725586, 2.975980758666992, 10.128321647644043, -11.19124984741211, 22.46500587463379, 9.209543228149414, -6.522593975067139, -0.3297460377216339, 18.039987564086914, 5.612179279327393, -12.288627624511719, -9.495269775390625, 17.420774459838867, 9.699298858642578, 22.663997650146484, -9.620207786560059, -7.245274543762207, 14.042387008666992, -10.369952201843262, 9.620634078979492, 1.9745557308197021, -8.285353660583496, -4.7540178298950195, -17.48990821838379, -12.375490188598633, -15.129538536071777, 10.107048034667969, -12.021537780761719, 7.98376989364624, -9.76366901397705, 11.07959270477295, -13.328994750976562], \"yaxis\": \"y\"}],\n",
              "                        {\"legend\": {\"tracegroupgap\": 0}, \"margin\": {\"t\": 60}, \"template\": {\"data\": {\"bar\": [{\"error_x\": {\"color\": \"#2a3f5f\"}, \"error_y\": {\"color\": \"#2a3f5f\"}, \"marker\": {\"line\": {\"color\": \"#E5ECF6\", \"width\": 0.5}}, \"type\": \"bar\"}], \"barpolar\": [{\"marker\": {\"line\": {\"color\": \"#E5ECF6\", \"width\": 0.5}}, \"type\": \"barpolar\"}], \"carpet\": [{\"aaxis\": {\"endlinecolor\": \"#2a3f5f\", \"gridcolor\": \"white\", \"linecolor\": \"white\", \"minorgridcolor\": \"white\", \"startlinecolor\": \"#2a3f5f\"}, \"baxis\": {\"endlinecolor\": \"#2a3f5f\", \"gridcolor\": \"white\", \"linecolor\": \"white\", \"minorgridcolor\": \"white\", \"startlinecolor\": \"#2a3f5f\"}, \"type\": \"carpet\"}], \"choropleth\": [{\"colorbar\": {\"outlinewidth\": 0, \"ticks\": \"\"}, \"type\": \"choropleth\"}], \"contour\": [{\"colorbar\": {\"outlinewidth\": 0, \"ticks\": \"\"}, \"colorscale\": [[0.0, \"#0d0887\"], [0.1111111111111111, \"#46039f\"], [0.2222222222222222, \"#7201a8\"], [0.3333333333333333, \"#9c179e\"], [0.4444444444444444, \"#bd3786\"], [0.5555555555555556, \"#d8576b\"], [0.6666666666666666, \"#ed7953\"], [0.7777777777777778, \"#fb9f3a\"], [0.8888888888888888, \"#fdca26\"], [1.0, \"#f0f921\"]], \"type\": \"contour\"}], \"contourcarpet\": [{\"colorbar\": {\"outlinewidth\": 0, \"ticks\": \"\"}, \"type\": \"contourcarpet\"}], \"heatmap\": [{\"colorbar\": {\"outlinewidth\": 0, \"ticks\": \"\"}, \"colorscale\": [[0.0, \"#0d0887\"], [0.1111111111111111, \"#46039f\"], [0.2222222222222222, \"#7201a8\"], [0.3333333333333333, \"#9c179e\"], [0.4444444444444444, \"#bd3786\"], [0.5555555555555556, \"#d8576b\"], [0.6666666666666666, \"#ed7953\"], [0.7777777777777778, \"#fb9f3a\"], [0.8888888888888888, \"#fdca26\"], [1.0, \"#f0f921\"]], \"type\": \"heatmap\"}], \"heatmapgl\": [{\"colorbar\": {\"outlinewidth\": 0, \"ticks\": \"\"}, \"colorscale\": [[0.0, \"#0d0887\"], [0.1111111111111111, \"#46039f\"], [0.2222222222222222, \"#7201a8\"], [0.3333333333333333, \"#9c179e\"], [0.4444444444444444, \"#bd3786\"], [0.5555555555555556, \"#d8576b\"], [0.6666666666666666, \"#ed7953\"], [0.7777777777777778, \"#fb9f3a\"], [0.8888888888888888, \"#fdca26\"], [1.0, \"#f0f921\"]], \"type\": \"heatmapgl\"}], \"histogram\": [{\"marker\": {\"colorbar\": {\"outlinewidth\": 0, \"ticks\": \"\"}}, \"type\": \"histogram\"}], \"histogram2d\": [{\"colorbar\": {\"outlinewidth\": 0, \"ticks\": \"\"}, \"colorscale\": [[0.0, \"#0d0887\"], [0.1111111111111111, \"#46039f\"], [0.2222222222222222, \"#7201a8\"], [0.3333333333333333, \"#9c179e\"], [0.4444444444444444, \"#bd3786\"], [0.5555555555555556, \"#d8576b\"], [0.6666666666666666, \"#ed7953\"], [0.7777777777777778, \"#fb9f3a\"], [0.8888888888888888, \"#fdca26\"], [1.0, \"#f0f921\"]], \"type\": \"histogram2d\"}], \"histogram2dcontour\": [{\"colorbar\": {\"outlinewidth\": 0, \"ticks\": \"\"}, \"colorscale\": [[0.0, \"#0d0887\"], [0.1111111111111111, \"#46039f\"], [0.2222222222222222, \"#7201a8\"], [0.3333333333333333, \"#9c179e\"], [0.4444444444444444, \"#bd3786\"], [0.5555555555555556, \"#d8576b\"], [0.6666666666666666, \"#ed7953\"], [0.7777777777777778, \"#fb9f3a\"], [0.8888888888888888, \"#fdca26\"], [1.0, \"#f0f921\"]], \"type\": \"histogram2dcontour\"}], \"mesh3d\": [{\"colorbar\": {\"outlinewidth\": 0, \"ticks\": \"\"}, \"type\": \"mesh3d\"}], \"parcoords\": [{\"line\": {\"colorbar\": {\"outlinewidth\": 0, \"ticks\": \"\"}}, \"type\": \"parcoords\"}], \"pie\": [{\"automargin\": true, \"type\": \"pie\"}], \"scatter\": [{\"marker\": {\"colorbar\": {\"outlinewidth\": 0, \"ticks\": \"\"}}, \"type\": \"scatter\"}], \"scatter3d\": [{\"line\": {\"colorbar\": {\"outlinewidth\": 0, \"ticks\": \"\"}}, \"marker\": {\"colorbar\": {\"outlinewidth\": 0, \"ticks\": \"\"}}, \"type\": \"scatter3d\"}], \"scattercarpet\": [{\"marker\": {\"colorbar\": {\"outlinewidth\": 0, \"ticks\": \"\"}}, \"type\": \"scattercarpet\"}], \"scattergeo\": [{\"marker\": {\"colorbar\": {\"outlinewidth\": 0, \"ticks\": \"\"}}, \"type\": \"scattergeo\"}], \"scattergl\": [{\"marker\": {\"colorbar\": {\"outlinewidth\": 0, \"ticks\": \"\"}}, \"type\": \"scattergl\"}], \"scattermapbox\": [{\"marker\": {\"colorbar\": {\"outlinewidth\": 0, \"ticks\": \"\"}}, \"type\": \"scattermapbox\"}], \"scatterpolar\": [{\"marker\": {\"colorbar\": {\"outlinewidth\": 0, \"ticks\": \"\"}}, \"type\": \"scatterpolar\"}], \"scatterpolargl\": [{\"marker\": {\"colorbar\": {\"outlinewidth\": 0, \"ticks\": \"\"}}, \"type\": \"scatterpolargl\"}], \"scatterternary\": [{\"marker\": {\"colorbar\": {\"outlinewidth\": 0, \"ticks\": \"\"}}, \"type\": \"scatterternary\"}], \"surface\": [{\"colorbar\": {\"outlinewidth\": 0, \"ticks\": \"\"}, \"colorscale\": [[0.0, \"#0d0887\"], [0.1111111111111111, \"#46039f\"], [0.2222222222222222, \"#7201a8\"], [0.3333333333333333, \"#9c179e\"], [0.4444444444444444, \"#bd3786\"], [0.5555555555555556, \"#d8576b\"], [0.6666666666666666, \"#ed7953\"], [0.7777777777777778, \"#fb9f3a\"], [0.8888888888888888, \"#fdca26\"], [1.0, \"#f0f921\"]], \"type\": \"surface\"}], \"table\": [{\"cells\": {\"fill\": {\"color\": \"#EBF0F8\"}, \"line\": {\"color\": \"white\"}}, \"header\": {\"fill\": {\"color\": \"#C8D4E3\"}, \"line\": {\"color\": \"white\"}}, \"type\": \"table\"}]}, \"layout\": {\"annotationdefaults\": {\"arrowcolor\": \"#2a3f5f\", \"arrowhead\": 0, \"arrowwidth\": 1}, \"coloraxis\": {\"colorbar\": {\"outlinewidth\": 0, \"ticks\": \"\"}}, \"colorscale\": {\"diverging\": [[0, \"#8e0152\"], [0.1, \"#c51b7d\"], [0.2, \"#de77ae\"], [0.3, \"#f1b6da\"], [0.4, \"#fde0ef\"], [0.5, \"#f7f7f7\"], [0.6, \"#e6f5d0\"], [0.7, \"#b8e186\"], [0.8, \"#7fbc41\"], [0.9, \"#4d9221\"], [1, \"#276419\"]], \"sequential\": [[0.0, \"#0d0887\"], [0.1111111111111111, \"#46039f\"], [0.2222222222222222, \"#7201a8\"], [0.3333333333333333, \"#9c179e\"], [0.4444444444444444, \"#bd3786\"], [0.5555555555555556, \"#d8576b\"], [0.6666666666666666, \"#ed7953\"], [0.7777777777777778, \"#fb9f3a\"], [0.8888888888888888, \"#fdca26\"], [1.0, \"#f0f921\"]], \"sequentialminus\": [[0.0, \"#0d0887\"], [0.1111111111111111, \"#46039f\"], [0.2222222222222222, \"#7201a8\"], [0.3333333333333333, \"#9c179e\"], [0.4444444444444444, \"#bd3786\"], [0.5555555555555556, \"#d8576b\"], [0.6666666666666666, \"#ed7953\"], [0.7777777777777778, \"#fb9f3a\"], [0.8888888888888888, \"#fdca26\"], [1.0, \"#f0f921\"]]}, \"colorway\": [\"#636efa\", \"#EF553B\", \"#00cc96\", \"#ab63fa\", \"#FFA15A\", \"#19d3f3\", \"#FF6692\", \"#B6E880\", \"#FF97FF\", \"#FECB52\"], \"font\": {\"color\": \"#2a3f5f\"}, \"geo\": {\"bgcolor\": \"white\", \"lakecolor\": \"white\", \"landcolor\": \"#E5ECF6\", \"showlakes\": true, \"showland\": true, \"subunitcolor\": \"white\"}, \"hoverlabel\": {\"align\": \"left\"}, \"hovermode\": \"closest\", \"mapbox\": {\"style\": \"light\"}, \"paper_bgcolor\": \"white\", \"plot_bgcolor\": \"#E5ECF6\", \"polar\": {\"angularaxis\": {\"gridcolor\": \"white\", \"linecolor\": \"white\", \"ticks\": \"\"}, \"bgcolor\": \"#E5ECF6\", \"radialaxis\": {\"gridcolor\": \"white\", \"linecolor\": \"white\", \"ticks\": \"\"}}, \"scene\": {\"xaxis\": {\"backgroundcolor\": \"#E5ECF6\", \"gridcolor\": \"white\", \"gridwidth\": 2, \"linecolor\": \"white\", \"showbackground\": true, \"ticks\": \"\", \"zerolinecolor\": \"white\"}, \"yaxis\": {\"backgroundcolor\": \"#E5ECF6\", \"gridcolor\": \"white\", \"gridwidth\": 2, \"linecolor\": \"white\", \"showbackground\": true, \"ticks\": \"\", \"zerolinecolor\": \"white\"}, \"zaxis\": {\"backgroundcolor\": \"#E5ECF6\", \"gridcolor\": \"white\", \"gridwidth\": 2, \"linecolor\": \"white\", \"showbackground\": true, \"ticks\": \"\", \"zerolinecolor\": \"white\"}}, \"shapedefaults\": {\"line\": {\"color\": \"#2a3f5f\"}}, \"ternary\": {\"aaxis\": {\"gridcolor\": \"white\", \"linecolor\": \"white\", \"ticks\": \"\"}, \"baxis\": {\"gridcolor\": \"white\", \"linecolor\": \"white\", \"ticks\": \"\"}, \"bgcolor\": \"#E5ECF6\", \"caxis\": {\"gridcolor\": \"white\", \"linecolor\": \"white\", \"ticks\": \"\"}}, \"title\": {\"x\": 0.05}, \"xaxis\": {\"automargin\": true, \"gridcolor\": \"white\", \"linecolor\": \"white\", \"ticks\": \"\", \"title\": {\"standoff\": 15}, \"zerolinecolor\": \"white\", \"zerolinewidth\": 2}, \"yaxis\": {\"automargin\": true, \"gridcolor\": \"white\", \"linecolor\": \"white\", \"ticks\": \"\", \"title\": {\"standoff\": 15}, \"zerolinecolor\": \"white\", \"zerolinewidth\": 2}}}, \"xaxis\": {\"anchor\": \"y\", \"domain\": [0.0, 1.0], \"title\": {\"text\": \"x\"}}, \"yaxis\": {\"anchor\": \"x\", \"domain\": [0.0, 1.0], \"title\": {\"text\": \"y\"}}},\n",
              "                        {\"responsive\": true}\n",
              "                    ).then(function(){\n",
              "                            \n",
              "var gd = document.getElementById('3dc302d2-7c63-4923-bdf2-d5e8658d3b5b');\n",
              "var x = new MutationObserver(function (mutations, observer) {{\n",
              "        var display = window.getComputedStyle(gd).display;\n",
              "        if (!display || display === 'none') {{\n",
              "            console.log([gd, 'removed!']);\n",
              "            Plotly.purge(gd);\n",
              "            observer.disconnect();\n",
              "        }}\n",
              "}});\n",
              "\n",
              "// Listen for the removal of the full notebook cells\n",
              "var notebookContainer = gd.closest('#notebook-container');\n",
              "if (notebookContainer) {{\n",
              "    x.observe(notebookContainer, {childList: true});\n",
              "}}\n",
              "\n",
              "// Listen for the clearing of the current output cell\n",
              "var outputEl = gd.closest('.output');\n",
              "if (outputEl) {{\n",
              "    x.observe(outputEl, {childList: true});\n",
              "}}\n",
              "\n",
              "                        })\n",
              "                };\n",
              "                \n",
              "            </script>\n",
              "        </div>\n",
              "</body>\n",
              "</html>"
            ]
          },
          "metadata": {}
        }
      ]
    },
    {
      "cell_type": "code",
      "metadata": {
        "id": "w0Dh-wKBZw5v"
      },
      "source": [
        ""
      ],
      "execution_count": null,
      "outputs": []
    }
  ]
}