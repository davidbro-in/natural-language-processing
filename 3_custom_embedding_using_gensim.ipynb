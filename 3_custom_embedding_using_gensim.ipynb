{
  "nbformat": 4,
  "nbformat_minor": 0,
  "metadata": {
    "colab": {
      "name": "3_custom_embedding_using_gensim.ipynb",
      "provenance": [],
      "collapsed_sections": [],
      "include_colab_link": true
    },
    "kernelspec": {
      "name": "python3",
      "display_name": "Python 3"
    }
  },
  "cells": [
    {
      "cell_type": "markdown",
      "metadata": {
        "id": "view-in-github",
        "colab_type": "text"
      },
      "source": [
        "<a href=\"https://colab.research.google.com/github/davidbro-in/natural-language-processing/blob/main/3_custom_embedding_using_gensim.ipynb\" target=\"_parent\"><img src=\"https://colab.research.google.com/assets/colab-badge.svg\" alt=\"Open In Colab\"/></a>"
      ]
    },
    {
      "cell_type": "markdown",
      "metadata": {
        "id": "sZd5yLnnHOK0"
      },
      "source": [
        "<a href=\"https://www.inove.com.ar\"><img src=\"https://github.com/hernancontigiani/ceia_memorias_especializacion/raw/master/Figures/logoFIUBA.jpg\" width=\"500\" align=\"center\"></a>\n",
        "\n",
        "\n",
        "# Procesamiento de lenguaje natural\n",
        "## Custom embedddings con Gensim\n",
        "\n"
      ]
    },
    {
      "cell_type": "markdown",
      "metadata": {
        "id": "vA7nqkumo9z9"
      },
      "source": [
        "### Objetivo\n",
        "El objetivo es utilizar documentos / corpus para crear embeddings de palabras basado en ese contexto. Se utilizará canciones de bandas para generar los embeddings, es decir, que los vectores tendrán la forma en función de como esa banda haya utilizado las palabras en sus canciones."
      ]
    },
    {
      "cell_type": "code",
      "metadata": {
        "id": "lFToQs5FK5uZ"
      },
      "source": [
        "import pandas as pd\n",
        "import matplotlib.pyplot as plt\n",
        "import seaborn as sns\n",
        "\n",
        "import multiprocessing\n",
        "from gensim.models import Word2Vec"
      ],
      "execution_count": 1,
      "outputs": []
    },
    {
      "cell_type": "markdown",
      "metadata": {
        "id": "g07zJxG7H9vG"
      },
      "source": [
        "### Datos\n",
        "Utilizaremos como dataset el manifiesto comunista."
      ]
    },
    {
      "cell_type": "code",
      "metadata": {
        "colab": {
          "base_uri": "https://localhost:8080/"
        },
        "id": "LhLYZbzSn8Gc",
        "outputId": "a7103dac-8d4b-4fbc-fa8c-d53803ea4195"
      },
      "source": [
        "!wget https://www.gutenberg.org/cache/epub/31193/pg31193.txt"
      ],
      "execution_count": 4,
      "outputs": [
        {
          "output_type": "stream",
          "name": "stdout",
          "text": [
            "--2021-10-20 04:12:07--  https://www.gutenberg.org/cache/epub/31193/pg31193.txt\n",
            "Resolving www.gutenberg.org (www.gutenberg.org)... 152.19.134.47, 2610:28:3090:3000:0:bad:cafe:47\n",
            "Connecting to www.gutenberg.org (www.gutenberg.org)|152.19.134.47|:443... connected.\n",
            "HTTP request sent, awaiting response... 200 OK\n",
            "Length: 114408 (112K) [text/plain]\n",
            "Saving to: ‘pg31193.txt’\n",
            "\n",
            "pg31193.txt         100%[===================>] 111.73K   394KB/s    in 0.3s    \n",
            "\n",
            "2021-10-20 04:12:08 (394 KB/s) - ‘pg31193.txt’ saved [114408/114408]\n",
            "\n"
          ]
        }
      ]
    },
    {
      "cell_type": "code",
      "metadata": {
        "id": "ticoqYD1Z3I7",
        "colab": {
          "base_uri": "https://localhost:8080/",
          "height": 258
        },
        "outputId": "2d24e2ad-f239-4263-b255-58c2ee847601"
      },
      "source": [
        "# Armar el dataset utilizando salto de línea para separar las oraciones/docs\n",
        "df = pd.read_csv('/content/pg31193.txt', sep='/n', header=None)\n",
        "df.head()"
      ],
      "execution_count": 5,
      "outputs": [
        {
          "output_type": "stream",
          "name": "stderr",
          "text": [
            "/usr/local/lib/python3.7/dist-packages/ipykernel_launcher.py:2: ParserWarning: Falling back to the 'python' engine because the 'c' engine does not support regex separators (separators > 1 char and different from '\\s+' are interpreted as regex); you can avoid this warning by specifying engine='python'.\n",
            "  \n"
          ]
        },
        {
          "output_type": "execute_result",
          "data": {
            "text/html": [
              "<div>\n",
              "<style scoped>\n",
              "    .dataframe tbody tr th:only-of-type {\n",
              "        vertical-align: middle;\n",
              "    }\n",
              "\n",
              "    .dataframe tbody tr th {\n",
              "        vertical-align: top;\n",
              "    }\n",
              "\n",
              "    .dataframe thead th {\n",
              "        text-align: right;\n",
              "    }\n",
              "</style>\n",
              "<table border=\"1\" class=\"dataframe\">\n",
              "  <thead>\n",
              "    <tr style=\"text-align: right;\">\n",
              "      <th></th>\n",
              "      <th>0</th>\n",
              "    </tr>\n",
              "  </thead>\n",
              "  <tbody>\n",
              "    <tr>\n",
              "      <th>0</th>\n",
              "      <td>The Project Gutenberg EBook of Manifesto of th...</td>\n",
              "    </tr>\n",
              "    <tr>\n",
              "      <th>1</th>\n",
              "      <td>Karl Marx and Frederick Engels</td>\n",
              "    </tr>\n",
              "    <tr>\n",
              "      <th>2</th>\n",
              "      <td>This eBook is for the use of anyone anywhere a...</td>\n",
              "    </tr>\n",
              "    <tr>\n",
              "      <th>3</th>\n",
              "      <td>almost no restrictions whatsoever.  You may co...</td>\n",
              "    </tr>\n",
              "    <tr>\n",
              "      <th>4</th>\n",
              "      <td>re-use it under the terms of the Project Guten...</td>\n",
              "    </tr>\n",
              "  </tbody>\n",
              "</table>\n",
              "</div>"
            ],
            "text/plain": [
              "                                                   0\n",
              "0  The Project Gutenberg EBook of Manifesto of th...\n",
              "1                     Karl Marx and Frederick Engels\n",
              "2  This eBook is for the use of anyone anywhere a...\n",
              "3  almost no restrictions whatsoever.  You may co...\n",
              "4  re-use it under the terms of the Project Guten..."
            ]
          },
          "metadata": {},
          "execution_count": 5
        }
      ]
    },
    {
      "cell_type": "code",
      "metadata": {
        "id": "LEpKubK9XzXN",
        "colab": {
          "base_uri": "https://localhost:8080/"
        },
        "outputId": "7c532772-a131-427a-a8cc-0c2459dccc98"
      },
      "source": [
        "print(\"Cantidad de documentos:\", df.shape[0])"
      ],
      "execution_count": 6,
      "outputs": [
        {
          "output_type": "stream",
          "name": "stdout",
          "text": [
            "Cantidad de documentos: 1796\n"
          ]
        }
      ]
    },
    {
      "cell_type": "markdown",
      "metadata": {
        "id": "ab94qaFlrA1G"
      },
      "source": [
        "### 1 - Preprocesamiento"
      ]
    },
    {
      "cell_type": "code",
      "metadata": {
        "id": "rIsmMWmjrDHd"
      },
      "source": [
        "from keras.preprocessing.text import text_to_word_sequence\n",
        "\n",
        "sentence_tokens = []\n",
        "# Recorrer todas las filas y transformar las oraciones\n",
        "# en una secuencia de palabras (esto podría realizarse con NLTK o spaCy también)\n",
        "for _, row in df[:None].iterrows():\n",
        "    sentence_tokens.append(text_to_word_sequence(row[0]))"
      ],
      "execution_count": 7,
      "outputs": []
    },
    {
      "cell_type": "code",
      "metadata": {
        "id": "CHepi_DGrbhq",
        "colab": {
          "base_uri": "https://localhost:8080/"
        },
        "outputId": "4132be75-b81a-4915-e654-c9bbee7d3dd9"
      },
      "source": [
        "# Demos un vistazo\n",
        "sentence_tokens[:2]"
      ],
      "execution_count": 8,
      "outputs": [
        {
          "output_type": "execute_result",
          "data": {
            "text/plain": [
              "[['the',\n",
              "  'project',\n",
              "  'gutenberg',\n",
              "  'ebook',\n",
              "  'of',\n",
              "  'manifesto',\n",
              "  'of',\n",
              "  'the',\n",
              "  'communist',\n",
              "  'party',\n",
              "  'by'],\n",
              " ['karl', 'marx', 'and', 'frederick', 'engels']]"
            ]
          },
          "metadata": {},
          "execution_count": 8
        }
      ]
    },
    {
      "cell_type": "markdown",
      "metadata": {
        "id": "BaXV6nlHr5Aa"
      },
      "source": [
        "### 2 - Crear los vectores (word2vec)"
      ]
    },
    {
      "cell_type": "code",
      "metadata": {
        "id": "OSb0v7h8r7hK"
      },
      "source": [
        "from gensim.models.callbacks import CallbackAny2Vec\n",
        "# Durante el entrenamiento gensim por defecto no informa el \"loss\" en cada época\n",
        "# Sobracargamos el callback para poder tener esta información\n",
        "class callback(CallbackAny2Vec):\n",
        "    \"\"\"\n",
        "    Callback to print loss after each epoch\n",
        "    \"\"\"\n",
        "    def __init__(self):\n",
        "        self.epoch = 0\n",
        "\n",
        "    def on_epoch_end(self, model):\n",
        "        loss = model.get_latest_training_loss()\n",
        "        if self.epoch == 0:\n",
        "            print('Loss after epoch {}: {}'.format(self.epoch, loss))\n",
        "        else:\n",
        "            print('Loss after epoch {}: {}'.format(self.epoch, loss- self.loss_previous_step))\n",
        "        self.epoch += 1\n",
        "        self.loss_previous_step = loss"
      ],
      "execution_count": 9,
      "outputs": []
    },
    {
      "cell_type": "code",
      "metadata": {
        "id": "i0wnDdv9sJ47"
      },
      "source": [
        "# Crearmos el modelo generador de vectoeres\n",
        "# En este caso utilizaremos la estructura modelo Skipgram\n",
        "w2v_model = Word2Vec(min_count=5,    # frecuencia mínima de palabra para incluirla en el vocabulario\n",
        "                     window=2,       # cant de palabras antes y desp de la predicha\n",
        "                     size=300,       # dimensionalidad de los vectores \n",
        "                     negative=20,    # cantidad de negative samples... 0 es no se usa\n",
        "                     workers=1,      # si tienen más cores pueden cambiar este valor\n",
        "                     sg=1)           # modelo 0:CBOW  1:skipgram"
      ],
      "execution_count": 10,
      "outputs": []
    },
    {
      "cell_type": "code",
      "metadata": {
        "id": "5lTt8wErsf17"
      },
      "source": [
        "# Buildear el vocabularui con los tokens\n",
        "w2v_model.build_vocab(sentence_tokens)"
      ],
      "execution_count": 11,
      "outputs": []
    },
    {
      "cell_type": "code",
      "metadata": {
        "id": "TNc9qt4os5AT",
        "colab": {
          "base_uri": "https://localhost:8080/"
        },
        "outputId": "6c611c79-4b8a-4aac-c7c6-3516af97cc42"
      },
      "source": [
        "# Cantidad de filas/docs encontradas en el corpus\n",
        "print(\"Cantidad de docs en el corpus:\", w2v_model.corpus_count)"
      ],
      "execution_count": 12,
      "outputs": [
        {
          "output_type": "stream",
          "name": "stdout",
          "text": [
            "Cantidad de docs en el corpus: 1796\n"
          ]
        }
      ]
    },
    {
      "cell_type": "code",
      "metadata": {
        "id": "idw9cHF3tSMl",
        "colab": {
          "base_uri": "https://localhost:8080/"
        },
        "outputId": "40ee1f03-12b8-4d89-a036-a68d47ef9145"
      },
      "source": [
        "# Cantidad de words encontradas en el corpus\n",
        "print(\"Cantidad de words distintas en el corpus:\", len(w2v_model.wv.vocab))"
      ],
      "execution_count": 13,
      "outputs": [
        {
          "output_type": "stream",
          "name": "stdout",
          "text": [
            "Cantidad de words distintas en el corpus: 523\n"
          ]
        }
      ]
    },
    {
      "cell_type": "markdown",
      "metadata": {
        "id": "fC9mZ8DPk-UC"
      },
      "source": [
        "### 3 - Entrenar el modelo generador"
      ]
    },
    {
      "cell_type": "code",
      "metadata": {
        "id": "QSp-x0PAsq56",
        "colab": {
          "base_uri": "https://localhost:8080/"
        },
        "outputId": "0457659c-8f2a-42f4-9333-f0d04c35915d"
      },
      "source": [
        "# Entrenamos el modelo generador de vectores\n",
        "# Utilizamos nuestro callback\n",
        "w2v_model.train(sentence_tokens,\n",
        "                 total_examples=w2v_model.corpus_count,\n",
        "                 epochs=20,\n",
        "                 compute_loss = True,\n",
        "                 callbacks=[callback()]\n",
        "                 )"
      ],
      "execution_count": 14,
      "outputs": [
        {
          "output_type": "stream",
          "name": "stdout",
          "text": [
            "Loss after epoch 0: 141801.171875\n",
            "Loss after epoch 1: 74296.515625\n",
            "Loss after epoch 2: 72341.53125\n",
            "Loss after epoch 3: 72245.71875\n",
            "Loss after epoch 4: 71782.25\n",
            "Loss after epoch 5: 71966.21875\n",
            "Loss after epoch 6: 72309.71875\n",
            "Loss after epoch 7: 73580.25\n",
            "Loss after epoch 8: 73048.8125\n",
            "Loss after epoch 9: 73517.6875\n",
            "Loss after epoch 10: 73399.75\n",
            "Loss after epoch 11: 73346.1875\n",
            "Loss after epoch 12: 72901.75\n",
            "Loss after epoch 13: 67412.6875\n",
            "Loss after epoch 14: 63934.125\n",
            "Loss after epoch 15: 62974.75\n",
            "Loss after epoch 16: 62865.0\n",
            "Loss after epoch 17: 63617.75\n",
            "Loss after epoch 18: 63221.25\n",
            "Loss after epoch 19: 63571.75\n"
          ]
        },
        {
          "output_type": "execute_result",
          "data": {
            "text/plain": [
              "(166408, 357940)"
            ]
          },
          "metadata": {},
          "execution_count": 14
        }
      ]
    },
    {
      "cell_type": "markdown",
      "metadata": {
        "id": "ddT9NVuNlCAe"
      },
      "source": [
        "### 4 - Ensayar"
      ]
    },
    {
      "cell_type": "code",
      "metadata": {
        "id": "6cHN9xGLuPEm",
        "colab": {
          "base_uri": "https://localhost:8080/"
        },
        "outputId": "4136811d-8849-4e5c-baae-a051d41765e4"
      },
      "source": [
        "# Palabras que MÁS se relacionan con...:\n",
        "w2v_model.wv.most_similar(positive=[\"capital\"], topn=10)"
      ],
      "execution_count": 15,
      "outputs": [
        {
          "output_type": "execute_result",
          "data": {
            "text/plain": [
              "[('national', 0.9929433465003967),\n",
              " ('become', 0.9923353791236877),\n",
              " ('wage', 0.9917056560516357),\n",
              " ('since', 0.9908077716827393),\n",
              " ('where', 0.9907176494598389),\n",
              " ('ever', 0.9903765916824341),\n",
              " ('english', 0.99002605676651),\n",
              " ('developed', 0.9900137782096863),\n",
              " ('because', 0.9897047877311707),\n",
              " ('ideas', 0.9895086884498596)]"
            ]
          },
          "metadata": {},
          "execution_count": 15
        }
      ]
    },
    {
      "cell_type": "code",
      "metadata": {
        "id": "47HiU5gdkdMq",
        "colab": {
          "base_uri": "https://localhost:8080/"
        },
        "outputId": "e3c2b3b7-d848-41fc-f0be-9fd071f1bf22"
      },
      "source": [
        "# Palabras que MENOS se relacionan con...:\n",
        "w2v_model.wv.most_similar(positive=[\"right\"], topn=10)"
      ],
      "execution_count": 16,
      "outputs": [
        {
          "output_type": "execute_result",
          "data": {
            "text/plain": [
              "[('little', 0.9990811944007874),\n",
              " ('help', 0.9986866116523743),\n",
              " ('express', 0.9986482858657837),\n",
              " ('written', 0.9986408948898315),\n",
              " ('money', 0.9983272552490234),\n",
              " ('say', 0.9983018636703491),\n",
              " ('except', 0.9982881546020508),\n",
              " ('given', 0.9982777833938599),\n",
              " ('less', 0.9982442855834961),\n",
              " ('either', 0.998201847076416)]"
            ]
          },
          "metadata": {},
          "execution_count": 16
        }
      ]
    },
    {
      "cell_type": "code",
      "metadata": {
        "id": "DT4Rvno2mD65",
        "colab": {
          "base_uri": "https://localhost:8080/"
        },
        "outputId": "12cc55fb-d9a5-4022-8b39-6785ce32fb61"
      },
      "source": [
        "# Palabras que MÁS se relacionan con...:\n",
        "w2v_model.wv.most_similar(positive=[\"power\"], topn=10)"
      ],
      "execution_count": 17,
      "outputs": [
        {
          "output_type": "execute_result",
          "data": {
            "text/plain": [
              "[('order', 0.9991291165351868),\n",
              " ('supremacy', 0.9990858435630798),\n",
              " ('character', 0.9989020824432373),\n",
              " ('whose', 0.9987571835517883),\n",
              " ('made', 0.9985997080802917),\n",
              " ('then', 0.9984824061393738),\n",
              " ('great', 0.9984492063522339),\n",
              " ('life', 0.9981537461280823),\n",
              " ('material', 0.9980261921882629),\n",
              " ('england', 0.9979739189147949)]"
            ]
          },
          "metadata": {},
          "execution_count": 17
        }
      ]
    },
    {
      "cell_type": "code",
      "metadata": {
        "id": "XPLDPgzBmQXt",
        "colab": {
          "base_uri": "https://localhost:8080/"
        },
        "outputId": "417c53f3-9be9-450b-f0f3-390fa3012ecd"
      },
      "source": [
        "# Palabras que MÁS se relacionan con...:\n",
        "w2v_model.wv.most_similar(positive=[\"state\"], topn=5)"
      ],
      "execution_count": 18,
      "outputs": [
        {
          "output_type": "execute_result",
          "data": {
            "text/plain": [
              "[('existing', 0.996415376663208),\n",
              " ('proletariat', 0.9960031509399414),\n",
              " ('classes', 0.9943127632141113),\n",
              " ('between', 0.9936330914497375),\n",
              " ('ruling', 0.9936048984527588)]"
            ]
          },
          "metadata": {},
          "execution_count": 18
        }
      ]
    },
    {
      "cell_type": "code",
      "metadata": {
        "id": "L_UvHPMMklOr",
        "colab": {
          "base_uri": "https://localhost:8080/"
        },
        "outputId": "6b71dc51-5e09-425b-de92-980c3631b629"
      },
      "source": [
        "# Ensayar con una palabra que no está en el corpus (en vocab):\n",
        "w2v_model.wv.most_similar(negative=[\"work\"])"
      ],
      "execution_count": 19,
      "outputs": [
        {
          "output_type": "execute_result",
          "data": {
            "text/plain": [
              "[('class', -0.30893924832344055),\n",
              " ('working', -0.3570108413696289),\n",
              " ('modern', -0.3726712763309479),\n",
              " ('conditions', -0.43376317620277405),\n",
              " ('has', -0.4401751160621643),\n",
              " ('against', -0.45149046182632446),\n",
              " ('production', -0.45636609196662903),\n",
              " ('bourgeois', -0.4832618832588196),\n",
              " ('industry', -0.4859587550163269),\n",
              " ('political', -0.49210095405578613)]"
            ]
          },
          "metadata": {},
          "execution_count": 19
        }
      ]
    },
    {
      "cell_type": "markdown",
      "metadata": {
        "id": "_g8UVWe6lFmh"
      },
      "source": [
        "### 5 - Visualizar agrupación de vectores"
      ]
    },
    {
      "cell_type": "code",
      "metadata": {
        "id": "pDxEVXAivjr9"
      },
      "source": [
        "from sklearn.decomposition import IncrementalPCA    \n",
        "from sklearn.manifold import TSNE                   \n",
        "import numpy as np                                  \n",
        "\n",
        "def reduce_dimensions(model):\n",
        "    num_dimensions = 2  \n",
        "\n",
        "    vectors = np.asarray(model.wv.vectors)\n",
        "    labels = np.asarray(model.wv.index2word)  \n",
        "\n",
        "    tsne = TSNE(n_components=num_dimensions, random_state=0)\n",
        "    vectors = tsne.fit_transform(vectors)\n",
        "\n",
        "    x_vals = [v[0] for v in vectors]\n",
        "    y_vals = [v[1] for v in vectors]\n",
        "    return x_vals, y_vals, labels"
      ],
      "execution_count": 20,
      "outputs": []
    },
    {
      "cell_type": "code",
      "metadata": {
        "id": "NCCXtDpcugmd",
        "colab": {
          "base_uri": "https://localhost:8080/",
          "height": 542
        },
        "outputId": "2b5db10f-e4c5-4d3b-edf9-345c21325751"
      },
      "source": [
        "# Graficar los embedddings en 2D\n",
        "import plotly.graph_objects as go\n",
        "import plotly.express as px\n",
        "\n",
        "x_vals, y_vals, labels = reduce_dimensions(w2v_model)\n",
        "\n",
        "MAX_WORDS=200\n",
        "fig = px.scatter(x=x_vals[:MAX_WORDS], y=y_vals[:MAX_WORDS], text=labels[:MAX_WORDS])\n",
        "fig.show(renderer=\"colab\") # esto para plotly en colab\n"
      ],
      "execution_count": 21,
      "outputs": [
        {
          "output_type": "display_data",
          "data": {
            "text/html": [
              "<html>\n",
              "<head><meta charset=\"utf-8\" /></head>\n",
              "<body>\n",
              "    <div>\n",
              "            <script src=\"https://cdnjs.cloudflare.com/ajax/libs/mathjax/2.7.5/MathJax.js?config=TeX-AMS-MML_SVG\"></script><script type=\"text/javascript\">if (window.MathJax) {MathJax.Hub.Config({SVG: {font: \"STIX-Web\"}});}</script>\n",
              "                <script type=\"text/javascript\">window.PlotlyConfig = {MathJaxConfig: 'local'};</script>\n",
              "        <script src=\"https://cdn.plot.ly/plotly-latest.min.js\"></script>    \n",
              "            <div id=\"cdaf3e3a-9672-407f-9596-2f9d76ec7120\" class=\"plotly-graph-div\" style=\"height:525px; width:100%;\"></div>\n",
              "            <script type=\"text/javascript\">\n",
              "                \n",
              "                    window.PLOTLYENV=window.PLOTLYENV || {};\n",
              "                    \n",
              "                if (document.getElementById(\"cdaf3e3a-9672-407f-9596-2f9d76ec7120\")) {\n",
              "                    Plotly.newPlot(\n",
              "                        'cdaf3e3a-9672-407f-9596-2f9d76ec7120',\n",
              "                        [{\"hoverlabel\": {\"namelength\": 0}, \"hovertemplate\": \"x=%{x}<br>y=%{y}<br>text=%{text}\", \"legendgroup\": \"\", \"marker\": {\"color\": \"#636efa\", \"symbol\": \"circle\"}, \"mode\": \"markers+text\", \"name\": \"\", \"showlegend\": false, \"text\": [\"the\", \"of\", \"and\", \"in\", \"to\", \"a\", \"is\", \"by\", \"that\", \"with\", \"it\", \"class\", \"for\", \"all\", \"this\", \"as\", \"or\", \"bourgeois\", \"bourgeoisie\", \"gutenberg\", \"its\", \"you\", \"they\", \"project\", \"their\", \"are\", \"on\", \"has\", \"from\", \"society\", \"be\", \"but\", \"not\", \"at\", \"proletariat\", \"have\", \"which\", \"work\", \"into\", \"more\", \"production\", \"property\", \"tm\", \"was\", \"no\", \"conditions\", \"any\", \"working\", \"1\", \"labor\", \"social\", \"modern\", \"these\", \"one\", \"an\", \"other\", \"we\", \"new\", \"political\", \"do\", \"means\", \"against\", \"will\", \"socialism\", \"only\", \"his\", \"works\", \"up\", \"development\", \"capital\", \"state\", \"form\", \"so\", \"existence\", \"industry\", \"e\", \"been\", \"itself\", \"old\", \"foundation\", \"under\", \"german\", \"most\", \"can\", \"if\", \"electronic\", \"french\", \"classes\", \"every\", \"communists\", \"feudal\", \"had\", \"when\", \"whole\", \"own\", \"must\", \"therefore\", \"relations\", \"terms\", \"movement\", \"were\", \"between\", \"them\", \"history\", \"such\", \"may\", \"first\", \"what\", \"manifesto\", \"communist\", \"out\", \"struggle\", \"i\", \"use\", \"historical\", \"revolutionary\", \"abolition\", \"your\", \"marx\", \"place\", \"revolution\", \"time\", \"there\", \"without\", \"section\", \"agreement\", \"party\", \"also\", \"common\", \"thus\", \"ruling\", \"france\", \"who\", \"communism\", \"he\", \"general\", \"existing\", \"character\", \"country\", \"ideas\", \"3\", \"away\", \"license\", \"middle\", \"then\", \"germany\", \"than\", \"present\", \"literature\", \"our\", \"cannot\", \"states\", \"longer\", \"public\", \"industrial\", \"free\", \"wage\", \"individual\", \"within\", \"archive\", \"even\", \"countries\", \"where\", \"how\", \"power\", \"capitalist\", \"full\", \"literary\", \"donations\", \"before\", \"very\", \"england\", \"about\", \"socialist\", \"being\", \"proletarians\", \"part\", \"set\", \"national\", \"order\", \"copyright\", \"copy\", \"org\", \"great\", \"action\", \"way\", \"become\", \"same\", \"exploitation\", \"many\", \"each\", \"antagonisms\", \"family\", \"interests\", \"laws\", \"petty\", \"united\", \"english\", \"different\", \"life\"], \"type\": \"scatter\", \"x\": [-25.901098251342773, -25.90604019165039, -18.950071334838867, 11.006659507751465, 21.509092330932617, 18.153703689575195, 2.6471948623657227, -18.10968017578125, -9.22234058380127, 21.253171920776367, -10.740044593811035, -24.585590362548828, 15.642977714538574, 15.626472473144531, 30.561405181884766, -11.03056526184082, 32.330692291259766, -22.429868698120117, -21.934368133544922, 36.447731018066406, -19.003923416137695, 24.260068893432617, -9.94919490814209, 36.33843994140625, -15.968446731567383, 3.5900778770446777, 15.686376571655273, -12.726276397705078, 9.00023078918457, -19.534677505493164, 10.93647289276123, -10.561890602111816, 8.930068016052246, 2.6859092712402344, -21.795543670654297, 8.737505912780762, -16.52924919128418, 34.016265869140625, -20.227331161499023, -14.963268280029297, -22.360797882080078, -18.225910186767578, 36.8039436340332, -21.59101676940918, 10.360455513000488, -22.926074981689453, 32.375362396240234, -24.480363845825195, 22.89261245727539, -16.422866821289062, -21.228391647338867, -23.765953063964844, -16.117738723754883, -22.277786254882812, 17.85403060913086, 25.53961753845215, 8.856080055236816, -17.049169540405273, -20.766328811645508, 20.681467056274414, -18.4934024810791, -23.087032318115234, 21.52596664428711, -16.000411987304688, 7.472626209259033, -18.622961044311523, 35.29780960083008, -0.22690443694591522, -22.876811981201172, -14.403707504272461, -21.126901626586914, -9.903116226196289, 1.6929974555969238, -21.128353118896484, -22.68349266052246, 22.450836181640625, -9.866435050964355, -22.698444366455078, -20.6622257232666, 34.18239974975586, 16.245418548583984, -4.1888885498046875, 9.162134170532227, 11.260107040405273, 23.367313385009766, 36.2286376953125, -22.40282440185547, -20.310321807861328, -13.273103713989258, 5.413710594177246, -19.66292953491211, -11.484675407409668, 4.930478572845459, -21.134727478027344, -17.776966094970703, 21.459218978881836, -10.729142189025879, -18.974353790283203, 32.926605224609375, -21.265464782714844, -10.784367561340332, -19.944366455078125, -8.18968391418457, -21.086889266967773, -18.199731826782227, 11.927783012390137, -21.243925094604492, 5.052912712097168, 16.422306060791016, -4.886080741882324, -15.881263732910156, -22.865812301635742, 19.607202529907227, 30.16663932800293, -19.49893569946289, -12.088186264038086, -20.773515701293945, -6.047311782836914, -10.246750831604004, -17.82016944885254, -21.750953674316406, -7.9931416511535645, 7.402177333831787, 19.34580421447754, 16.2696533203125, 30.77599334716797, 12.649273872375488, -8.688005447387695, -9.976115226745605, -21.60588264465332, -22.418682098388672, -13.01546859741211, 7.376713275909424, -13.111635208129883, -0.3223719000816345, 15.010374069213867, -20.730850219726562, -18.78688621520996, 3.8424549102783203, -8.271536827087402, 21.683195114135742, 6.549726486206055, 34.50108337402344, -20.97099494934082, -13.040000915527344, -12.258417129516602, 7.339756965637207, -19.143564224243164, -14.194491386413574, -2.949704170227051, 4.044505596160889, 7.946310043334961, 10.572973251342773, 21.337055206298828, -18.99140739440918, 26.090566635131836, -15.977726936340332, 27.49601173400879, 15.3508882522583, 35.322845458984375, -1.4232916831970215, -0.9056231379508972, -10.170597076416016, 5.152284622192383, -19.762922286987305, -16.759572982788086, 33.89535140991211, 35.61308288574219, 23.554018020629883, 5.616672039031982, 3.873227119445801, -17.088651657104492, 31.67937469482422, -14.188270568847656, -17.01457977294922, -11.204219818115234, 26.230321884155273, 20.55914878845215, -14.975581169128418, -19.114011764526367, 27.726118087768555, 22.50072479248047, 32.673126220703125, -18.139148712158203, -17.15060806274414, 16.820768356323242, -6.965828895568848, -0.035702429711818695, -10.342110633850098, -11.262401580810547, -5.084874629974365, -22.6153507232666, -8.424209594726562, -13.041267395019531, -3.4413158893585205, -20.07308006286621, 17.427152633666992, -7.6276092529296875, 4.26126766204834, -20.10611915588379], \"xaxis\": \"x\", \"y\": [-20.04510498046875, -20.090652465820312, -13.857242584228516, -0.4360809028148651, 7.447728157043457, 12.239123344421387, 15.635514259338379, 0.9700767397880554, -17.658342361450195, 4.925112724304199, -18.601057052612305, -23.935062408447266, 16.11599349975586, 15.455357551574707, 11.008478164672852, -15.03598690032959, 9.976613998413086, -23.512134552001953, -20.20236587524414, 12.732793807983398, -19.145544052124023, 2.434197425842285, -19.38271141052246, 14.132094383239746, -20.58770179748535, -10.698354721069336, 15.68551254272461, -20.728471755981445, 11.684456825256348, -22.0576171875, -9.0020112991333, -19.249788284301758, -12.343017578125, 15.872940063476562, -19.524904251098633, -12.831292152404785, 3.5300378799438477, 11.720085144042969, -21.459592819213867, -18.583274841308594, -24.22028350830078, -21.896059036254883, 13.883761405944824, -11.309015274047852, -9.813141822814941, -24.133922576904297, 10.297791481018066, -23.085708618164062, -4.129519462585449, -16.585412979125977, -22.6961727142334, -23.855667114257812, 5.323622703552246, -12.623100280761719, 7.752730369567871, 10.683292388916016, -12.5364408493042, -16.562936782836914, -21.74500846862793, 17.004161834716797, -17.988555908203125, -22.651531219482422, 7.316226005554199, 0.24736763536930084, -10.536848068237305, -18.881677627563477, 13.250333786010742, -4.099753379821777, -20.783815383911133, -13.637237548828125, -19.504568099975586, -14.21498966217041, -10.578651428222656, -23.31254768371582, -22.399580001831055, -4.146585941314697, -20.0476016998291, -16.64359474182129, -23.020767211914062, 14.707858085632324, 14.495858192443848, 9.663837432861328, 13.718446731567383, -8.68175983428955, 2.626962900161743, 13.388307571411133, -13.937357902526855, -20.138219833374023, -17.81605339050293, -10.719314575195312, -16.48050880432129, -19.32108497619629, -8.560436248779297, -16.183345794677734, -20.131864547729492, 6.632706642150879, -16.977493286132812, -21.874858856201172, 12.603071212768555, -18.19677734375, -11.162468910217285, -19.977048873901367, -15.198704719543457, -16.23636817932129, -3.9260337352752686, -8.12529468536377, -9.81013011932373, -10.154230117797852, 15.097723960876465, 0.47537556290626526, 2.8783152103424072, -21.56102180480957, -3.6193454265594482, 12.147113800048828, -9.592281341552734, -16.354156494140625, -3.415040969848633, 0.16381393373012543, -10.852065086364746, -15.190826416015625, -13.996907234191895, -13.888948440551758, -8.577954292297363, 8.052367210388184, -1.4317671060562134, 10.996424674987793, 12.511663436889648, -14.133846282958984, -12.360904693603516, -14.965581893920898, -18.97373390197754, -9.743165969848633, 16.34075927734375, -15.221816062927246, 13.94313907623291, 5.436641216278076, -20.424087524414062, -10.353022575378418, -6.0656561851501465, -12.748366355895996, -2.5654866695404053, -10.600122451782227, 13.177441596984863, -17.232824325561523, -11.27575397491455, -10.841835021972656, 3.8156826496124268, -7.015017509460449, 8.24152946472168, 11.456504821777344, -9.423316955566406, -6.398764133453369, -9.046619415283203, 11.024016380310059, -15.09790325164795, 13.136067390441895, -14.828104019165039, 12.639416694641113, 8.2847261428833, 14.557416915893555, -9.341496467590332, 10.392838478088379, -16.292770385742188, 13.616961479187012, -11.857638359069824, -5.955687046051025, 12.849933624267578, 14.337362289428711, 11.63117504119873, 4.262877464294434, 9.524384498596191, -11.666010856628418, 14.258353233337402, 8.247308731079102, -2.7124810218811035, 5.897936820983887, 11.783058166503906, 1.827264428138733, -12.765579223632812, -11.127310752868652, 10.728222846984863, 4.96790075302124, 14.067556381225586, -10.9793062210083, -3.8551409244537354, 11.348570823669434, -9.056147575378418, 11.883295059204102, -2.145270586013794, -8.113892555236816, -4.3655595779418945, -18.105987548828125, -1.6608920097351074, -15.069975852966309, 2.630568504333496, -14.604681015014648, 4.730550289154053, -8.654836654663086, 12.01144790649414, -15.35078239440918], \"yaxis\": \"y\"}],\n",
              "                        {\"legend\": {\"tracegroupgap\": 0}, \"margin\": {\"t\": 60}, \"template\": {\"data\": {\"bar\": [{\"error_x\": {\"color\": \"#2a3f5f\"}, \"error_y\": {\"color\": \"#2a3f5f\"}, \"marker\": {\"line\": {\"color\": \"#E5ECF6\", \"width\": 0.5}}, \"type\": \"bar\"}], \"barpolar\": [{\"marker\": {\"line\": {\"color\": \"#E5ECF6\", \"width\": 0.5}}, \"type\": \"barpolar\"}], \"carpet\": [{\"aaxis\": {\"endlinecolor\": \"#2a3f5f\", \"gridcolor\": \"white\", \"linecolor\": \"white\", \"minorgridcolor\": \"white\", \"startlinecolor\": \"#2a3f5f\"}, \"baxis\": {\"endlinecolor\": \"#2a3f5f\", \"gridcolor\": \"white\", \"linecolor\": \"white\", \"minorgridcolor\": \"white\", \"startlinecolor\": \"#2a3f5f\"}, \"type\": \"carpet\"}], \"choropleth\": [{\"colorbar\": {\"outlinewidth\": 0, \"ticks\": \"\"}, \"type\": \"choropleth\"}], \"contour\": [{\"colorbar\": {\"outlinewidth\": 0, \"ticks\": \"\"}, \"colorscale\": [[0.0, \"#0d0887\"], [0.1111111111111111, \"#46039f\"], [0.2222222222222222, \"#7201a8\"], [0.3333333333333333, \"#9c179e\"], [0.4444444444444444, \"#bd3786\"], [0.5555555555555556, \"#d8576b\"], [0.6666666666666666, \"#ed7953\"], [0.7777777777777778, \"#fb9f3a\"], [0.8888888888888888, \"#fdca26\"], [1.0, \"#f0f921\"]], \"type\": \"contour\"}], \"contourcarpet\": [{\"colorbar\": {\"outlinewidth\": 0, \"ticks\": \"\"}, \"type\": \"contourcarpet\"}], \"heatmap\": [{\"colorbar\": {\"outlinewidth\": 0, \"ticks\": \"\"}, \"colorscale\": [[0.0, \"#0d0887\"], [0.1111111111111111, \"#46039f\"], [0.2222222222222222, \"#7201a8\"], [0.3333333333333333, \"#9c179e\"], [0.4444444444444444, \"#bd3786\"], [0.5555555555555556, \"#d8576b\"], [0.6666666666666666, \"#ed7953\"], [0.7777777777777778, \"#fb9f3a\"], [0.8888888888888888, \"#fdca26\"], [1.0, \"#f0f921\"]], \"type\": \"heatmap\"}], \"heatmapgl\": [{\"colorbar\": {\"outlinewidth\": 0, \"ticks\": \"\"}, \"colorscale\": [[0.0, \"#0d0887\"], [0.1111111111111111, \"#46039f\"], [0.2222222222222222, \"#7201a8\"], [0.3333333333333333, \"#9c179e\"], [0.4444444444444444, \"#bd3786\"], [0.5555555555555556, \"#d8576b\"], [0.6666666666666666, \"#ed7953\"], [0.7777777777777778, \"#fb9f3a\"], [0.8888888888888888, \"#fdca26\"], [1.0, \"#f0f921\"]], \"type\": \"heatmapgl\"}], \"histogram\": [{\"marker\": {\"colorbar\": {\"outlinewidth\": 0, \"ticks\": \"\"}}, \"type\": \"histogram\"}], \"histogram2d\": [{\"colorbar\": {\"outlinewidth\": 0, \"ticks\": \"\"}, \"colorscale\": [[0.0, \"#0d0887\"], [0.1111111111111111, \"#46039f\"], [0.2222222222222222, \"#7201a8\"], [0.3333333333333333, \"#9c179e\"], [0.4444444444444444, \"#bd3786\"], [0.5555555555555556, \"#d8576b\"], [0.6666666666666666, \"#ed7953\"], [0.7777777777777778, \"#fb9f3a\"], [0.8888888888888888, \"#fdca26\"], [1.0, \"#f0f921\"]], \"type\": \"histogram2d\"}], \"histogram2dcontour\": [{\"colorbar\": {\"outlinewidth\": 0, \"ticks\": \"\"}, \"colorscale\": [[0.0, \"#0d0887\"], [0.1111111111111111, \"#46039f\"], [0.2222222222222222, \"#7201a8\"], [0.3333333333333333, \"#9c179e\"], [0.4444444444444444, \"#bd3786\"], [0.5555555555555556, \"#d8576b\"], [0.6666666666666666, \"#ed7953\"], [0.7777777777777778, \"#fb9f3a\"], [0.8888888888888888, \"#fdca26\"], [1.0, \"#f0f921\"]], \"type\": \"histogram2dcontour\"}], \"mesh3d\": [{\"colorbar\": {\"outlinewidth\": 0, \"ticks\": \"\"}, \"type\": \"mesh3d\"}], \"parcoords\": [{\"line\": {\"colorbar\": {\"outlinewidth\": 0, \"ticks\": \"\"}}, \"type\": \"parcoords\"}], \"pie\": [{\"automargin\": true, \"type\": \"pie\"}], \"scatter\": [{\"marker\": {\"colorbar\": {\"outlinewidth\": 0, \"ticks\": \"\"}}, \"type\": \"scatter\"}], \"scatter3d\": [{\"line\": {\"colorbar\": {\"outlinewidth\": 0, \"ticks\": \"\"}}, \"marker\": {\"colorbar\": {\"outlinewidth\": 0, \"ticks\": \"\"}}, \"type\": \"scatter3d\"}], \"scattercarpet\": [{\"marker\": {\"colorbar\": {\"outlinewidth\": 0, \"ticks\": \"\"}}, \"type\": \"scattercarpet\"}], \"scattergeo\": [{\"marker\": {\"colorbar\": {\"outlinewidth\": 0, \"ticks\": \"\"}}, \"type\": \"scattergeo\"}], \"scattergl\": [{\"marker\": {\"colorbar\": {\"outlinewidth\": 0, \"ticks\": \"\"}}, \"type\": \"scattergl\"}], \"scattermapbox\": [{\"marker\": {\"colorbar\": {\"outlinewidth\": 0, \"ticks\": \"\"}}, \"type\": \"scattermapbox\"}], \"scatterpolar\": [{\"marker\": {\"colorbar\": {\"outlinewidth\": 0, \"ticks\": \"\"}}, \"type\": \"scatterpolar\"}], \"scatterpolargl\": [{\"marker\": {\"colorbar\": {\"outlinewidth\": 0, \"ticks\": \"\"}}, \"type\": \"scatterpolargl\"}], \"scatterternary\": [{\"marker\": {\"colorbar\": {\"outlinewidth\": 0, \"ticks\": \"\"}}, \"type\": \"scatterternary\"}], \"surface\": [{\"colorbar\": {\"outlinewidth\": 0, \"ticks\": \"\"}, \"colorscale\": [[0.0, \"#0d0887\"], [0.1111111111111111, \"#46039f\"], [0.2222222222222222, \"#7201a8\"], [0.3333333333333333, \"#9c179e\"], [0.4444444444444444, \"#bd3786\"], [0.5555555555555556, \"#d8576b\"], [0.6666666666666666, \"#ed7953\"], [0.7777777777777778, \"#fb9f3a\"], [0.8888888888888888, \"#fdca26\"], [1.0, \"#f0f921\"]], \"type\": \"surface\"}], \"table\": [{\"cells\": {\"fill\": {\"color\": \"#EBF0F8\"}, \"line\": {\"color\": \"white\"}}, \"header\": {\"fill\": {\"color\": \"#C8D4E3\"}, \"line\": {\"color\": \"white\"}}, \"type\": \"table\"}]}, \"layout\": {\"annotationdefaults\": {\"arrowcolor\": \"#2a3f5f\", \"arrowhead\": 0, \"arrowwidth\": 1}, \"coloraxis\": {\"colorbar\": {\"outlinewidth\": 0, \"ticks\": \"\"}}, \"colorscale\": {\"diverging\": [[0, \"#8e0152\"], [0.1, \"#c51b7d\"], [0.2, \"#de77ae\"], [0.3, \"#f1b6da\"], [0.4, \"#fde0ef\"], [0.5, \"#f7f7f7\"], [0.6, \"#e6f5d0\"], [0.7, \"#b8e186\"], [0.8, \"#7fbc41\"], [0.9, \"#4d9221\"], [1, \"#276419\"]], \"sequential\": [[0.0, \"#0d0887\"], [0.1111111111111111, \"#46039f\"], [0.2222222222222222, \"#7201a8\"], [0.3333333333333333, \"#9c179e\"], [0.4444444444444444, \"#bd3786\"], [0.5555555555555556, \"#d8576b\"], [0.6666666666666666, \"#ed7953\"], [0.7777777777777778, \"#fb9f3a\"], [0.8888888888888888, \"#fdca26\"], [1.0, \"#f0f921\"]], \"sequentialminus\": [[0.0, \"#0d0887\"], [0.1111111111111111, \"#46039f\"], [0.2222222222222222, \"#7201a8\"], [0.3333333333333333, \"#9c179e\"], [0.4444444444444444, \"#bd3786\"], [0.5555555555555556, \"#d8576b\"], [0.6666666666666666, \"#ed7953\"], [0.7777777777777778, \"#fb9f3a\"], [0.8888888888888888, \"#fdca26\"], [1.0, \"#f0f921\"]]}, \"colorway\": [\"#636efa\", \"#EF553B\", \"#00cc96\", \"#ab63fa\", \"#FFA15A\", \"#19d3f3\", \"#FF6692\", \"#B6E880\", \"#FF97FF\", \"#FECB52\"], \"font\": {\"color\": \"#2a3f5f\"}, \"geo\": {\"bgcolor\": \"white\", \"lakecolor\": \"white\", \"landcolor\": \"#E5ECF6\", \"showlakes\": true, \"showland\": true, \"subunitcolor\": \"white\"}, \"hoverlabel\": {\"align\": \"left\"}, \"hovermode\": \"closest\", \"mapbox\": {\"style\": \"light\"}, \"paper_bgcolor\": \"white\", \"plot_bgcolor\": \"#E5ECF6\", \"polar\": {\"angularaxis\": {\"gridcolor\": \"white\", \"linecolor\": \"white\", \"ticks\": \"\"}, \"bgcolor\": \"#E5ECF6\", \"radialaxis\": {\"gridcolor\": \"white\", \"linecolor\": \"white\", \"ticks\": \"\"}}, \"scene\": {\"xaxis\": {\"backgroundcolor\": \"#E5ECF6\", \"gridcolor\": \"white\", \"gridwidth\": 2, \"linecolor\": \"white\", \"showbackground\": true, \"ticks\": \"\", \"zerolinecolor\": \"white\"}, \"yaxis\": {\"backgroundcolor\": \"#E5ECF6\", \"gridcolor\": \"white\", \"gridwidth\": 2, \"linecolor\": \"white\", \"showbackground\": true, \"ticks\": \"\", \"zerolinecolor\": \"white\"}, \"zaxis\": {\"backgroundcolor\": \"#E5ECF6\", \"gridcolor\": \"white\", \"gridwidth\": 2, \"linecolor\": \"white\", \"showbackground\": true, \"ticks\": \"\", \"zerolinecolor\": \"white\"}}, \"shapedefaults\": {\"line\": {\"color\": \"#2a3f5f\"}}, \"ternary\": {\"aaxis\": {\"gridcolor\": \"white\", \"linecolor\": \"white\", \"ticks\": \"\"}, \"baxis\": {\"gridcolor\": \"white\", \"linecolor\": \"white\", \"ticks\": \"\"}, \"bgcolor\": \"#E5ECF6\", \"caxis\": {\"gridcolor\": \"white\", \"linecolor\": \"white\", \"ticks\": \"\"}}, \"title\": {\"x\": 0.05}, \"xaxis\": {\"automargin\": true, \"gridcolor\": \"white\", \"linecolor\": \"white\", \"ticks\": \"\", \"title\": {\"standoff\": 15}, \"zerolinecolor\": \"white\", \"zerolinewidth\": 2}, \"yaxis\": {\"automargin\": true, \"gridcolor\": \"white\", \"linecolor\": \"white\", \"ticks\": \"\", \"title\": {\"standoff\": 15}, \"zerolinecolor\": \"white\", \"zerolinewidth\": 2}}}, \"xaxis\": {\"anchor\": \"y\", \"domain\": [0.0, 1.0], \"title\": {\"text\": \"x\"}}, \"yaxis\": {\"anchor\": \"x\", \"domain\": [0.0, 1.0], \"title\": {\"text\": \"y\"}}},\n",
              "                        {\"responsive\": true}\n",
              "                    ).then(function(){\n",
              "                            \n",
              "var gd = document.getElementById('cdaf3e3a-9672-407f-9596-2f9d76ec7120');\n",
              "var x = new MutationObserver(function (mutations, observer) {{\n",
              "        var display = window.getComputedStyle(gd).display;\n",
              "        if (!display || display === 'none') {{\n",
              "            console.log([gd, 'removed!']);\n",
              "            Plotly.purge(gd);\n",
              "            observer.disconnect();\n",
              "        }}\n",
              "}});\n",
              "\n",
              "// Listen for the removal of the full notebook cells\n",
              "var notebookContainer = gd.closest('#notebook-container');\n",
              "if (notebookContainer) {{\n",
              "    x.observe(notebookContainer, {childList: true});\n",
              "}}\n",
              "\n",
              "// Listen for the clearing of the current output cell\n",
              "var outputEl = gd.closest('.output');\n",
              "if (outputEl) {{\n",
              "    x.observe(outputEl, {childList: true});\n",
              "}}\n",
              "\n",
              "                        })\n",
              "                };\n",
              "                \n",
              "            </script>\n",
              "        </div>\n",
              "</body>\n",
              "</html>"
            ]
          },
          "metadata": {}
        }
      ]
    }
  ]
}