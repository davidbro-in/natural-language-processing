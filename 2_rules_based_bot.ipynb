{
  "nbformat": 4,
  "nbformat_minor": 0,
  "metadata": {
    "colab": {
      "name": "2_rules_based_bot.ipynb",
      "provenance": [],
      "collapsed_sections": [],
      "include_colab_link": true
    },
    "kernelspec": {
      "display_name": "Python 3",
      "name": "python3"
    },
    "language_info": {
      "name": "python"
    },
    "widgets": {
      "application/vnd.jupyter.widget-state+json": {
        "a7ea82655efe4c20abdbf3110ed6d68e": {
          "model_module": "@jupyter-widgets/controls",
          "model_name": "HBoxModel",
          "model_module_version": "1.5.0",
          "state": {
            "_dom_classes": [],
            "_model_module": "@jupyter-widgets/controls",
            "_model_module_version": "1.5.0",
            "_model_name": "HBoxModel",
            "_view_count": null,
            "_view_module": "@jupyter-widgets/controls",
            "_view_module_version": "1.5.0",
            "_view_name": "HBoxView",
            "box_style": "",
            "children": [
              "IPY_MODEL_ed5c861070da4a658ae1dddda9e91e02",
              "IPY_MODEL_48175a2df76f467d824bf4a8254470da",
              "IPY_MODEL_d822a9372d0a456c8bd9d9ac8bcbca04"
            ],
            "layout": "IPY_MODEL_4f2dbed7adc243b1afe1e8c6ac44325a"
          }
        },
        "ed5c861070da4a658ae1dddda9e91e02": {
          "model_module": "@jupyter-widgets/controls",
          "model_name": "HTMLModel",
          "model_module_version": "1.5.0",
          "state": {
            "_dom_classes": [],
            "_model_module": "@jupyter-widgets/controls",
            "_model_module_version": "1.5.0",
            "_model_name": "HTMLModel",
            "_view_count": null,
            "_view_module": "@jupyter-widgets/controls",
            "_view_module_version": "1.5.0",
            "_view_name": "HTMLView",
            "description": "",
            "description_tooltip": null,
            "layout": "IPY_MODEL_c4a6884b6e7b442b80f7bb6820c8f24b",
            "placeholder": "​",
            "style": "IPY_MODEL_84fa6e6a21034579b90a3f065c74604a",
            "value": "Downloading https://raw.githubusercontent.com/stanfordnlp/stanza-resources/main/resources_1.2.2.json: "
          }
        },
        "48175a2df76f467d824bf4a8254470da": {
          "model_module": "@jupyter-widgets/controls",
          "model_name": "FloatProgressModel",
          "model_module_version": "1.5.0",
          "state": {
            "_dom_classes": [],
            "_model_module": "@jupyter-widgets/controls",
            "_model_module_version": "1.5.0",
            "_model_name": "FloatProgressModel",
            "_view_count": null,
            "_view_module": "@jupyter-widgets/controls",
            "_view_module_version": "1.5.0",
            "_view_name": "ProgressView",
            "bar_style": "success",
            "description": "",
            "description_tooltip": null,
            "layout": "IPY_MODEL_82371bda1e5d4d2b9dff99ac0a4af6ed",
            "max": 24144,
            "min": 0,
            "orientation": "horizontal",
            "style": "IPY_MODEL_1950f8a5a2344b0d8aaeed05fe095fbc",
            "value": 24144
          }
        },
        "d822a9372d0a456c8bd9d9ac8bcbca04": {
          "model_module": "@jupyter-widgets/controls",
          "model_name": "HTMLModel",
          "model_module_version": "1.5.0",
          "state": {
            "_dom_classes": [],
            "_model_module": "@jupyter-widgets/controls",
            "_model_module_version": "1.5.0",
            "_model_name": "HTMLModel",
            "_view_count": null,
            "_view_module": "@jupyter-widgets/controls",
            "_view_module_version": "1.5.0",
            "_view_name": "HTMLView",
            "description": "",
            "description_tooltip": null,
            "layout": "IPY_MODEL_af574574b1b8469196424d26b517169c",
            "placeholder": "​",
            "style": "IPY_MODEL_1b6db7d271eb481b96f28877b8a4f85f",
            "value": " 140k/? [00:00&lt;00:00, 2.51MB/s]"
          }
        },
        "4f2dbed7adc243b1afe1e8c6ac44325a": {
          "model_module": "@jupyter-widgets/base",
          "model_name": "LayoutModel",
          "model_module_version": "1.2.0",
          "state": {
            "_model_module": "@jupyter-widgets/base",
            "_model_module_version": "1.2.0",
            "_model_name": "LayoutModel",
            "_view_count": null,
            "_view_module": "@jupyter-widgets/base",
            "_view_module_version": "1.2.0",
            "_view_name": "LayoutView",
            "align_content": null,
            "align_items": null,
            "align_self": null,
            "border": null,
            "bottom": null,
            "display": null,
            "flex": null,
            "flex_flow": null,
            "grid_area": null,
            "grid_auto_columns": null,
            "grid_auto_flow": null,
            "grid_auto_rows": null,
            "grid_column": null,
            "grid_gap": null,
            "grid_row": null,
            "grid_template_areas": null,
            "grid_template_columns": null,
            "grid_template_rows": null,
            "height": null,
            "justify_content": null,
            "justify_items": null,
            "left": null,
            "margin": null,
            "max_height": null,
            "max_width": null,
            "min_height": null,
            "min_width": null,
            "object_fit": null,
            "object_position": null,
            "order": null,
            "overflow": null,
            "overflow_x": null,
            "overflow_y": null,
            "padding": null,
            "right": null,
            "top": null,
            "visibility": null,
            "width": null
          }
        },
        "c4a6884b6e7b442b80f7bb6820c8f24b": {
          "model_module": "@jupyter-widgets/base",
          "model_name": "LayoutModel",
          "model_module_version": "1.2.0",
          "state": {
            "_model_module": "@jupyter-widgets/base",
            "_model_module_version": "1.2.0",
            "_model_name": "LayoutModel",
            "_view_count": null,
            "_view_module": "@jupyter-widgets/base",
            "_view_module_version": "1.2.0",
            "_view_name": "LayoutView",
            "align_content": null,
            "align_items": null,
            "align_self": null,
            "border": null,
            "bottom": null,
            "display": null,
            "flex": null,
            "flex_flow": null,
            "grid_area": null,
            "grid_auto_columns": null,
            "grid_auto_flow": null,
            "grid_auto_rows": null,
            "grid_column": null,
            "grid_gap": null,
            "grid_row": null,
            "grid_template_areas": null,
            "grid_template_columns": null,
            "grid_template_rows": null,
            "height": null,
            "justify_content": null,
            "justify_items": null,
            "left": null,
            "margin": null,
            "max_height": null,
            "max_width": null,
            "min_height": null,
            "min_width": null,
            "object_fit": null,
            "object_position": null,
            "order": null,
            "overflow": null,
            "overflow_x": null,
            "overflow_y": null,
            "padding": null,
            "right": null,
            "top": null,
            "visibility": null,
            "width": null
          }
        },
        "84fa6e6a21034579b90a3f065c74604a": {
          "model_module": "@jupyter-widgets/controls",
          "model_name": "DescriptionStyleModel",
          "model_module_version": "1.5.0",
          "state": {
            "_model_module": "@jupyter-widgets/controls",
            "_model_module_version": "1.5.0",
            "_model_name": "DescriptionStyleModel",
            "_view_count": null,
            "_view_module": "@jupyter-widgets/base",
            "_view_module_version": "1.2.0",
            "_view_name": "StyleView",
            "description_width": ""
          }
        },
        "82371bda1e5d4d2b9dff99ac0a4af6ed": {
          "model_module": "@jupyter-widgets/base",
          "model_name": "LayoutModel",
          "model_module_version": "1.2.0",
          "state": {
            "_model_module": "@jupyter-widgets/base",
            "_model_module_version": "1.2.0",
            "_model_name": "LayoutModel",
            "_view_count": null,
            "_view_module": "@jupyter-widgets/base",
            "_view_module_version": "1.2.0",
            "_view_name": "LayoutView",
            "align_content": null,
            "align_items": null,
            "align_self": null,
            "border": null,
            "bottom": null,
            "display": null,
            "flex": null,
            "flex_flow": null,
            "grid_area": null,
            "grid_auto_columns": null,
            "grid_auto_flow": null,
            "grid_auto_rows": null,
            "grid_column": null,
            "grid_gap": null,
            "grid_row": null,
            "grid_template_areas": null,
            "grid_template_columns": null,
            "grid_template_rows": null,
            "height": null,
            "justify_content": null,
            "justify_items": null,
            "left": null,
            "margin": null,
            "max_height": null,
            "max_width": null,
            "min_height": null,
            "min_width": null,
            "object_fit": null,
            "object_position": null,
            "order": null,
            "overflow": null,
            "overflow_x": null,
            "overflow_y": null,
            "padding": null,
            "right": null,
            "top": null,
            "visibility": null,
            "width": null
          }
        },
        "1950f8a5a2344b0d8aaeed05fe095fbc": {
          "model_module": "@jupyter-widgets/controls",
          "model_name": "ProgressStyleModel",
          "model_module_version": "1.5.0",
          "state": {
            "_model_module": "@jupyter-widgets/controls",
            "_model_module_version": "1.5.0",
            "_model_name": "ProgressStyleModel",
            "_view_count": null,
            "_view_module": "@jupyter-widgets/base",
            "_view_module_version": "1.2.0",
            "_view_name": "StyleView",
            "bar_color": null,
            "description_width": ""
          }
        },
        "af574574b1b8469196424d26b517169c": {
          "model_module": "@jupyter-widgets/base",
          "model_name": "LayoutModel",
          "model_module_version": "1.2.0",
          "state": {
            "_model_module": "@jupyter-widgets/base",
            "_model_module_version": "1.2.0",
            "_model_name": "LayoutModel",
            "_view_count": null,
            "_view_module": "@jupyter-widgets/base",
            "_view_module_version": "1.2.0",
            "_view_name": "LayoutView",
            "align_content": null,
            "align_items": null,
            "align_self": null,
            "border": null,
            "bottom": null,
            "display": null,
            "flex": null,
            "flex_flow": null,
            "grid_area": null,
            "grid_auto_columns": null,
            "grid_auto_flow": null,
            "grid_auto_rows": null,
            "grid_column": null,
            "grid_gap": null,
            "grid_row": null,
            "grid_template_areas": null,
            "grid_template_columns": null,
            "grid_template_rows": null,
            "height": null,
            "justify_content": null,
            "justify_items": null,
            "left": null,
            "margin": null,
            "max_height": null,
            "max_width": null,
            "min_height": null,
            "min_width": null,
            "object_fit": null,
            "object_position": null,
            "order": null,
            "overflow": null,
            "overflow_x": null,
            "overflow_y": null,
            "padding": null,
            "right": null,
            "top": null,
            "visibility": null,
            "width": null
          }
        },
        "1b6db7d271eb481b96f28877b8a4f85f": {
          "model_module": "@jupyter-widgets/controls",
          "model_name": "DescriptionStyleModel",
          "model_module_version": "1.5.0",
          "state": {
            "_model_module": "@jupyter-widgets/controls",
            "_model_module_version": "1.5.0",
            "_model_name": "DescriptionStyleModel",
            "_view_count": null,
            "_view_module": "@jupyter-widgets/base",
            "_view_module_version": "1.2.0",
            "_view_name": "StyleView",
            "description_width": ""
          }
        }
      }
    }
  },
  "cells": [
    {
      "cell_type": "markdown",
      "metadata": {
        "id": "view-in-github",
        "colab_type": "text"
      },
      "source": [
        "<a href=\"https://colab.research.google.com/github/davidbro-in/natural-language-processing/blob/main/2_rules_based_bot.ipynb\" target=\"_parent\"><img src=\"https://colab.research.google.com/assets/colab-badge.svg\" alt=\"Open In Colab\"/></a>"
      ]
    },
    {
      "cell_type": "markdown",
      "metadata": {
        "id": "NV8wZ0MTKjv_"
      },
      "source": [
        "<a href=\"https://www.inove.com.ar\"><img src=\"https://github.com/hernancontigiani/ceia_memorias_especializacion/raw/master/Figures/logoFIUBA.jpg\" width=\"500\" align=\"center\"></a>\n",
        "\n",
        "\n",
        "# Procesamiento de lenguaje natural\n",
        "## Bot basado en reglas con DNN + Spacy"
      ]
    },
    {
      "cell_type": "markdown",
      "metadata": {
        "id": "Z_9z3H-yKrcK"
      },
      "source": [
        "#### Datos\n",
        "Este ejemplo se inspiró en otro Bot en inglés creado con NLTK, lo tienen como referencia para hacer lo mismo en inglés:\\\n",
        "[LINK](https://towardsdatascience.com/a-simple-chatbot-in-python-with-deep-learning-3e8669997758)"
      ]
    },
    {
      "cell_type": "markdown",
      "metadata": {
        "id": "oCVZakCzAjGN"
      },
      "source": [
        "### 1 - Instalar dependencias\n",
        "Para poder utilizar Spacy en castellano es necesario agregar la librería \"spacy-stanza\" para lematizar palabras en español."
      ]
    },
    {
      "cell_type": "code",
      "metadata": {
        "id": "Zd8NLa4gsSmT"
      },
      "source": [
        "# La última versión de spacy-stanza (>1.0) es compatible solo con spacy >=3.0\n",
        "# Nota: spacy 3.0 incorpora al pepiline nlp transformers\n",
        "!pip install -U spacy==3.1 --quiet\n",
        "!pip install -U spacy-stanza==1.0.0 --quiet"
      ],
      "execution_count": null,
      "outputs": []
    },
    {
      "cell_type": "code",
      "metadata": {
        "id": "kzao7XO9NJAq"
      },
      "source": [
        "import json\n",
        "import string\n",
        "import random \n",
        "import numpy as np\n",
        "\n",
        "\n",
        "#vamos con redes neuronales. Podria ser con Random Forest tmb, total es un clasificador\n",
        "import tensorflow as tf \n",
        "from tensorflow.keras import Sequential \n",
        "from tensorflow.keras.layers import Dense, Dropout"
      ],
      "execution_count": null,
      "outputs": []
    },
    {
      "cell_type": "code",
      "metadata": {
        "colab": {
          "base_uri": "https://localhost:8080/",
          "height": 435,
          "referenced_widgets": [
            "a7ea82655efe4c20abdbf3110ed6d68e",
            "ed5c861070da4a658ae1dddda9e91e02",
            "48175a2df76f467d824bf4a8254470da",
            "d822a9372d0a456c8bd9d9ac8bcbca04",
            "4f2dbed7adc243b1afe1e8c6ac44325a",
            "c4a6884b6e7b442b80f7bb6820c8f24b",
            "84fa6e6a21034579b90a3f065c74604a",
            "82371bda1e5d4d2b9dff99ac0a4af6ed",
            "1950f8a5a2344b0d8aaeed05fe095fbc",
            "af574574b1b8469196424d26b517169c",
            "1b6db7d271eb481b96f28877b8a4f85f"
          ]
        },
        "id": "Z_ExOb8uvjqK",
        "outputId": "f4d21266-250b-4878-dfcf-301429c0eace"
      },
      "source": [
        "import stanza\n",
        "import spacy_stanza\n",
        "\n",
        "# Descargar el diccionario en español y armar el pipeline de NLP con spacy. Siempre debo descargar cuando uso el Colab, para que no se guarde en mi drive.\n",
        "stanza.download(\"es\")\n",
        "nlp = spacy_stanza.load_pipeline(\"es\")"
      ],
      "execution_count": null,
      "outputs": [
        {
          "data": {
            "application/vnd.jupyter.widget-view+json": {
              "model_id": "a7ea82655efe4c20abdbf3110ed6d68e",
              "version_major": 2,
              "version_minor": 0
            },
            "text/plain": [
              "Downloading https://raw.githubusercontent.com/stanfordnlp/stanza-resources/main/resources_1.2.2.json:   0%|   …"
            ]
          },
          "metadata": {},
          "output_type": "display_data"
        },
        {
          "name": "stderr",
          "output_type": "stream",
          "text": [
            "2021-09-09 20:52:08 INFO: Downloading default packages for language: es (Spanish)...\n",
            "2021-09-09 20:52:11 INFO: File exists: /root/stanza_resources/es/default.zip.\n",
            "2021-09-09 20:52:22 INFO: Finished downloading models and saved to /root/stanza_resources.\n",
            "2021-09-09 20:52:22 INFO: Loading these models for language: es (Spanish):\n",
            "=======================\n",
            "| Processor | Package |\n",
            "-----------------------\n",
            "| tokenize  | ancora  |\n",
            "| mwt       | ancora  |\n",
            "| pos       | ancora  |\n",
            "| lemma     | ancora  |\n",
            "| depparse  | ancora  |\n",
            "| ner       | conll02 |\n",
            "=======================\n",
            "\n",
            "2021-09-09 20:52:22 INFO: Use device: cpu\n",
            "2021-09-09 20:52:22 INFO: Loading: tokenize\n",
            "2021-09-09 20:52:22 INFO: Loading: mwt\n",
            "2021-09-09 20:52:22 INFO: Loading: pos\n",
            "2021-09-09 20:52:22 INFO: Loading: lemma\n",
            "2021-09-09 20:52:23 INFO: Loading: depparse\n",
            "2021-09-09 20:52:23 INFO: Loading: ner\n",
            "2021-09-09 20:52:25 INFO: Done loading processors!\n"
          ]
        }
      ]
    },
    {
      "cell_type": "markdown",
      "metadata": {
        "id": "_wF10RjVMBdV"
      },
      "source": [
        "### 2 - Herramientas de preprocesamiento de datos\n",
        "Entre las tareas de procesamiento de texto en español se implementa:\n",
        "- Quitar tildes y caracteres especiales\n",
        "- Quitar números\n",
        "- Quitar símbolos de puntuación"
      ]
    },
    {
      "cell_type": "code",
      "metadata": {
        "id": "ZxoD2hEExmuX"
      },
      "source": [
        "import re\n",
        "import unicodedata\n",
        "\n",
        "# El preprocesamento en castellano requiere más trabajo\n",
        "\n",
        "def preprocess_clean_text(text):    \n",
        "    # sacar tildes de las palabras\n",
        "    text = unicodedata.normalize('NFKD', text).encode('ascii', 'ignore').decode('utf-8', 'ignore') #saco caracteres que estan en la tabla alta de ascii, que son los que tienen tilde.\n",
        "    # quitar caracteres especiales: parecido a los signos de puntuacion. \"quiero solo de la a a la Z, ..\"\n",
        "    #pattern = r'[^a-zA-z0-9.,!?/:;\\\"\\'\\s]' #en vez de usar a-zA-z0-9, se puede usar \\w \n",
        "    #text = re.sub(pattern, '', text)\n",
        "    #pattern = r'[^a-zA-z.,!?/:;\\\"\\'\\s]' #esta esta linea como extra, despues la comento si quiero dejar numeros\n",
        "    pattern = r'[^a-zA-z\\s]'\n",
        "    # quitar números\n",
        "    text = re.sub(pattern, '', text)\n",
        "    # quitar caracteres de puntuación\n",
        "    #text = ''.join([char for char in text if char not in string.punctuation])   #va sacando character por character que no este en string.punctuation\n",
        "    return text\n",
        "\n"
      ],
      "execution_count": null,
      "outputs": []
    },
    {
      "cell_type": "code",
      "metadata": {
        "colab": {
          "base_uri": "https://localhost:8080/"
        },
        "id": "szggskU3EQft",
        "outputId": "5683409d-8b8f-422b-ad07-71b196672419"
      },
      "source": [
        "print(string.punctuation)"
      ],
      "execution_count": null,
      "outputs": [
        {
          "name": "stdout",
          "output_type": "stream",
          "text": [
            "!\"#$%&'()*+,-./:;<=>?@[\\]^_`{|}~\n"
          ]
        }
      ]
    },
    {
      "cell_type": "code",
      "metadata": {
        "colab": {
          "base_uri": "https://localhost:8080/"
        },
        "id": "I9V-S8JbrtNn",
        "outputId": "6dabeeda-1ab1-4d55-f78e-6552dd4ed4b1"
      },
      "source": [
        "# Ejemplo de como fuciona\n",
        "text = \"personas $Ideas! estás cosas 99 y los peces y los muerciélagos\"\n",
        "\n",
        "# Antes de preprocesar los datos se pasa a mínusculas todo el texto (spicy lo hace, pero lo hago por las dudas)\n",
        "tokes = nlp(preprocess_clean_text(text.lower()))\n",
        "print(\"tokens:\", tokes)\n",
        "print(\"\")\n",
        "print(\"Lematización de cada token:\")\n",
        "for token in tokes:\n",
        "    print(token.lemma_)\n"
      ],
      "execution_count": null,
      "outputs": [
        {
          "name": "stdout",
          "output_type": "stream",
          "text": [
            "tokens: personas ideas estas cosas  y los peces y los muercielagos\n",
            "\n",
            "Lematización de cada token:\n",
            "persona\n",
            "idea\n",
            "este\n",
            "cosa\n",
            " \n",
            "y\n",
            "el\n",
            "pez\n",
            "y\n",
            "el\n",
            "muercielago\n"
          ]
        }
      ]
    },
    {
      "cell_type": "markdown",
      "metadata": {
        "id": "ilRbn0KfMm2r"
      },
      "source": [
        "### 3 - Diccionario de entrada"
      ]
    },
    {
      "cell_type": "code",
      "metadata": {
        "id": "NgIGpjymNEH7"
      },
      "source": [
        "# Dataset en formato JSON que representa las posibles preguntas (patterns)\n",
        "# y las posibles respuestas por categoría (tag)\n",
        "#las preguntas se deben tratar de cerrar en forma redonda, porque son preguntas y respuestas puntuales, no se tiene en cuenta lo previo\n",
        "#LO VAMOS A HACER APLICADO A UN CENTRO DE CLASES PARTICULARES: RUCON\n",
        "dataset = {\"intents\": [\n",
        "             {\"tag\": \"bienvenida\",\n",
        "              #les estoy dando mucho peso al Hola. Hay que tener cuidado\n",
        "              \"patterns\": [\"Hola\", \"¿Cómo estás?\", \"¿Qué tal?\", \"Buenos dias\", \"wenas\", \"Buenas\", \"como va?\", \"todo bien?\"],  #no necesariamente tiene que ser asi, puede tener muchas varaciones (tildes, espacios, etc). Para esto sirve Deep L\n",
        "              \"responses\": [\"Hola! ¿Con qué consulta te puedo ayudar?\", \"Hola! ¿En qué puedo ayudarte?\",], #en forma aleatoria responde esto\n",
        "             },\n",
        "             {\"tag\": \"nombre\",\n",
        "              \"patterns\": [\"Cúal es tu nombre?\", \"Quién sos?\", \"Cómo te llamas?\", \"Con quien hablo?\"],\n",
        "              \"responses\": [\"Soy RuconBot, parte del equipo de Rucon!\"]\n",
        "             },\n",
        "             {\"tag\": \"contacto\",\n",
        "              \"patterns\": [\"contacto\", \"número de contacto\", \"número de teléfono\", \"número de whatsapp\", \"whatsapp\"],\n",
        "              \"responses\": [\"Podes contactarnos al siguiente <numero>\", \"Contactos al whatsapp <numero>\"]\n",
        "             },\n",
        "             {\"tag\": \"ubicacion\",\n",
        "              \"patterns\": [\"Donde están?\", \"En que zona trabajan\", \"Tienen oficina?\"],\n",
        "              \"responses\": [\"Hoy en día damos todas nuestras clases de manera online! Te dejo nuestro link: <link_sitio_web>\"]\n",
        "             },\n",
        "             {\"tag\": \"precios_cursos\",\n",
        "              \"patterns\": [\"cuanto cuesta cada curso?\", \"Me podrás pasar los precios?\", \"Cuánto valen los cursos?\", \"Cuánto sale el curso?\", \"Que valor tienen los cursos?\"],\n",
        "              \"responses\": [\"En el siguiente link podrás encontrar los precios de todos nuestros cursos:<link_precios_cursos>\"]\n",
        "             },\n",
        "             {\"tag\": \"formas_pagos\",\n",
        "              \"patterns\": [\"qué medios de pagos tienen?\", \"aceptan tarjeta de crédito?\", \"aceptan tarjeta?\", \"se puede pagar en cuotas?\", \"usan mercado pago?\",\"que formas de pagos tienen?\"],\n",
        "              \"responses\": [\"En el siguiente link podrás encontrar los beneficios y formas de pago vigentes: <link_pagos>\"]\n",
        "             },\n",
        "             {\"tag\": \"cursos_cuales\",\n",
        "              \"patterns\": [\"Qué cursos tienen?\", \"Que cursos hay?\", \"Para que materias tienen cursos?\"],\n",
        "              \"responses\": [\"Aca te dejo un link con los cursos disponibles! <link_cursos_disponibles>\"]\n",
        "             },\n",
        "             {\"tag\": \"cursos_informacion\",\n",
        "              \"patterns\": [\"Que incluyen los cursos?\", \"que se ve en los cursos?\", \"Que tienen los cursos?\"],\n",
        "              \"responses\": [\"Te dejo un link con lo que incluye cada curso! <link_cursos_informacion>\"]\n",
        "             },\n",
        "             {\"tag\": \"agradecimientos\",\n",
        "              \"patterns\": [ \"Muchas gracias\", \"Gracias\", \"Te agradezco\"],\n",
        "              \"responses\": [\"Por nada! Quedamos en contacto :)\", \"Igualmente! Estamos en contacto\"]\n",
        "             },\n",
        "             {\"tag\": \"despedida\",\n",
        "              \"patterns\": [ \"Chau\", \"Hasta luego!\", \"Saludos\"],\n",
        "              \"responses\": [\"Hasta luego!\", \"Saludos!\", \"Hablamos!\"]\n",
        "             }\n",
        "]}"
      ],
      "execution_count": null,
      "outputs": []
    },
    {
      "cell_type": "markdown",
      "metadata": {
        "id": "19PEDmIDfLRu"
      },
      "source": [
        "### 4 - Preprocesamiento y armado del dataset"
      ]
    },
    {
      "cell_type": "code",
      "metadata": {
        "id": "b3HP8abHNRk3"
      },
      "source": [
        "# Datos que necesitaremos, las palabras o vocabUlario\n",
        "words = []   #palabras del dataste\n",
        "classes = [] #array\n",
        "doc_X = []   #no en frases, sino en tokens\n",
        "doc_y = []   #idem\n",
        "\n",
        "# Por cada intención (intents) debemos tomar los patrones que la caracterízan  #Intentos son divisiones del dataset\n",
        "# a esa intención y transformarla a tokens para almacenar en doc_X\n",
        "\n",
        "# El tag de cada intención se almacena como doc_Y (la clase a predecir)\n",
        "\n",
        "for intent in dataset[\"intents\"]:\n",
        "    for pattern in intent[\"patterns\"]:  #la comunicacion del alumno\n",
        "        # trasformar el patron a tokens\n",
        "        tokens = preprocess_clean_text(pattern.lower())  \n",
        "        tokens = nlp(tokens)  #nlp lo lematiza: peces a pez. \n",
        "        # lematizar los tokens. Hacemos la lista  #separo en terminos separados\n",
        "        for token in tokens:            \n",
        "            words.append(token.lemma_)  #devuelve la raíz de la palabra\n",
        "        \n",
        "        #una fila de x con una de y. Ya no tengo tags\n",
        "        doc_X.append(pattern)  \n",
        "        doc_y.append(intent[\"tag\"])  #la salida ees el tag, para poder entrenar el modelo\n",
        "    \n",
        "    # Agregar el tag a las clases\n",
        "    if intent[\"tag\"] not in classes:\n",
        "        classes.append(intent[\"tag\"])\n",
        "\n",
        "# Elminar duplicados con \"set\" y ordenar el vocubulario y las clases por orden alfabético\n",
        "words = sorted(set(words))  #en words estan todas las palabras del dataset lemmatizadas\n",
        "classes = sorted(set(classes))  #no está de más esto? "
      ],
      "execution_count": null,
      "outputs": []
    },
    {
      "cell_type": "code",
      "metadata": {
        "colab": {
          "base_uri": "https://localhost:8080/"
        },
        "id": "Acy-gcugNbMH",
        "outputId": "d8948901-8eb1-4466-9408-ca9b1ebda650"
      },
      "source": [
        "print(\"words:\", words)\n",
        "print(\"classes:\", classes)\n",
        "print(\"doc_X:\", doc_X)\n",
        "print(\"doc_y:\", doc_y)"
      ],
      "execution_count": null,
      "outputs": [
        {
          "name": "stdout",
          "output_type": "stream",
          "text": [
            "words: ['aceptar', 'agradecer', 'bien', 'buen', 'cada', 'chau', 'como', 'con', 'contacto', 'costar', 'credito', 'cual', 'cuanto', 'cuota', 'curso', 'de', 'dia', 'donde', 'el', 'en', 'estar', 'este', 'forma', 'gracias', 'haber', 'hablar', 'hasta', 'holar', 'incluir', 'ir', 'llama', 'luego', 'materia', 'medio', 'mercado', 'mucho', 'nombre', 'numero', 'oficina', 'pagar', 'pago', 'para', 'pasar', 'poder', 'precio', 'que', 'quien', 'salir', 'saludo', 'ser', 'tal', 'tarjeta', 'telefono', 'tener', 'todo', 'trabajar', 'tu', 'tú', 'usar', 'valer', 'valor', 'ver', 'wenas', 'whatsapp', 'yo', 'zona', 'él']\n",
            "classes: ['agradecimientos', 'bienvenida', 'contacto', 'cursos_cuales', 'cursos_informacion', 'despedida', 'formas_pagos', 'nombre', 'precios_cursos', 'ubicacion']\n",
            "doc_X: ['Hola', '¿Cómo estás?', '¿Qué tal?', 'Buenos dias', 'wenas', 'Buenas', 'como va?', 'todo bien?', 'Cúal es tu nombre?', 'Quién sos?', 'Cómo te llamas?', 'Con quien hablo?', 'contacto', 'número de contacto', 'número de teléfono', 'número de whatsapp', 'whatsapp', 'Donde están?', 'En que zona trabajan', 'Tienen oficina?', 'cuanto cuesta cada curso?', 'Me podrás pasar los precios?', 'Cuánto valen los cursos?', 'Cuánto sale el curso?', 'Que valor tienen los cursos?', 'qué medios de pagos tienen?', 'aceptan tarjeta de crédito?', 'aceptan tarjeta?', 'se puede pagar en cuotas?', 'usan mercado pago?', 'que formas de pagos tienen?', 'Qué cursos tienen?', 'Que cursos hay?', 'Para que materias tienen cursos?', 'Que incluyen los cursos?', 'que se ve en los cursos?', 'Que tienen los cursos?', 'Muchas gracias', 'Gracias', 'Te agradezco', 'Chau', 'Hasta luego!', 'Saludos']\n",
            "doc_y: ['bienvenida', 'bienvenida', 'bienvenida', 'bienvenida', 'bienvenida', 'bienvenida', 'bienvenida', 'bienvenida', 'nombre', 'nombre', 'nombre', 'nombre', 'contacto', 'contacto', 'contacto', 'contacto', 'contacto', 'ubicacion', 'ubicacion', 'ubicacion', 'precios_cursos', 'precios_cursos', 'precios_cursos', 'precios_cursos', 'precios_cursos', 'formas_pagos', 'formas_pagos', 'formas_pagos', 'formas_pagos', 'formas_pagos', 'formas_pagos', 'cursos_cuales', 'cursos_cuales', 'cursos_cuales', 'cursos_informacion', 'cursos_informacion', 'cursos_informacion', 'agradecimientos', 'agradecimientos', 'agradecimientos', 'despedida', 'despedida', 'despedida']\n"
          ]
        }
      ]
    },
    {
      "cell_type": "code",
      "metadata": {
        "colab": {
          "base_uri": "https://localhost:8080/"
        },
        "id": "YI0L2U7IQcvy",
        "outputId": "c2b9626f-de49-4462-ae62-44acbf6aa4ec"
      },
      "source": [
        "# Tamaño del vocabulario\n",
        "print(\"Vocabulario:\", len(words))"
      ],
      "execution_count": null,
      "outputs": [
        {
          "name": "stdout",
          "output_type": "stream",
          "text": [
            "Vocabulario: 67\n"
          ]
        }
      ]
    },
    {
      "cell_type": "code",
      "metadata": {
        "colab": {
          "base_uri": "https://localhost:8080/"
        },
        "id": "vpbJ0guPN2Uq",
        "outputId": "2eae46ac-57b0-4232-8c58-84f0fa07663f"
      },
      "source": [
        "# Transformar doc_X en bag of words por oneHotEncoding\n",
        "# Transformar doc_Y en un vector de clases multicategórico con oneHotEncoding\n",
        "\n",
        "training = []\n",
        "out_empty = [0] * len(classes)\n",
        "\n",
        "for idx, doc in enumerate(doc_X):\n",
        "    # Transformar la pregunta (input) en tokens y lematizar\n",
        "    text = []\n",
        "    tokens = nlp(preprocess_clean_text(doc.lower()))\n",
        "    for token in tokens:\n",
        "        text.append(token.lemma_)\n",
        "\n",
        "    # Transformar los tokens en \"Bag of words\" (arrays de 1 y 0). No tengo funcion de onehot encoding porque son puros arreglos\n",
        "    bow = []\n",
        "    for word in words:\n",
        "        bow.append(1) if word in text else bow.append(0)\n",
        "    \n",
        "    # Crear el array de salida (class output) correspondiente\n",
        "    output_row = list(out_empty)\n",
        "    output_row[classes.index(doc_y[idx])] = 1\n",
        "\n",
        "    print(\"X:\", bow, \"y:\", output_row)\n",
        "    training.append([bow, output_row])\n",
        "\n",
        "# Mezclar los datos\n",
        "random.shuffle(training)\n",
        "training = np.array(training, dtype=object)\n",
        "# Dividir en datos de entrada y salida\n",
        "train_X = np.array(list(training[:, 0]))\n",
        "train_y = np.array(list(training[:, 1]))"
      ],
      "execution_count": null,
      "outputs": [
        {
          "name": "stdout",
          "output_type": "stream",
          "text": [
            "X: [0, 0, 0, 0, 0, 0, 0, 0, 0, 0, 0, 0, 0, 0, 0, 0, 0, 0, 0, 0, 0, 0, 0, 0, 0, 0, 0, 1, 0, 0, 0, 0, 0, 0, 0, 0, 0, 0, 0, 0, 0, 0, 0, 0, 0, 0, 0, 0, 0, 0, 0, 0, 0, 0, 0, 0, 0, 0, 0, 0, 0, 0, 0, 0, 0, 0, 0] y: [0, 1, 0, 0, 0, 0, 0, 0, 0, 0]\n",
            "X: [0, 0, 0, 0, 0, 0, 1, 0, 0, 0, 0, 0, 0, 0, 0, 0, 0, 0, 0, 0, 0, 1, 0, 0, 0, 0, 0, 0, 0, 0, 0, 0, 0, 0, 0, 0, 0, 0, 0, 0, 0, 0, 0, 0, 0, 0, 0, 0, 0, 0, 0, 0, 0, 0, 0, 0, 0, 0, 0, 0, 0, 0, 0, 0, 0, 0, 0] y: [0, 1, 0, 0, 0, 0, 0, 0, 0, 0]\n",
            "X: [0, 0, 0, 0, 0, 0, 0, 0, 0, 0, 0, 0, 0, 0, 0, 0, 0, 0, 0, 0, 0, 0, 0, 0, 0, 0, 0, 0, 0, 0, 0, 0, 0, 0, 0, 0, 0, 0, 0, 0, 0, 0, 0, 0, 0, 1, 0, 0, 0, 0, 1, 0, 0, 0, 0, 0, 0, 0, 0, 0, 0, 0, 0, 0, 0, 0, 0] y: [0, 1, 0, 0, 0, 0, 0, 0, 0, 0]\n",
            "X: [0, 0, 0, 1, 0, 0, 0, 0, 0, 0, 0, 0, 0, 0, 0, 0, 1, 0, 0, 0, 0, 0, 0, 0, 0, 0, 0, 0, 0, 0, 0, 0, 0, 0, 0, 0, 0, 0, 0, 0, 0, 0, 0, 0, 0, 0, 0, 0, 0, 0, 0, 0, 0, 0, 0, 0, 0, 0, 0, 0, 0, 0, 0, 0, 0, 0, 0] y: [0, 1, 0, 0, 0, 0, 0, 0, 0, 0]\n",
            "X: [0, 0, 0, 0, 0, 0, 0, 0, 0, 0, 0, 0, 0, 0, 0, 0, 0, 0, 0, 0, 0, 0, 0, 0, 0, 0, 0, 0, 0, 0, 0, 0, 0, 0, 0, 0, 0, 0, 0, 0, 0, 0, 0, 0, 0, 0, 0, 0, 0, 0, 0, 0, 0, 0, 0, 0, 0, 0, 0, 0, 0, 0, 1, 0, 0, 0, 0] y: [0, 1, 0, 0, 0, 0, 0, 0, 0, 0]\n",
            "X: [0, 0, 0, 1, 0, 0, 0, 0, 0, 0, 0, 0, 0, 0, 0, 0, 0, 0, 0, 0, 0, 0, 0, 0, 0, 0, 0, 0, 0, 0, 0, 0, 0, 0, 0, 0, 0, 0, 0, 0, 0, 0, 0, 0, 0, 0, 0, 0, 0, 0, 0, 0, 0, 0, 0, 0, 0, 0, 0, 0, 0, 0, 0, 0, 0, 0, 0] y: [0, 1, 0, 0, 0, 0, 0, 0, 0, 0]\n",
            "X: [0, 0, 0, 0, 0, 0, 1, 0, 0, 0, 0, 0, 0, 0, 0, 0, 0, 0, 0, 0, 0, 0, 0, 0, 0, 0, 0, 0, 0, 1, 0, 0, 0, 0, 0, 0, 0, 0, 0, 0, 0, 0, 0, 0, 0, 0, 0, 0, 0, 0, 0, 0, 0, 0, 0, 0, 0, 0, 0, 0, 0, 0, 0, 0, 0, 0, 0] y: [0, 1, 0, 0, 0, 0, 0, 0, 0, 0]\n",
            "X: [0, 0, 1, 0, 0, 0, 0, 0, 0, 0, 0, 0, 0, 0, 0, 0, 0, 0, 0, 0, 0, 0, 0, 0, 0, 0, 0, 0, 0, 0, 0, 0, 0, 0, 0, 0, 0, 0, 0, 0, 0, 0, 0, 0, 0, 0, 0, 0, 0, 0, 0, 0, 0, 0, 1, 0, 0, 0, 0, 0, 0, 0, 0, 0, 0, 0, 0] y: [0, 1, 0, 0, 0, 0, 0, 0, 0, 0]\n",
            "X: [0, 0, 0, 0, 0, 0, 0, 0, 0, 0, 0, 1, 0, 0, 0, 0, 0, 0, 0, 0, 0, 0, 0, 0, 0, 0, 0, 0, 0, 0, 0, 0, 0, 0, 0, 0, 1, 0, 0, 0, 0, 0, 0, 0, 0, 0, 0, 0, 0, 1, 0, 0, 0, 0, 0, 0, 1, 0, 0, 0, 0, 0, 0, 0, 0, 0, 0] y: [0, 0, 0, 0, 0, 0, 0, 1, 0, 0]\n",
            "X: [0, 0, 0, 0, 0, 0, 0, 0, 0, 0, 0, 0, 0, 0, 0, 0, 0, 0, 0, 0, 0, 0, 0, 0, 0, 0, 0, 0, 0, 0, 0, 0, 0, 0, 0, 0, 0, 0, 0, 0, 0, 0, 0, 0, 0, 0, 1, 0, 0, 1, 0, 0, 0, 0, 0, 0, 0, 0, 0, 0, 0, 0, 0, 0, 0, 0, 0] y: [0, 0, 0, 0, 0, 0, 0, 1, 0, 0]\n",
            "X: [0, 0, 0, 0, 0, 0, 1, 0, 0, 0, 0, 0, 0, 0, 0, 0, 0, 0, 0, 0, 0, 0, 0, 0, 0, 0, 0, 0, 0, 0, 1, 0, 0, 0, 0, 0, 0, 0, 0, 0, 0, 0, 0, 0, 0, 0, 0, 0, 0, 0, 0, 0, 0, 0, 0, 0, 0, 1, 0, 0, 0, 0, 0, 0, 0, 0, 0] y: [0, 0, 0, 0, 0, 0, 0, 1, 0, 0]\n",
            "X: [0, 0, 0, 0, 0, 0, 0, 1, 0, 0, 0, 0, 0, 0, 0, 0, 0, 0, 0, 0, 0, 0, 0, 0, 0, 1, 0, 0, 0, 0, 0, 0, 0, 0, 0, 0, 0, 0, 0, 0, 0, 0, 0, 0, 0, 0, 1, 0, 0, 0, 0, 0, 0, 0, 0, 0, 0, 0, 0, 0, 0, 0, 0, 0, 0, 0, 0] y: [0, 0, 0, 0, 0, 0, 0, 1, 0, 0]\n",
            "X: [0, 0, 0, 0, 0, 0, 0, 0, 1, 0, 0, 0, 0, 0, 0, 0, 0, 0, 0, 0, 0, 0, 0, 0, 0, 0, 0, 0, 0, 0, 0, 0, 0, 0, 0, 0, 0, 0, 0, 0, 0, 0, 0, 0, 0, 0, 0, 0, 0, 0, 0, 0, 0, 0, 0, 0, 0, 0, 0, 0, 0, 0, 0, 0, 0, 0, 0] y: [0, 0, 1, 0, 0, 0, 0, 0, 0, 0]\n",
            "X: [0, 0, 0, 0, 0, 0, 0, 0, 1, 0, 0, 0, 0, 0, 0, 1, 0, 0, 0, 0, 0, 0, 0, 0, 0, 0, 0, 0, 0, 0, 0, 0, 0, 0, 0, 0, 0, 1, 0, 0, 0, 0, 0, 0, 0, 0, 0, 0, 0, 0, 0, 0, 0, 0, 0, 0, 0, 0, 0, 0, 0, 0, 0, 0, 0, 0, 0] y: [0, 0, 1, 0, 0, 0, 0, 0, 0, 0]\n",
            "X: [0, 0, 0, 0, 0, 0, 0, 0, 0, 0, 0, 0, 0, 0, 0, 1, 0, 0, 0, 0, 0, 0, 0, 0, 0, 0, 0, 0, 0, 0, 0, 0, 0, 0, 0, 0, 0, 1, 0, 0, 0, 0, 0, 0, 0, 0, 0, 0, 0, 0, 0, 0, 1, 0, 0, 0, 0, 0, 0, 0, 0, 0, 0, 0, 0, 0, 0] y: [0, 0, 1, 0, 0, 0, 0, 0, 0, 0]\n",
            "X: [0, 0, 0, 0, 0, 0, 0, 0, 0, 0, 0, 0, 0, 0, 0, 1, 0, 0, 0, 0, 0, 0, 0, 0, 0, 0, 0, 0, 0, 0, 0, 0, 0, 0, 0, 0, 0, 1, 0, 0, 0, 0, 0, 0, 0, 0, 0, 0, 0, 0, 0, 0, 0, 0, 0, 0, 0, 0, 0, 0, 0, 0, 0, 1, 0, 0, 0] y: [0, 0, 1, 0, 0, 0, 0, 0, 0, 0]\n",
            "X: [0, 0, 0, 0, 0, 0, 0, 0, 0, 0, 0, 0, 0, 0, 0, 0, 0, 0, 0, 0, 0, 0, 0, 0, 0, 0, 0, 0, 0, 0, 0, 0, 0, 0, 0, 0, 0, 0, 0, 0, 0, 0, 0, 0, 0, 0, 0, 0, 0, 0, 0, 0, 0, 0, 0, 0, 0, 0, 0, 0, 0, 0, 0, 1, 0, 0, 0] y: [0, 0, 1, 0, 0, 0, 0, 0, 0, 0]\n",
            "X: [0, 0, 0, 0, 0, 0, 0, 0, 0, 0, 0, 0, 0, 0, 0, 0, 0, 1, 0, 0, 1, 0, 0, 0, 0, 0, 0, 0, 0, 0, 0, 0, 0, 0, 0, 0, 0, 0, 0, 0, 0, 0, 0, 0, 0, 0, 0, 0, 0, 0, 0, 0, 0, 0, 0, 0, 0, 0, 0, 0, 0, 0, 0, 0, 0, 0, 0] y: [0, 0, 0, 0, 0, 0, 0, 0, 0, 1]\n",
            "X: [0, 0, 0, 0, 0, 0, 0, 0, 0, 0, 0, 0, 0, 0, 0, 0, 0, 0, 0, 1, 0, 0, 0, 0, 0, 0, 0, 0, 0, 0, 0, 0, 0, 0, 0, 0, 0, 0, 0, 0, 0, 0, 0, 0, 0, 1, 0, 0, 0, 0, 0, 0, 0, 0, 0, 1, 0, 0, 0, 0, 0, 0, 0, 0, 0, 1, 0] y: [0, 0, 0, 0, 0, 0, 0, 0, 0, 1]\n",
            "X: [0, 0, 0, 0, 0, 0, 0, 0, 0, 0, 0, 0, 0, 0, 0, 0, 0, 0, 0, 0, 0, 0, 0, 0, 0, 0, 0, 0, 0, 0, 0, 0, 0, 0, 0, 0, 0, 0, 1, 0, 0, 0, 0, 0, 0, 0, 0, 0, 0, 0, 0, 0, 0, 1, 0, 0, 0, 0, 0, 0, 0, 0, 0, 0, 0, 0, 0] y: [0, 0, 0, 0, 0, 0, 0, 0, 0, 1]\n",
            "X: [0, 0, 0, 0, 1, 0, 0, 0, 0, 1, 0, 0, 1, 0, 1, 0, 0, 0, 0, 0, 0, 0, 0, 0, 0, 0, 0, 0, 0, 0, 0, 0, 0, 0, 0, 0, 0, 0, 0, 0, 0, 0, 0, 0, 0, 0, 0, 0, 0, 0, 0, 0, 0, 0, 0, 0, 0, 0, 0, 0, 0, 0, 0, 0, 0, 0, 0] y: [0, 0, 0, 0, 0, 0, 0, 0, 1, 0]\n",
            "X: [0, 0, 0, 0, 0, 0, 0, 0, 0, 0, 0, 0, 0, 0, 0, 0, 0, 0, 1, 0, 0, 0, 0, 0, 0, 0, 0, 0, 0, 0, 0, 0, 0, 0, 0, 0, 0, 0, 0, 0, 0, 0, 1, 1, 1, 0, 0, 0, 0, 0, 0, 0, 0, 0, 0, 0, 0, 0, 0, 0, 0, 0, 0, 0, 1, 0, 0] y: [0, 0, 0, 0, 0, 0, 0, 0, 1, 0]\n",
            "X: [0, 0, 0, 0, 0, 0, 0, 0, 0, 0, 0, 0, 1, 0, 1, 0, 0, 0, 1, 0, 0, 0, 0, 0, 0, 0, 0, 0, 0, 0, 0, 0, 0, 0, 0, 0, 0, 0, 0, 0, 0, 0, 0, 0, 0, 0, 0, 0, 0, 0, 0, 0, 0, 0, 0, 0, 0, 0, 0, 1, 0, 0, 0, 0, 0, 0, 0] y: [0, 0, 0, 0, 0, 0, 0, 0, 1, 0]\n",
            "X: [0, 0, 0, 0, 0, 0, 0, 0, 0, 0, 0, 0, 1, 0, 1, 0, 0, 0, 1, 0, 0, 0, 0, 0, 0, 0, 0, 0, 0, 0, 0, 0, 0, 0, 0, 0, 0, 0, 0, 0, 0, 0, 0, 0, 0, 0, 0, 1, 0, 0, 0, 0, 0, 0, 0, 0, 0, 0, 0, 0, 0, 0, 0, 0, 0, 0, 0] y: [0, 0, 0, 0, 0, 0, 0, 0, 1, 0]\n",
            "X: [0, 0, 0, 0, 0, 0, 0, 0, 0, 0, 0, 0, 0, 0, 1, 0, 0, 0, 1, 0, 0, 0, 0, 0, 0, 0, 0, 0, 0, 0, 0, 0, 0, 0, 0, 0, 0, 0, 0, 0, 0, 0, 0, 0, 0, 1, 0, 0, 0, 0, 0, 0, 0, 1, 0, 0, 0, 0, 0, 0, 1, 0, 0, 0, 0, 0, 0] y: [0, 0, 0, 0, 0, 0, 0, 0, 1, 0]\n",
            "X: [0, 0, 0, 0, 0, 0, 0, 0, 0, 0, 0, 0, 0, 0, 0, 1, 0, 0, 0, 0, 0, 0, 0, 0, 0, 0, 0, 0, 0, 0, 0, 0, 0, 1, 0, 0, 0, 0, 0, 0, 1, 0, 0, 0, 0, 1, 0, 0, 0, 0, 0, 0, 0, 1, 0, 0, 0, 0, 0, 0, 0, 0, 0, 0, 0, 0, 0] y: [0, 0, 0, 0, 0, 0, 1, 0, 0, 0]\n",
            "X: [1, 0, 0, 0, 0, 0, 0, 0, 0, 0, 1, 0, 0, 0, 0, 1, 0, 0, 0, 0, 0, 0, 0, 0, 0, 0, 0, 0, 0, 0, 0, 0, 0, 0, 0, 0, 0, 0, 0, 0, 0, 0, 0, 0, 0, 0, 0, 0, 0, 0, 0, 1, 0, 0, 0, 0, 0, 0, 0, 0, 0, 0, 0, 0, 0, 0, 0] y: [0, 0, 0, 0, 0, 0, 1, 0, 0, 0]\n",
            "X: [1, 0, 0, 0, 0, 0, 0, 0, 0, 0, 0, 0, 0, 0, 0, 0, 0, 0, 0, 0, 0, 0, 0, 0, 0, 0, 0, 0, 0, 0, 0, 0, 0, 0, 0, 0, 0, 0, 0, 0, 0, 0, 0, 0, 0, 0, 0, 0, 0, 0, 0, 1, 0, 0, 0, 0, 0, 0, 0, 0, 0, 0, 0, 0, 0, 0, 0] y: [0, 0, 0, 0, 0, 0, 1, 0, 0, 0]\n",
            "X: [0, 0, 0, 0, 0, 0, 0, 0, 0, 0, 0, 0, 0, 1, 0, 0, 0, 0, 0, 1, 0, 0, 0, 0, 0, 0, 0, 0, 0, 0, 0, 0, 0, 0, 0, 0, 0, 0, 0, 1, 0, 0, 0, 1, 0, 0, 0, 0, 0, 0, 0, 0, 0, 0, 0, 0, 0, 0, 0, 0, 0, 0, 0, 0, 0, 0, 1] y: [0, 0, 0, 0, 0, 0, 1, 0, 0, 0]\n",
            "X: [0, 0, 0, 0, 0, 0, 0, 0, 0, 0, 0, 0, 0, 0, 0, 0, 0, 0, 0, 0, 0, 0, 0, 0, 0, 0, 0, 0, 0, 0, 0, 0, 0, 0, 1, 0, 0, 0, 0, 0, 1, 0, 0, 0, 0, 0, 0, 0, 0, 0, 0, 0, 0, 0, 0, 0, 0, 0, 1, 0, 0, 0, 0, 0, 0, 0, 0] y: [0, 0, 0, 0, 0, 0, 1, 0, 0, 0]\n",
            "X: [0, 0, 0, 0, 0, 0, 0, 0, 0, 0, 0, 0, 0, 0, 0, 1, 0, 0, 0, 0, 0, 0, 1, 0, 0, 0, 0, 0, 0, 0, 0, 0, 0, 0, 0, 0, 0, 0, 0, 0, 1, 0, 0, 0, 0, 1, 0, 0, 0, 0, 0, 0, 0, 1, 0, 0, 0, 0, 0, 0, 0, 0, 0, 0, 0, 0, 0] y: [0, 0, 0, 0, 0, 0, 1, 0, 0, 0]\n",
            "X: [0, 0, 0, 0, 0, 0, 0, 0, 0, 0, 0, 0, 0, 0, 1, 0, 0, 0, 0, 0, 0, 0, 0, 0, 0, 0, 0, 0, 0, 0, 0, 0, 0, 0, 0, 0, 0, 0, 0, 0, 0, 0, 0, 0, 0, 1, 0, 0, 0, 0, 0, 0, 0, 1, 0, 0, 0, 0, 0, 0, 0, 0, 0, 0, 0, 0, 0] y: [0, 0, 0, 1, 0, 0, 0, 0, 0, 0]\n",
            "X: [0, 0, 0, 0, 0, 0, 0, 0, 0, 0, 0, 0, 0, 0, 1, 0, 0, 0, 0, 0, 0, 0, 0, 0, 1, 0, 0, 0, 0, 0, 0, 0, 0, 0, 0, 0, 0, 0, 0, 0, 0, 0, 0, 0, 0, 1, 0, 0, 0, 0, 0, 0, 0, 0, 0, 0, 0, 0, 0, 0, 0, 0, 0, 0, 0, 0, 0] y: [0, 0, 0, 1, 0, 0, 0, 0, 0, 0]\n",
            "X: [0, 0, 0, 0, 0, 0, 0, 0, 0, 0, 0, 0, 0, 0, 1, 0, 0, 0, 0, 0, 0, 0, 0, 0, 0, 0, 0, 0, 0, 0, 0, 0, 1, 0, 0, 0, 0, 0, 0, 0, 0, 1, 0, 0, 0, 1, 0, 0, 0, 0, 0, 0, 0, 1, 0, 0, 0, 0, 0, 0, 0, 0, 0, 0, 0, 0, 0] y: [0, 0, 0, 1, 0, 0, 0, 0, 0, 0]\n",
            "X: [0, 0, 0, 0, 0, 0, 0, 0, 0, 0, 0, 0, 0, 0, 1, 0, 0, 0, 1, 0, 0, 0, 0, 0, 0, 0, 0, 0, 1, 0, 0, 0, 0, 0, 0, 0, 0, 0, 0, 0, 0, 0, 0, 0, 0, 1, 0, 0, 0, 0, 0, 0, 0, 0, 0, 0, 0, 0, 0, 0, 0, 0, 0, 0, 0, 0, 0] y: [0, 0, 0, 0, 1, 0, 0, 0, 0, 0]\n",
            "X: [0, 0, 0, 0, 0, 0, 0, 0, 0, 0, 0, 0, 0, 0, 1, 0, 0, 0, 1, 1, 0, 0, 0, 0, 0, 0, 0, 0, 0, 0, 0, 0, 0, 0, 0, 0, 0, 0, 0, 0, 0, 0, 0, 0, 0, 1, 0, 0, 0, 0, 0, 0, 0, 0, 0, 0, 0, 0, 0, 0, 0, 1, 0, 0, 0, 0, 1] y: [0, 0, 0, 0, 1, 0, 0, 0, 0, 0]\n",
            "X: [0, 0, 0, 0, 0, 0, 0, 0, 0, 0, 0, 0, 0, 0, 1, 0, 0, 0, 1, 0, 0, 0, 0, 0, 0, 0, 0, 0, 0, 0, 0, 0, 0, 0, 0, 0, 0, 0, 0, 0, 0, 0, 0, 0, 0, 1, 0, 0, 0, 0, 0, 0, 0, 1, 0, 0, 0, 0, 0, 0, 0, 0, 0, 0, 0, 0, 0] y: [0, 0, 0, 0, 1, 0, 0, 0, 0, 0]\n",
            "X: [0, 0, 0, 0, 0, 0, 0, 0, 0, 0, 0, 0, 0, 0, 0, 0, 0, 0, 0, 0, 0, 0, 0, 1, 0, 0, 0, 0, 0, 0, 0, 0, 0, 0, 0, 1, 0, 0, 0, 0, 0, 0, 0, 0, 0, 0, 0, 0, 0, 0, 0, 0, 0, 0, 0, 0, 0, 0, 0, 0, 0, 0, 0, 0, 0, 0, 0] y: [1, 0, 0, 0, 0, 0, 0, 0, 0, 0]\n",
            "X: [0, 0, 0, 0, 0, 0, 0, 0, 0, 0, 0, 0, 0, 0, 0, 0, 0, 0, 0, 0, 0, 0, 0, 1, 0, 0, 0, 0, 0, 0, 0, 0, 0, 0, 0, 0, 0, 0, 0, 0, 0, 0, 0, 0, 0, 0, 0, 0, 0, 0, 0, 0, 0, 0, 0, 0, 0, 0, 0, 0, 0, 0, 0, 0, 0, 0, 0] y: [1, 0, 0, 0, 0, 0, 0, 0, 0, 0]\n",
            "X: [0, 1, 0, 0, 0, 0, 0, 0, 0, 0, 0, 0, 0, 0, 0, 0, 0, 0, 0, 0, 0, 0, 0, 0, 0, 0, 0, 0, 0, 0, 0, 0, 0, 0, 0, 0, 0, 0, 0, 0, 0, 0, 0, 0, 0, 0, 0, 0, 0, 0, 0, 0, 0, 0, 0, 0, 0, 1, 0, 0, 0, 0, 0, 0, 0, 0, 0] y: [1, 0, 0, 0, 0, 0, 0, 0, 0, 0]\n",
            "X: [0, 0, 0, 0, 0, 1, 0, 0, 0, 0, 0, 0, 0, 0, 0, 0, 0, 0, 0, 0, 0, 0, 0, 0, 0, 0, 0, 0, 0, 0, 0, 0, 0, 0, 0, 0, 0, 0, 0, 0, 0, 0, 0, 0, 0, 0, 0, 0, 0, 0, 0, 0, 0, 0, 0, 0, 0, 0, 0, 0, 0, 0, 0, 0, 0, 0, 0] y: [0, 0, 0, 0, 0, 1, 0, 0, 0, 0]\n",
            "X: [0, 0, 0, 0, 0, 0, 0, 0, 0, 0, 0, 0, 0, 0, 0, 0, 0, 0, 0, 0, 0, 0, 0, 0, 0, 0, 1, 0, 0, 0, 0, 1, 0, 0, 0, 0, 0, 0, 0, 0, 0, 0, 0, 0, 0, 0, 0, 0, 0, 0, 0, 0, 0, 0, 0, 0, 0, 0, 0, 0, 0, 0, 0, 0, 0, 0, 0] y: [0, 0, 0, 0, 0, 1, 0, 0, 0, 0]\n",
            "X: [0, 0, 0, 0, 0, 0, 0, 0, 0, 0, 0, 0, 0, 0, 0, 0, 0, 0, 0, 0, 0, 0, 0, 0, 0, 0, 0, 0, 0, 0, 0, 0, 0, 0, 0, 0, 0, 0, 0, 0, 0, 0, 0, 0, 0, 0, 0, 0, 1, 0, 0, 0, 0, 0, 0, 0, 0, 0, 0, 0, 0, 0, 0, 0, 0, 0, 0] y: [0, 0, 0, 0, 0, 1, 0, 0, 0, 0]\n"
          ]
        }
      ]
    },
    {
      "cell_type": "markdown",
      "metadata": {
        "id": "a_Hr8QaDfRf3"
      },
      "source": [
        "### 5 - Entrenamiento del modelo"
      ]
    },
    {
      "cell_type": "code",
      "metadata": {
        "colab": {
          "base_uri": "https://localhost:8080/"
        },
        "id": "xy7tzkwdOZx9",
        "outputId": "4e9299f0-7f48-45ce-b426-05b029b04acc"
      },
      "source": [
        "# Shape de entrada y salida\n",
        "input_shape = (train_X.shape[1],)\n",
        "output_shape = train_y.shape[1]\n",
        "\n",
        "# Entrenamiento del modelo DNN\n",
        "# - Modelo secuencial\n",
        "# - Con regularización\n",
        "# - softmax y optimizador Adam\n",
        "model = Sequential()\n",
        "model.add(Dense(128, input_shape=input_shape, activation=\"relu\"))\n",
        "model.add(Dropout(0.5))\n",
        "model.add(Dense(64, activation=\"relu\"))\n",
        "model.add(Dropout(0.5))\n",
        "model.add(Dense(output_shape, activation = \"softmax\"))\n",
        "\n",
        "model.compile(loss='categorical_crossentropy',\n",
        "              optimizer=\"Adam\",\n",
        "              metrics=[\"accuracy\"])\n",
        "print(model.summary())"
      ],
      "execution_count": null,
      "outputs": [
        {
          "name": "stdout",
          "output_type": "stream",
          "text": [
            "Model: \"sequential_1\"\n",
            "_________________________________________________________________\n",
            "Layer (type)                 Output Shape              Param #   \n",
            "=================================================================\n",
            "dense_3 (Dense)              (None, 128)               8704      \n",
            "_________________________________________________________________\n",
            "dropout_2 (Dropout)          (None, 128)               0         \n",
            "_________________________________________________________________\n",
            "dense_4 (Dense)              (None, 64)                8256      \n",
            "_________________________________________________________________\n",
            "dropout_3 (Dropout)          (None, 64)                0         \n",
            "_________________________________________________________________\n",
            "dense_5 (Dense)              (None, 10)                650       \n",
            "=================================================================\n",
            "Total params: 17,610\n",
            "Trainable params: 17,610\n",
            "Non-trainable params: 0\n",
            "_________________________________________________________________\n",
            "None\n"
          ]
        }
      ]
    },
    {
      "cell_type": "code",
      "metadata": {
        "colab": {
          "base_uri": "https://localhost:8080/"
        },
        "id": "r6hi4EcdOghm",
        "outputId": "08ba6363-ddc0-4107-8947-cd377fccce65"
      },
      "source": [
        "hist = model.fit(x=train_X, y=train_y, epochs=200)"
      ],
      "execution_count": null,
      "outputs": [
        {
          "name": "stdout",
          "output_type": "stream",
          "text": [
            "Epoch 1/200\n",
            "2/2 [==============================] - 0s 8ms/step - loss: 2.2862 - accuracy: 0.1395\n",
            "Epoch 2/200\n",
            "2/2 [==============================] - 0s 6ms/step - loss: 2.3478 - accuracy: 0.0698\n",
            "Epoch 3/200\n",
            "2/2 [==============================] - 0s 7ms/step - loss: 2.3104 - accuracy: 0.1163\n",
            "Epoch 4/200\n",
            "2/2 [==============================] - 0s 7ms/step - loss: 2.2721 - accuracy: 0.1860\n",
            "Epoch 5/200\n",
            "2/2 [==============================] - 0s 7ms/step - loss: 2.3008 - accuracy: 0.1628\n",
            "Epoch 6/200\n",
            "2/2 [==============================] - 0s 5ms/step - loss: 2.2245 - accuracy: 0.2326\n",
            "Epoch 7/200\n",
            "2/2 [==============================] - 0s 5ms/step - loss: 2.2268 - accuracy: 0.2558\n",
            "Epoch 8/200\n",
            "2/2 [==============================] - 0s 5ms/step - loss: 2.2019 - accuracy: 0.1860\n",
            "Epoch 9/200\n",
            "2/2 [==============================] - 0s 8ms/step - loss: 2.2529 - accuracy: 0.2093\n",
            "Epoch 10/200\n",
            "2/2 [==============================] - 0s 6ms/step - loss: 2.2315 - accuracy: 0.1628\n",
            "Epoch 11/200\n",
            "2/2 [==============================] - 0s 10ms/step - loss: 2.1340 - accuracy: 0.2791\n",
            "Epoch 12/200\n",
            "2/2 [==============================] - 0s 6ms/step - loss: 2.1668 - accuracy: 0.1628\n",
            "Epoch 13/200\n",
            "2/2 [==============================] - 0s 5ms/step - loss: 2.1298 - accuracy: 0.3256\n",
            "Epoch 14/200\n",
            "2/2 [==============================] - 0s 5ms/step - loss: 2.1972 - accuracy: 0.2093\n",
            "Epoch 15/200\n",
            "2/2 [==============================] - 0s 5ms/step - loss: 2.1202 - accuracy: 0.3256\n",
            "Epoch 16/200\n",
            "2/2 [==============================] - 0s 5ms/step - loss: 2.1315 - accuracy: 0.2791\n",
            "Epoch 17/200\n",
            "2/2 [==============================] - 0s 6ms/step - loss: 2.1135 - accuracy: 0.3488\n",
            "Epoch 18/200\n",
            "2/2 [==============================] - 0s 5ms/step - loss: 2.0989 - accuracy: 0.4186\n",
            "Epoch 19/200\n",
            "2/2 [==============================] - 0s 5ms/step - loss: 2.0304 - accuracy: 0.4186\n",
            "Epoch 20/200\n",
            "2/2 [==============================] - 0s 4ms/step - loss: 2.0810 - accuracy: 0.3953\n",
            "Epoch 21/200\n",
            "2/2 [==============================] - 0s 5ms/step - loss: 2.0413 - accuracy: 0.5116\n",
            "Epoch 22/200\n",
            "2/2 [==============================] - 0s 9ms/step - loss: 2.0664 - accuracy: 0.3721\n",
            "Epoch 23/200\n",
            "2/2 [==============================] - 0s 6ms/step - loss: 2.0079 - accuracy: 0.4884\n",
            "Epoch 24/200\n",
            "2/2 [==============================] - 0s 7ms/step - loss: 2.0129 - accuracy: 0.4651\n",
            "Epoch 25/200\n",
            "2/2 [==============================] - 0s 6ms/step - loss: 2.0465 - accuracy: 0.4419\n",
            "Epoch 26/200\n",
            "2/2 [==============================] - 0s 14ms/step - loss: 2.0306 - accuracy: 0.4651\n",
            "Epoch 27/200\n",
            "2/2 [==============================] - 0s 7ms/step - loss: 1.9729 - accuracy: 0.4884\n",
            "Epoch 28/200\n",
            "2/2 [==============================] - 0s 9ms/step - loss: 1.9471 - accuracy: 0.4419\n",
            "Epoch 29/200\n",
            "2/2 [==============================] - 0s 8ms/step - loss: 1.9594 - accuracy: 0.3953\n",
            "Epoch 30/200\n",
            "2/2 [==============================] - 0s 8ms/step - loss: 1.9642 - accuracy: 0.3488\n",
            "Epoch 31/200\n",
            "2/2 [==============================] - 0s 5ms/step - loss: 1.8755 - accuracy: 0.4884\n",
            "Epoch 32/200\n",
            "2/2 [==============================] - 0s 6ms/step - loss: 1.9123 - accuracy: 0.4419\n",
            "Epoch 33/200\n",
            "2/2 [==============================] - 0s 8ms/step - loss: 1.8314 - accuracy: 0.4651\n",
            "Epoch 34/200\n",
            "2/2 [==============================] - 0s 8ms/step - loss: 1.8649 - accuracy: 0.5349\n",
            "Epoch 35/200\n",
            "2/2 [==============================] - 0s 6ms/step - loss: 1.9005 - accuracy: 0.4884\n",
            "Epoch 36/200\n",
            "2/2 [==============================] - 0s 11ms/step - loss: 1.7630 - accuracy: 0.5814\n",
            "Epoch 37/200\n",
            "2/2 [==============================] - 0s 9ms/step - loss: 1.7859 - accuracy: 0.4884\n",
            "Epoch 38/200\n",
            "2/2 [==============================] - 0s 8ms/step - loss: 1.7521 - accuracy: 0.6047\n",
            "Epoch 39/200\n",
            "2/2 [==============================] - 0s 6ms/step - loss: 1.7190 - accuracy: 0.5581\n",
            "Epoch 40/200\n",
            "2/2 [==============================] - 0s 7ms/step - loss: 1.6591 - accuracy: 0.6512\n",
            "Epoch 41/200\n",
            "2/2 [==============================] - 0s 7ms/step - loss: 1.7823 - accuracy: 0.5349\n",
            "Epoch 42/200\n",
            "2/2 [==============================] - 0s 7ms/step - loss: 1.6974 - accuracy: 0.4651\n",
            "Epoch 43/200\n",
            "2/2 [==============================] - 0s 7ms/step - loss: 1.6320 - accuracy: 0.4651\n",
            "Epoch 44/200\n",
            "2/2 [==============================] - 0s 7ms/step - loss: 1.6763 - accuracy: 0.5581\n",
            "Epoch 45/200\n",
            "2/2 [==============================] - 0s 7ms/step - loss: 1.5772 - accuracy: 0.5581\n",
            "Epoch 46/200\n",
            "2/2 [==============================] - 0s 5ms/step - loss: 1.6598 - accuracy: 0.5814\n",
            "Epoch 47/200\n",
            "2/2 [==============================] - 0s 9ms/step - loss: 1.6213 - accuracy: 0.6744\n",
            "Epoch 48/200\n",
            "2/2 [==============================] - 0s 10ms/step - loss: 1.6484 - accuracy: 0.4884\n",
            "Epoch 49/200\n",
            "2/2 [==============================] - 0s 9ms/step - loss: 1.5194 - accuracy: 0.5581\n",
            "Epoch 50/200\n",
            "2/2 [==============================] - 0s 11ms/step - loss: 1.5844 - accuracy: 0.6047\n",
            "Epoch 51/200\n",
            "2/2 [==============================] - 0s 7ms/step - loss: 1.4812 - accuracy: 0.7209\n",
            "Epoch 52/200\n",
            "2/2 [==============================] - 0s 9ms/step - loss: 1.4295 - accuracy: 0.7442\n",
            "Epoch 53/200\n",
            "2/2 [==============================] - 0s 12ms/step - loss: 1.4518 - accuracy: 0.6744\n",
            "Epoch 54/200\n",
            "2/2 [==============================] - 0s 7ms/step - loss: 1.3755 - accuracy: 0.7442\n",
            "Epoch 55/200\n",
            "2/2 [==============================] - 0s 8ms/step - loss: 1.4758 - accuracy: 0.6047\n",
            "Epoch 56/200\n",
            "2/2 [==============================] - 0s 9ms/step - loss: 1.3590 - accuracy: 0.7442\n",
            "Epoch 57/200\n",
            "2/2 [==============================] - 0s 9ms/step - loss: 1.3656 - accuracy: 0.6512\n",
            "Epoch 58/200\n",
            "2/2 [==============================] - 0s 12ms/step - loss: 1.3647 - accuracy: 0.6744\n",
            "Epoch 59/200\n",
            "2/2 [==============================] - 0s 7ms/step - loss: 1.2855 - accuracy: 0.7674\n",
            "Epoch 60/200\n",
            "2/2 [==============================] - 0s 5ms/step - loss: 1.3309 - accuracy: 0.6744\n",
            "Epoch 61/200\n",
            "2/2 [==============================] - 0s 6ms/step - loss: 1.3037 - accuracy: 0.6512\n",
            "Epoch 62/200\n",
            "2/2 [==============================] - 0s 12ms/step - loss: 1.3506 - accuracy: 0.6744\n",
            "Epoch 63/200\n",
            "2/2 [==============================] - 0s 8ms/step - loss: 1.3032 - accuracy: 0.6279\n",
            "Epoch 64/200\n",
            "2/2 [==============================] - 0s 6ms/step - loss: 1.2422 - accuracy: 0.7209\n",
            "Epoch 65/200\n",
            "2/2 [==============================] - 0s 8ms/step - loss: 1.1922 - accuracy: 0.6977\n",
            "Epoch 66/200\n",
            "2/2 [==============================] - 0s 5ms/step - loss: 1.0808 - accuracy: 0.7442\n",
            "Epoch 67/200\n",
            "2/2 [==============================] - 0s 8ms/step - loss: 1.0480 - accuracy: 0.7674\n",
            "Epoch 68/200\n",
            "2/2 [==============================] - 0s 17ms/step - loss: 1.1077 - accuracy: 0.7907\n",
            "Epoch 69/200\n",
            "2/2 [==============================] - 0s 6ms/step - loss: 1.1475 - accuracy: 0.7674\n",
            "Epoch 70/200\n",
            "2/2 [==============================] - 0s 7ms/step - loss: 1.0150 - accuracy: 0.7442\n",
            "Epoch 71/200\n",
            "2/2 [==============================] - 0s 7ms/step - loss: 1.0820 - accuracy: 0.8372\n",
            "Epoch 72/200\n",
            "2/2 [==============================] - 0s 8ms/step - loss: 1.0848 - accuracy: 0.7209\n",
            "Epoch 73/200\n",
            "2/2 [==============================] - 0s 6ms/step - loss: 1.0393 - accuracy: 0.7209\n",
            "Epoch 74/200\n",
            "2/2 [==============================] - 0s 5ms/step - loss: 1.0452 - accuracy: 0.6744\n",
            "Epoch 75/200\n",
            "2/2 [==============================] - 0s 9ms/step - loss: 0.9518 - accuracy: 0.7907\n",
            "Epoch 76/200\n",
            "2/2 [==============================] - 0s 10ms/step - loss: 1.0077 - accuracy: 0.8140\n",
            "Epoch 77/200\n",
            "2/2 [==============================] - 0s 9ms/step - loss: 0.9097 - accuracy: 0.8605\n",
            "Epoch 78/200\n",
            "2/2 [==============================] - 0s 8ms/step - loss: 0.9322 - accuracy: 0.8372\n",
            "Epoch 79/200\n",
            "2/2 [==============================] - 0s 15ms/step - loss: 0.8854 - accuracy: 0.8140\n",
            "Epoch 80/200\n",
            "2/2 [==============================] - 0s 8ms/step - loss: 0.9228 - accuracy: 0.8140\n",
            "Epoch 81/200\n",
            "2/2 [==============================] - 0s 7ms/step - loss: 0.8512 - accuracy: 0.8140\n",
            "Epoch 82/200\n",
            "2/2 [==============================] - 0s 5ms/step - loss: 0.8057 - accuracy: 0.8837\n",
            "Epoch 83/200\n",
            "2/2 [==============================] - 0s 8ms/step - loss: 0.8809 - accuracy: 0.8605\n",
            "Epoch 84/200\n",
            "2/2 [==============================] - 0s 10ms/step - loss: 0.7879 - accuracy: 0.8372\n",
            "Epoch 85/200\n",
            "2/2 [==============================] - 0s 8ms/step - loss: 0.8217 - accuracy: 0.8372\n",
            "Epoch 86/200\n",
            "2/2 [==============================] - 0s 9ms/step - loss: 0.7232 - accuracy: 0.8837\n",
            "Epoch 87/200\n",
            "2/2 [==============================] - 0s 8ms/step - loss: 0.8176 - accuracy: 0.8605\n",
            "Epoch 88/200\n",
            "2/2 [==============================] - 0s 8ms/step - loss: 0.8922 - accuracy: 0.7907\n",
            "Epoch 89/200\n",
            "2/2 [==============================] - 0s 8ms/step - loss: 0.7707 - accuracy: 0.7907\n",
            "Epoch 90/200\n",
            "2/2 [==============================] - 0s 7ms/step - loss: 0.6727 - accuracy: 0.8837\n",
            "Epoch 91/200\n",
            "2/2 [==============================] - 0s 6ms/step - loss: 0.6448 - accuracy: 0.9070\n",
            "Epoch 92/200\n",
            "2/2 [==============================] - 0s 12ms/step - loss: 0.8252 - accuracy: 0.7442\n",
            "Epoch 93/200\n",
            "2/2 [==============================] - 0s 9ms/step - loss: 0.6787 - accuracy: 0.8837\n",
            "Epoch 94/200\n",
            "2/2 [==============================] - 0s 12ms/step - loss: 0.7401 - accuracy: 0.8372\n",
            "Epoch 95/200\n",
            "2/2 [==============================] - 0s 9ms/step - loss: 0.7659 - accuracy: 0.7907\n",
            "Epoch 96/200\n",
            "2/2 [==============================] - 0s 11ms/step - loss: 0.6089 - accuracy: 0.8372\n",
            "Epoch 97/200\n",
            "2/2 [==============================] - 0s 7ms/step - loss: 0.6857 - accuracy: 0.8605\n",
            "Epoch 98/200\n",
            "2/2 [==============================] - 0s 6ms/step - loss: 0.6522 - accuracy: 0.9070\n",
            "Epoch 99/200\n",
            "2/2 [==============================] - 0s 10ms/step - loss: 0.4744 - accuracy: 0.9070\n",
            "Epoch 100/200\n",
            "2/2 [==============================] - 0s 6ms/step - loss: 0.6563 - accuracy: 0.8837\n",
            "Epoch 101/200\n",
            "2/2 [==============================] - 0s 7ms/step - loss: 0.7207 - accuracy: 0.8372\n",
            "Epoch 102/200\n",
            "2/2 [==============================] - 0s 8ms/step - loss: 0.6335 - accuracy: 0.8605\n",
            "Epoch 103/200\n",
            "2/2 [==============================] - 0s 7ms/step - loss: 0.7077 - accuracy: 0.8140\n",
            "Epoch 104/200\n",
            "2/2 [==============================] - 0s 11ms/step - loss: 0.6348 - accuracy: 0.8837\n",
            "Epoch 105/200\n",
            "2/2 [==============================] - 0s 6ms/step - loss: 0.6630 - accuracy: 0.9070\n",
            "Epoch 106/200\n",
            "2/2 [==============================] - 0s 10ms/step - loss: 0.4523 - accuracy: 0.9070\n",
            "Epoch 107/200\n",
            "2/2 [==============================] - 0s 10ms/step - loss: 0.5692 - accuracy: 0.9070\n",
            "Epoch 108/200\n",
            "2/2 [==============================] - 0s 12ms/step - loss: 0.6747 - accuracy: 0.8605\n",
            "Epoch 109/200\n",
            "2/2 [==============================] - 0s 9ms/step - loss: 0.5295 - accuracy: 0.9535\n",
            "Epoch 110/200\n",
            "2/2 [==============================] - 0s 11ms/step - loss: 0.4278 - accuracy: 0.9535\n",
            "Epoch 111/200\n",
            "2/2 [==============================] - 0s 10ms/step - loss: 0.5497 - accuracy: 0.9070\n",
            "Epoch 112/200\n",
            "2/2 [==============================] - 0s 12ms/step - loss: 0.4437 - accuracy: 0.9070\n",
            "Epoch 113/200\n",
            "2/2 [==============================] - 0s 10ms/step - loss: 0.5463 - accuracy: 0.9070\n",
            "Epoch 114/200\n",
            "2/2 [==============================] - 0s 8ms/step - loss: 0.4800 - accuracy: 0.9535\n",
            "Epoch 115/200\n",
            "2/2 [==============================] - 0s 11ms/step - loss: 0.3993 - accuracy: 0.9535\n",
            "Epoch 116/200\n",
            "2/2 [==============================] - 0s 11ms/step - loss: 0.3610 - accuracy: 1.0000\n",
            "Epoch 117/200\n",
            "2/2 [==============================] - 0s 12ms/step - loss: 0.5078 - accuracy: 0.9302\n",
            "Epoch 118/200\n",
            "2/2 [==============================] - 0s 11ms/step - loss: 0.4944 - accuracy: 0.9767\n",
            "Epoch 119/200\n",
            "2/2 [==============================] - 0s 8ms/step - loss: 0.5334 - accuracy: 0.9070\n",
            "Epoch 120/200\n",
            "2/2 [==============================] - 0s 9ms/step - loss: 0.3683 - accuracy: 0.9767\n",
            "Epoch 121/200\n",
            "2/2 [==============================] - 0s 6ms/step - loss: 0.4396 - accuracy: 0.9302\n",
            "Epoch 122/200\n",
            "2/2 [==============================] - 0s 7ms/step - loss: 0.4563 - accuracy: 0.9070\n",
            "Epoch 123/200\n",
            "2/2 [==============================] - 0s 7ms/step - loss: 0.3850 - accuracy: 0.9767\n",
            "Epoch 124/200\n",
            "2/2 [==============================] - 0s 7ms/step - loss: 0.4601 - accuracy: 0.9070\n",
            "Epoch 125/200\n",
            "2/2 [==============================] - 0s 9ms/step - loss: 0.4813 - accuracy: 0.9302\n",
            "Epoch 126/200\n",
            "2/2 [==============================] - 0s 8ms/step - loss: 0.4256 - accuracy: 0.9302\n",
            "Epoch 127/200\n",
            "2/2 [==============================] - 0s 9ms/step - loss: 0.3725 - accuracy: 0.9535\n",
            "Epoch 128/200\n",
            "2/2 [==============================] - 0s 6ms/step - loss: 0.5173 - accuracy: 0.9070\n",
            "Epoch 129/200\n",
            "2/2 [==============================] - 0s 7ms/step - loss: 0.3458 - accuracy: 0.9767\n",
            "Epoch 130/200\n",
            "2/2 [==============================] - 0s 5ms/step - loss: 0.4028 - accuracy: 0.9070\n",
            "Epoch 131/200\n",
            "2/2 [==============================] - 0s 9ms/step - loss: 0.3891 - accuracy: 0.9535\n",
            "Epoch 132/200\n",
            "2/2 [==============================] - 0s 10ms/step - loss: 0.3309 - accuracy: 0.9302\n",
            "Epoch 133/200\n",
            "2/2 [==============================] - 0s 7ms/step - loss: 0.2785 - accuracy: 1.0000\n",
            "Epoch 134/200\n",
            "2/2 [==============================] - 0s 6ms/step - loss: 0.3151 - accuracy: 0.9535\n",
            "Epoch 135/200\n",
            "2/2 [==============================] - 0s 11ms/step - loss: 0.4178 - accuracy: 0.9070\n",
            "Epoch 136/200\n",
            "2/2 [==============================] - 0s 8ms/step - loss: 0.3305 - accuracy: 0.9535\n",
            "Epoch 137/200\n",
            "2/2 [==============================] - 0s 9ms/step - loss: 0.2717 - accuracy: 0.9535\n",
            "Epoch 138/200\n",
            "2/2 [==============================] - 0s 7ms/step - loss: 0.4530 - accuracy: 0.8837\n",
            "Epoch 139/200\n",
            "2/2 [==============================] - 0s 8ms/step - loss: 0.3058 - accuracy: 0.9302\n",
            "Epoch 140/200\n",
            "2/2 [==============================] - 0s 6ms/step - loss: 0.3479 - accuracy: 0.9767\n",
            "Epoch 141/200\n",
            "2/2 [==============================] - 0s 9ms/step - loss: 0.3650 - accuracy: 0.9070\n",
            "Epoch 142/200\n",
            "2/2 [==============================] - 0s 9ms/step - loss: 0.3675 - accuracy: 0.9535\n",
            "Epoch 143/200\n",
            "2/2 [==============================] - 0s 10ms/step - loss: 0.3996 - accuracy: 0.9070\n",
            "Epoch 144/200\n",
            "2/2 [==============================] - 0s 7ms/step - loss: 0.3584 - accuracy: 0.9302\n",
            "Epoch 145/200\n",
            "2/2 [==============================] - 0s 6ms/step - loss: 0.3434 - accuracy: 0.9070\n",
            "Epoch 146/200\n",
            "2/2 [==============================] - 0s 6ms/step - loss: 0.2723 - accuracy: 0.9535\n",
            "Epoch 147/200\n",
            "2/2 [==============================] - 0s 6ms/step - loss: 0.3344 - accuracy: 0.8605\n",
            "Epoch 148/200\n",
            "2/2 [==============================] - 0s 9ms/step - loss: 0.2528 - accuracy: 0.9767\n",
            "Epoch 149/200\n",
            "2/2 [==============================] - 0s 6ms/step - loss: 0.2334 - accuracy: 0.9767\n",
            "Epoch 150/200\n",
            "2/2 [==============================] - 0s 6ms/step - loss: 0.2324 - accuracy: 1.0000\n",
            "Epoch 151/200\n",
            "2/2 [==============================] - 0s 11ms/step - loss: 0.3101 - accuracy: 0.9535\n",
            "Epoch 152/200\n",
            "2/2 [==============================] - 0s 8ms/step - loss: 0.2503 - accuracy: 1.0000\n",
            "Epoch 153/200\n",
            "2/2 [==============================] - 0s 7ms/step - loss: 0.2720 - accuracy: 0.9302\n",
            "Epoch 154/200\n",
            "2/2 [==============================] - 0s 6ms/step - loss: 0.2696 - accuracy: 0.9070\n",
            "Epoch 155/200\n",
            "2/2 [==============================] - 0s 7ms/step - loss: 0.2972 - accuracy: 0.9535\n",
            "Epoch 156/200\n",
            "2/2 [==============================] - 0s 12ms/step - loss: 0.2981 - accuracy: 0.9535\n",
            "Epoch 157/200\n",
            "2/2 [==============================] - 0s 7ms/step - loss: 0.2448 - accuracy: 0.9767\n",
            "Epoch 158/200\n",
            "2/2 [==============================] - 0s 7ms/step - loss: 0.1778 - accuracy: 1.0000\n",
            "Epoch 159/200\n",
            "2/2 [==============================] - 0s 8ms/step - loss: 0.3412 - accuracy: 0.8837\n",
            "Epoch 160/200\n",
            "2/2 [==============================] - 0s 9ms/step - loss: 0.2725 - accuracy: 0.9535\n",
            "Epoch 161/200\n",
            "2/2 [==============================] - 0s 7ms/step - loss: 0.3042 - accuracy: 0.9302\n",
            "Epoch 162/200\n",
            "2/2 [==============================] - 0s 7ms/step - loss: 0.2431 - accuracy: 0.9535\n",
            "Epoch 163/200\n",
            "2/2 [==============================] - 0s 9ms/step - loss: 0.2566 - accuracy: 0.9535\n",
            "Epoch 164/200\n",
            "2/2 [==============================] - 0s 12ms/step - loss: 0.1848 - accuracy: 1.0000\n",
            "Epoch 165/200\n",
            "2/2 [==============================] - 0s 6ms/step - loss: 0.2275 - accuracy: 0.9535\n",
            "Epoch 166/200\n",
            "2/2 [==============================] - 0s 8ms/step - loss: 0.2452 - accuracy: 0.9767\n",
            "Epoch 167/200\n",
            "2/2 [==============================] - 0s 7ms/step - loss: 0.1490 - accuracy: 1.0000\n",
            "Epoch 168/200\n",
            "2/2 [==============================] - 0s 7ms/step - loss: 0.1943 - accuracy: 0.9535\n",
            "Epoch 169/200\n",
            "2/2 [==============================] - 0s 7ms/step - loss: 0.1859 - accuracy: 1.0000\n",
            "Epoch 170/200\n",
            "2/2 [==============================] - 0s 6ms/step - loss: 0.1723 - accuracy: 0.9767\n",
            "Epoch 171/200\n",
            "2/2 [==============================] - 0s 7ms/step - loss: 0.3281 - accuracy: 0.9535\n",
            "Epoch 172/200\n",
            "2/2 [==============================] - 0s 8ms/step - loss: 0.2308 - accuracy: 0.9535\n",
            "Epoch 173/200\n",
            "2/2 [==============================] - 0s 11ms/step - loss: 0.2163 - accuracy: 1.0000\n",
            "Epoch 174/200\n",
            "2/2 [==============================] - 0s 7ms/step - loss: 0.1749 - accuracy: 0.9767\n",
            "Epoch 175/200\n",
            "2/2 [==============================] - 0s 8ms/step - loss: 0.2613 - accuracy: 0.9535\n",
            "Epoch 176/200\n",
            "2/2 [==============================] - 0s 8ms/step - loss: 0.1308 - accuracy: 1.0000\n",
            "Epoch 177/200\n",
            "2/2 [==============================] - 0s 7ms/step - loss: 0.1612 - accuracy: 1.0000\n",
            "Epoch 178/200\n",
            "2/2 [==============================] - 0s 7ms/step - loss: 0.1272 - accuracy: 1.0000\n",
            "Epoch 179/200\n",
            "2/2 [==============================] - 0s 7ms/step - loss: 0.1453 - accuracy: 0.9535\n",
            "Epoch 180/200\n",
            "2/2 [==============================] - 0s 11ms/step - loss: 0.2407 - accuracy: 0.9302\n",
            "Epoch 181/200\n",
            "2/2 [==============================] - 0s 7ms/step - loss: 0.1776 - accuracy: 0.9767\n",
            "Epoch 182/200\n",
            "2/2 [==============================] - 0s 9ms/step - loss: 0.1592 - accuracy: 1.0000\n",
            "Epoch 183/200\n",
            "2/2 [==============================] - 0s 9ms/step - loss: 0.1645 - accuracy: 0.9535\n",
            "Epoch 184/200\n",
            "2/2 [==============================] - 0s 5ms/step - loss: 0.2522 - accuracy: 0.9767\n",
            "Epoch 185/200\n",
            "2/2 [==============================] - 0s 7ms/step - loss: 0.1995 - accuracy: 0.9535\n",
            "Epoch 186/200\n",
            "2/2 [==============================] - 0s 7ms/step - loss: 0.2080 - accuracy: 0.9767\n",
            "Epoch 187/200\n",
            "2/2 [==============================] - 0s 7ms/step - loss: 0.2249 - accuracy: 0.9767\n",
            "Epoch 188/200\n",
            "2/2 [==============================] - 0s 8ms/step - loss: 0.2456 - accuracy: 0.9302\n",
            "Epoch 189/200\n",
            "2/2 [==============================] - 0s 7ms/step - loss: 0.1328 - accuracy: 1.0000\n",
            "Epoch 190/200\n",
            "2/2 [==============================] - 0s 6ms/step - loss: 0.1912 - accuracy: 0.9535\n",
            "Epoch 191/200\n",
            "2/2 [==============================] - 0s 6ms/step - loss: 0.1352 - accuracy: 1.0000\n",
            "Epoch 192/200\n",
            "2/2 [==============================] - 0s 5ms/step - loss: 0.1044 - accuracy: 1.0000\n",
            "Epoch 193/200\n",
            "2/2 [==============================] - 0s 8ms/step - loss: 0.2439 - accuracy: 0.9302\n",
            "Epoch 194/200\n",
            "2/2 [==============================] - 0s 9ms/step - loss: 0.1520 - accuracy: 0.9535\n",
            "Epoch 195/200\n",
            "2/2 [==============================] - 0s 7ms/step - loss: 0.2413 - accuracy: 0.9535\n",
            "Epoch 196/200\n",
            "2/2 [==============================] - 0s 8ms/step - loss: 0.1789 - accuracy: 0.9767\n",
            "Epoch 197/200\n",
            "2/2 [==============================] - 0s 9ms/step - loss: 0.1008 - accuracy: 1.0000\n",
            "Epoch 198/200\n",
            "2/2 [==============================] - 0s 13ms/step - loss: 0.1198 - accuracy: 1.0000\n",
            "Epoch 199/200\n",
            "2/2 [==============================] - 0s 7ms/step - loss: 0.1373 - accuracy: 1.0000\n",
            "Epoch 200/200\n",
            "2/2 [==============================] - 0s 7ms/step - loss: 0.1575 - accuracy: 0.9767\n"
          ]
        }
      ]
    },
    {
      "cell_type": "code",
      "metadata": {
        "colab": {
          "base_uri": "https://localhost:8080/",
          "height": 265
        },
        "id": "Pb1GZDjGRP6Q",
        "outputId": "a3cdd232-ee9b-4661-807f-a0fa2cabaf7d"
      },
      "source": [
        "import matplotlib.pyplot as plt\n",
        "import seaborn as sns\n",
        "\n",
        "# Entrenamiento\n",
        "epoch_count = range(1, len(hist.history['accuracy']) + 1)\n",
        "sns.lineplot(x=epoch_count,  y=hist.history['accuracy'], label='train')\n",
        "plt.show()"
      ],
      "execution_count": null,
      "outputs": [
        {
          "data": {
            "image/png": "[encoded data removed]",
            "text/plain": [
              "<Figure size 432x288 with 1 Axes>"
            ]
          },
          "metadata": {},
          "output_type": "display_data"
        }
      ]
    },
    {
      "cell_type": "code",
      "metadata": {
        "id": "eTVDnrV0mDRf"
      },
      "source": [
        "# Guardar lo necesario para poder re-utilizar este modelo en el futuro\n",
        "# el vocabulario utilizado (words)\n",
        "# las posibles clases\n",
        "# el modelo\n",
        "\n",
        "import pickle\n",
        "pickle.dump(words, open('words.pkl','wb'))\n",
        "pickle.dump(classes, open('classes.pkl','wb'))\n",
        "model.save('chatbot_model.h5')"
      ],
      "execution_count": null,
      "outputs": []
    },
    {
      "cell_type": "markdown",
      "metadata": {
        "id": "TnD1WvhBfVYR"
      },
      "source": [
        "### 6 - Testing y validación"
      ]
    },
    {
      "cell_type": "code",
      "metadata": {
        "id": "kqBdSGt8Orkm"
      },
      "source": [
        "def text_to_tokens(text): \n",
        "    lemma_tokens = []\n",
        "    tokens = nlp(preprocess_clean_text(text.lower()))\n",
        "    for token in tokens:\n",
        "        lemma_tokens.append(token.lemma_)\n",
        "    #print(lemma_tokens)\n",
        "    return lemma_tokens\n",
        "\n",
        "def bag_of_words(text, vocab): \n",
        "    tokens = text_to_tokens(text)\n",
        "    bow = [0] * len(vocab)\n",
        "    for w in tokens: \n",
        "        for idx, word in enumerate(vocab):\n",
        "            if word == w: \n",
        "                bow[idx] = 1\n",
        "    #print(bow)\n",
        "    return np.array(bow)\n",
        "\n",
        "def pred_class(text, vocab, labels): \n",
        "    bow = bag_of_words(text, vocab)\n",
        "    words_recognized = sum(bow)\n",
        "\n",
        "    return_list = []\n",
        "    if words_recognized > 0:\n",
        "        result = model.predict(np.array([bow]))[0]\n",
        "        thresh = 0.2\n",
        "        y_pred = [[idx, res] for idx, res in enumerate(result) if res > thresh]\n",
        "        y_pred.sort(key=lambda x: x[1], reverse=True)\n",
        "    \n",
        "        for r in y_pred:\n",
        "            return_list.append(labels[r[0]])\n",
        "            #print(labels[r[0]], r[1])\n",
        "\n",
        "    return return_list\n",
        "\n",
        "def get_response(intents_list, intents_json):\n",
        "    tag = intents_list[0]\n",
        "    list_of_intents = intents_json[\"intents\"]\n",
        "    for i in list_of_intents: \n",
        "        if i[\"tag\"] == tag:\n",
        "            result = \"BOT: \" + random.choice(i[\"responses\"])\n",
        "            break\n",
        "    return result"
      ],
      "execution_count": null,
      "outputs": []
    },
    {
      "cell_type": "code",
      "metadata": {
        "colab": {
          "background_save": true,
          "base_uri": "https://localhost:8080/"
        },
        "id": "Xp1vXQwdOvl7",
        "outputId": "b53a80e5-a939-4e41-c2bf-7487924876f8"
      },
      "source": [
        "while True:\n",
        "    message = input(\"\")\n",
        "    intents = pred_class(message, words, classes)\n",
        "    if len(intents) > 0:\n",
        "        result = get_response(intents, dataset)\n",
        "        print(result)\n",
        "    else:\n",
        "        print(\"Perdón, no comprendo la pregunta.\")\n",
        "    "
      ],
      "execution_count": null,
      "outputs": [
        {
          "name": "stdout",
          "output_type": "stream",
          "text": [
            "BOT: Hola! ¿En qué puedo ayudarte?\n",
            "BOT: Soy RuconBot, parte del equipo de Rucon!\n",
            "BOT: Aca te dejo un link con los cursos disponibles! <link_cursos_disponibles>\n",
            "BOT: En el siguiente link podrás encontrar los precios de todos nuestros cursos:<link_precios_cursos>\n",
            "BOT: Por nada! Quedamos en contacto :)\n",
            "BOT: Hablamos!\n"
          ]
        },
        {
          "ename": "KeyboardInterrupt",
          "evalue": "ignored",
          "output_type": "error",
          "traceback": [
            "\u001b[0;31m---------------------------------------------------------------------------\u001b[0m",
            "\u001b[0;31mKeyboardInterrupt\u001b[0m                         Traceback (most recent call last)",
            "\u001b[0;32m/usr/local/lib/python3.7/dist-packages/ipykernel/kernelbase.py\u001b[0m in \u001b[0;36m_input_request\u001b[0;34m(self, prompt, ident, parent, password)\u001b[0m\n\u001b[1;32m    728\u001b[0m             \u001b[0;32mtry\u001b[0m\u001b[0;34m:\u001b[0m\u001b[0;34m\u001b[0m\u001b[0;34m\u001b[0m\u001b[0m\n\u001b[0;32m--> 729\u001b[0;31m                 \u001b[0mident\u001b[0m\u001b[0;34m,\u001b[0m \u001b[0mreply\u001b[0m \u001b[0;34m=\u001b[0m \u001b[0mself\u001b[0m\u001b[0;34m.\u001b[0m\u001b[0msession\u001b[0m\u001b[0;34m.\u001b[0m\u001b[0mrecv\u001b[0m\u001b[0;34m(\u001b[0m\u001b[0mself\u001b[0m\u001b[0;34m.\u001b[0m\u001b[0mstdin_socket\u001b[0m\u001b[0;34m,\u001b[0m \u001b[0;36m0\u001b[0m\u001b[0;34m)\u001b[0m\u001b[0;34m\u001b[0m\u001b[0;34m\u001b[0m\u001b[0m\n\u001b[0m\u001b[1;32m    730\u001b[0m             \u001b[0;32mexcept\u001b[0m \u001b[0mException\u001b[0m\u001b[0;34m:\u001b[0m\u001b[0;34m\u001b[0m\u001b[0;34m\u001b[0m\u001b[0m\n",
            "\u001b[0;32m/usr/local/lib/python3.7/dist-packages/jupyter_client/session.py\u001b[0m in \u001b[0;36mrecv\u001b[0;34m(self, socket, mode, content, copy)\u001b[0m\n\u001b[1;32m    802\u001b[0m         \u001b[0;32mtry\u001b[0m\u001b[0;34m:\u001b[0m\u001b[0;34m\u001b[0m\u001b[0;34m\u001b[0m\u001b[0m\n\u001b[0;32m--> 803\u001b[0;31m             \u001b[0mmsg_list\u001b[0m \u001b[0;34m=\u001b[0m \u001b[0msocket\u001b[0m\u001b[0;34m.\u001b[0m\u001b[0mrecv_multipart\u001b[0m\u001b[0;34m(\u001b[0m\u001b[0mmode\u001b[0m\u001b[0;34m,\u001b[0m \u001b[0mcopy\u001b[0m\u001b[0;34m=\u001b[0m\u001b[0mcopy\u001b[0m\u001b[0;34m)\u001b[0m\u001b[0;34m\u001b[0m\u001b[0;34m\u001b[0m\u001b[0m\n\u001b[0m\u001b[1;32m    804\u001b[0m         \u001b[0;32mexcept\u001b[0m \u001b[0mzmq\u001b[0m\u001b[0;34m.\u001b[0m\u001b[0mZMQError\u001b[0m \u001b[0;32mas\u001b[0m \u001b[0me\u001b[0m\u001b[0;34m:\u001b[0m\u001b[0;34m\u001b[0m\u001b[0;34m\u001b[0m\u001b[0m\n",
            "\u001b[0;32m/usr/local/lib/python3.7/dist-packages/zmq/sugar/socket.py\u001b[0m in \u001b[0;36mrecv_multipart\u001b[0;34m(self, flags, copy, track)\u001b[0m\n\u001b[1;32m    618\u001b[0m         \"\"\"\n\u001b[0;32m--> 619\u001b[0;31m         \u001b[0mparts\u001b[0m \u001b[0;34m=\u001b[0m \u001b[0;34m[\u001b[0m\u001b[0mself\u001b[0m\u001b[0;34m.\u001b[0m\u001b[0mrecv\u001b[0m\u001b[0;34m(\u001b[0m\u001b[0mflags\u001b[0m\u001b[0;34m,\u001b[0m \u001b[0mcopy\u001b[0m\u001b[0;34m=\u001b[0m\u001b[0mcopy\u001b[0m\u001b[0;34m,\u001b[0m \u001b[0mtrack\u001b[0m\u001b[0;34m=\u001b[0m\u001b[0mtrack\u001b[0m\u001b[0;34m)\u001b[0m\u001b[0;34m]\u001b[0m\u001b[0;34m\u001b[0m\u001b[0;34m\u001b[0m\u001b[0m\n\u001b[0m\u001b[1;32m    620\u001b[0m         \u001b[0;31m# have first part already, only loop while more to receive\u001b[0m\u001b[0;34m\u001b[0m\u001b[0;34m\u001b[0m\u001b[0;34m\u001b[0m\u001b[0m\n",
            "\u001b[0;32mzmq/backend/cython/socket.pyx\u001b[0m in \u001b[0;36mzmq.backend.cython.socket.Socket.recv\u001b[0;34m()\u001b[0m\n",
            "\u001b[0;32mzmq/backend/cython/socket.pyx\u001b[0m in \u001b[0;36mzmq.backend.cython.socket.Socket.recv\u001b[0;34m()\u001b[0m\n",
            "\u001b[0;32mzmq/backend/cython/socket.pyx\u001b[0m in \u001b[0;36mzmq.backend.cython.socket._recv_copy\u001b[0;34m()\u001b[0m\n",
            "\u001b[0;32m/usr/local/lib/python3.7/dist-packages/zmq/backend/cython/checkrc.pxd\u001b[0m in \u001b[0;36mzmq.backend.cython.checkrc._check_rc\u001b[0;34m()\u001b[0m\n",
            "\u001b[0;31mKeyboardInterrupt\u001b[0m: ",
            "\nDuring handling of the above exception, another exception occurred:\n",
            "\u001b[0;31mKeyboardInterrupt\u001b[0m                         Traceback (most recent call last)",
            "\u001b[0;32m<ipython-input-82-cf5f658f278f>\u001b[0m in \u001b[0;36m<module>\u001b[0;34m()\u001b[0m\n\u001b[1;32m      1\u001b[0m \u001b[0;32mwhile\u001b[0m \u001b[0;32mTrue\u001b[0m\u001b[0;34m:\u001b[0m\u001b[0;34m\u001b[0m\u001b[0;34m\u001b[0m\u001b[0m\n\u001b[0;32m----> 2\u001b[0;31m     \u001b[0mmessage\u001b[0m \u001b[0;34m=\u001b[0m \u001b[0minput\u001b[0m\u001b[0;34m(\u001b[0m\u001b[0;34m\"\"\u001b[0m\u001b[0;34m)\u001b[0m\u001b[0;34m\u001b[0m\u001b[0;34m\u001b[0m\u001b[0m\n\u001b[0m\u001b[1;32m      3\u001b[0m     \u001b[0mintents\u001b[0m \u001b[0;34m=\u001b[0m \u001b[0mpred_class\u001b[0m\u001b[0;34m(\u001b[0m\u001b[0mmessage\u001b[0m\u001b[0;34m,\u001b[0m \u001b[0mwords\u001b[0m\u001b[0;34m,\u001b[0m \u001b[0mclasses\u001b[0m\u001b[0;34m)\u001b[0m\u001b[0;34m\u001b[0m\u001b[0;34m\u001b[0m\u001b[0m\n\u001b[1;32m      4\u001b[0m     \u001b[0;32mif\u001b[0m \u001b[0mlen\u001b[0m\u001b[0;34m(\u001b[0m\u001b[0mintents\u001b[0m\u001b[0;34m)\u001b[0m \u001b[0;34m>\u001b[0m \u001b[0;36m0\u001b[0m\u001b[0;34m:\u001b[0m\u001b[0;34m\u001b[0m\u001b[0;34m\u001b[0m\u001b[0m\n\u001b[1;32m      5\u001b[0m         \u001b[0mresult\u001b[0m \u001b[0;34m=\u001b[0m \u001b[0mget_response\u001b[0m\u001b[0;34m(\u001b[0m\u001b[0mintents\u001b[0m\u001b[0;34m,\u001b[0m \u001b[0mdataset\u001b[0m\u001b[0;34m)\u001b[0m\u001b[0;34m\u001b[0m\u001b[0;34m\u001b[0m\u001b[0m\n",
            "\u001b[0;32m/usr/local/lib/python3.7/dist-packages/ipykernel/kernelbase.py\u001b[0m in \u001b[0;36mraw_input\u001b[0;34m(self, prompt)\u001b[0m\n\u001b[1;32m    702\u001b[0m             \u001b[0mself\u001b[0m\u001b[0;34m.\u001b[0m\u001b[0m_parent_ident\u001b[0m\u001b[0;34m,\u001b[0m\u001b[0;34m\u001b[0m\u001b[0;34m\u001b[0m\u001b[0m\n\u001b[1;32m    703\u001b[0m             \u001b[0mself\u001b[0m\u001b[0;34m.\u001b[0m\u001b[0m_parent_header\u001b[0m\u001b[0;34m,\u001b[0m\u001b[0;34m\u001b[0m\u001b[0;34m\u001b[0m\u001b[0m\n\u001b[0;32m--> 704\u001b[0;31m             \u001b[0mpassword\u001b[0m\u001b[0;34m=\u001b[0m\u001b[0;32mFalse\u001b[0m\u001b[0;34m,\u001b[0m\u001b[0;34m\u001b[0m\u001b[0;34m\u001b[0m\u001b[0m\n\u001b[0m\u001b[1;32m    705\u001b[0m         )\n\u001b[1;32m    706\u001b[0m \u001b[0;34m\u001b[0m\u001b[0m\n",
            "\u001b[0;32m/usr/local/lib/python3.7/dist-packages/ipykernel/kernelbase.py\u001b[0m in \u001b[0;36m_input_request\u001b[0;34m(self, prompt, ident, parent, password)\u001b[0m\n\u001b[1;32m    732\u001b[0m             \u001b[0;32mexcept\u001b[0m \u001b[0mKeyboardInterrupt\u001b[0m\u001b[0;34m:\u001b[0m\u001b[0;34m\u001b[0m\u001b[0;34m\u001b[0m\u001b[0m\n\u001b[1;32m    733\u001b[0m                 \u001b[0;31m# re-raise KeyboardInterrupt, to truncate traceback\u001b[0m\u001b[0;34m\u001b[0m\u001b[0;34m\u001b[0m\u001b[0;34m\u001b[0m\u001b[0m\n\u001b[0;32m--> 734\u001b[0;31m                 \u001b[0;32mraise\u001b[0m \u001b[0mKeyboardInterrupt\u001b[0m\u001b[0;34m\u001b[0m\u001b[0;34m\u001b[0m\u001b[0m\n\u001b[0m\u001b[1;32m    735\u001b[0m             \u001b[0;32melse\u001b[0m\u001b[0;34m:\u001b[0m\u001b[0;34m\u001b[0m\u001b[0;34m\u001b[0m\u001b[0m\n\u001b[1;32m    736\u001b[0m                 \u001b[0;32mbreak\u001b[0m\u001b[0;34m\u001b[0m\u001b[0;34m\u001b[0m\u001b[0m\n",
            "\u001b[0;31mKeyboardInterrupt\u001b[0m: "
          ]
        }
      ]
    },
    {
      "cell_type": "markdown",
      "metadata": {
        "id": "ayatkwp4fYQx"
      },
      "source": [
        "### 7 - Conclusiones\n",
        "El bot tal cual está definido es capaz de responder a bastantes tipos de preguntas con gran precisión. Algunas técnicas que podrían ensayarse para evaluar como impactan en el sistema son:\n",
        "- Filtrar los stop words\n",
        "- Utilizar TF-IDF en vez de bag of words"
      ]
    }
  ]
}