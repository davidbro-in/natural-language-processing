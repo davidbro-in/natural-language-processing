{
  "nbformat": 4,
  "nbformat_minor": 0,
  "metadata": {
    "colab": {
      "name": "5_sentimental_analysis_embeddings_lstm.ipynb",
      "provenance": [],
      "collapsed_sections": [],
      "include_colab_link": true
    },
    "kernelspec": {
      "name": "python3",
      "display_name": "Python 3"
    },
    "language_info": {
      "name": "python"
    },
    "accelerator": "GPU"
  },
  "cells": [
    {
      "cell_type": "markdown",
      "metadata": {
        "id": "view-in-github",
        "colab_type": "text"
      },
      "source": [
        "<a href=\"https://colab.research.google.com/github/davidbro-in/natural-language-processing/blob/main/5_sentimental_analysis_embeddings_lstm.ipynb\" target=\"_parent\"><img src=\"https://colab.research.google.com/assets/colab-badge.svg\" alt=\"Open In Colab\"/></a>"
      ]
    },
    {
      "cell_type": "markdown",
      "metadata": {
        "id": "kBLpTr7plguX"
      },
      "source": [
        "<a href=\"https://www.inove.com.ar\"><img src=\"https://github.com/hernancontigiani/ceia_memorias_especializacion/raw/master/Figures/logoFIUBA.jpg\" width=\"500\" align=\"center\"></a>\n",
        "\n",
        "\n",
        "# Procesamiento de lenguaje natural\n",
        "## Sentiment analysis con Embeddings + LSTM"
      ]
    },
    {
      "cell_type": "markdown",
      "metadata": {
        "id": "9W6nuajhlqZD"
      },
      "source": [
        "### Objetivo\n",
        "El objetivo es utilizar las críticas de compradores de ropa para que el sistema determine la evaluación del comprador y su crítica (cuantas estrellas le asigna al producto)."
      ]
    },
    {
      "cell_type": "code",
      "metadata": {
        "id": "hCpOVzJdl8_p"
      },
      "source": [
        "import numpy as np\n",
        "import random\n",
        "import io\n",
        "import pickle\n",
        "import pandas as pd\n",
        "\n",
        "import matplotlib.pyplot as plt\n",
        "import seaborn as sns\n",
        "\n",
        "from tensorflow import keras\n",
        "from tensorflow.keras import layers\n",
        "\n",
        "from keras.utils.np_utils import to_categorical\n",
        "from keras.preprocessing.sequence import pad_sequences\n",
        "from keras.models import Sequential\n",
        "from keras.layers import Dense\n",
        "from keras.layers import LSTM\n",
        "from keras.layers import Embedding"
      ],
      "execution_count": 1,
      "outputs": []
    },
    {
      "cell_type": "markdown",
      "metadata": {
        "id": "8UPeRkrAmbF3"
      },
      "source": [
        "### Datos\n",
        "Utilizaremos como dataset críticas de compradores de ropa (eCommerce) los cuales puntuaron a cada prenda con un puntaje de 1 a 5 estrellas.\\\n",
        "Referencia del dataset: [LINK](https://www.kaggle.com/nicapotato/womens-ecommerce-clothing-reviews/version/1)"
      ]
    },
    {
      "cell_type": "code",
      "metadata": {
        "id": "C7jLvTU3lSyL",
        "outputId": "448535f9-3d96-4495-85e5-b5cfc840196a",
        "colab": {
          "base_uri": "https://localhost:8080/"
        }
      },
      "source": [
        "# Descargar la carpeta de dataset\n",
        "import os\n",
        "import gdown\n",
        "if os.access('clothing_ecommerce_reviews.csv', os.F_OK) is False:\n",
        "    url = 'https://drive.google.com/uc?id=1k2Dz4oY5uxI3JEaT6m-L2T2HvLkECYIP'\n",
        "    output = 'clothing_ecommerce_reviews.csv'\n",
        "    gdown.download(url, output, quiet=False)\n",
        "else:\n",
        "    print(\"El dataset ya se encuentra descargado\")"
      ],
      "execution_count": 2,
      "outputs": [
        {
          "output_type": "stream",
          "name": "stdout",
          "text": [
            "El dataset ya se encuentra descargado\n"
          ]
        }
      ]
    },
    {
      "cell_type": "code",
      "metadata": {
        "id": "o-SV1P3dnD1J",
        "outputId": "4eafba1e-a61c-4512-e874-c1a928a8222a",
        "colab": {
          "base_uri": "https://localhost:8080/",
          "height": 391
        }
      },
      "source": [
        "# Armar el dataset\n",
        "df = pd.read_csv('clothing_ecommerce_reviews.csv')\n",
        "df.drop(columns = ['Unnamed: 0'], inplace = True)\n",
        "df.head()"
      ],
      "execution_count": 3,
      "outputs": [
        {
          "output_type": "execute_result",
          "data": {
            "text/html": [
              "<div>\n",
              "<style scoped>\n",
              "    .dataframe tbody tr th:only-of-type {\n",
              "        vertical-align: middle;\n",
              "    }\n",
              "\n",
              "    .dataframe tbody tr th {\n",
              "        vertical-align: top;\n",
              "    }\n",
              "\n",
              "    .dataframe thead th {\n",
              "        text-align: right;\n",
              "    }\n",
              "</style>\n",
              "<table border=\"1\" class=\"dataframe\">\n",
              "  <thead>\n",
              "    <tr style=\"text-align: right;\">\n",
              "      <th></th>\n",
              "      <th>Clothing ID</th>\n",
              "      <th>Age</th>\n",
              "      <th>Title</th>\n",
              "      <th>Review Text</th>\n",
              "      <th>Rating</th>\n",
              "      <th>Recommended IND</th>\n",
              "      <th>Positive Feedback Count</th>\n",
              "      <th>Division Name</th>\n",
              "      <th>Department Name</th>\n",
              "      <th>Class Name</th>\n",
              "    </tr>\n",
              "  </thead>\n",
              "  <tbody>\n",
              "    <tr>\n",
              "      <th>0</th>\n",
              "      <td>767</td>\n",
              "      <td>33</td>\n",
              "      <td>NaN</td>\n",
              "      <td>Absolutely wonderful - silky and sexy and comf...</td>\n",
              "      <td>4</td>\n",
              "      <td>1</td>\n",
              "      <td>0</td>\n",
              "      <td>Initmates</td>\n",
              "      <td>Intimate</td>\n",
              "      <td>Intimates</td>\n",
              "    </tr>\n",
              "    <tr>\n",
              "      <th>1</th>\n",
              "      <td>1080</td>\n",
              "      <td>34</td>\n",
              "      <td>NaN</td>\n",
              "      <td>Love this dress!  it's sooo pretty.  i happene...</td>\n",
              "      <td>5</td>\n",
              "      <td>1</td>\n",
              "      <td>4</td>\n",
              "      <td>General</td>\n",
              "      <td>Dresses</td>\n",
              "      <td>Dresses</td>\n",
              "    </tr>\n",
              "    <tr>\n",
              "      <th>2</th>\n",
              "      <td>1077</td>\n",
              "      <td>60</td>\n",
              "      <td>Some major design flaws</td>\n",
              "      <td>I had such high hopes for this dress and reall...</td>\n",
              "      <td>3</td>\n",
              "      <td>0</td>\n",
              "      <td>0</td>\n",
              "      <td>General</td>\n",
              "      <td>Dresses</td>\n",
              "      <td>Dresses</td>\n",
              "    </tr>\n",
              "    <tr>\n",
              "      <th>3</th>\n",
              "      <td>1049</td>\n",
              "      <td>50</td>\n",
              "      <td>My favorite buy!</td>\n",
              "      <td>I love, love, love this jumpsuit. it's fun, fl...</td>\n",
              "      <td>5</td>\n",
              "      <td>1</td>\n",
              "      <td>0</td>\n",
              "      <td>General Petite</td>\n",
              "      <td>Bottoms</td>\n",
              "      <td>Pants</td>\n",
              "    </tr>\n",
              "    <tr>\n",
              "      <th>4</th>\n",
              "      <td>847</td>\n",
              "      <td>47</td>\n",
              "      <td>Flattering shirt</td>\n",
              "      <td>This shirt is very flattering to all due to th...</td>\n",
              "      <td>5</td>\n",
              "      <td>1</td>\n",
              "      <td>6</td>\n",
              "      <td>General</td>\n",
              "      <td>Tops</td>\n",
              "      <td>Blouses</td>\n",
              "    </tr>\n",
              "  </tbody>\n",
              "</table>\n",
              "</div>"
            ],
            "text/plain": [
              "   Clothing ID  Age  ... Department Name Class Name\n",
              "0          767   33  ...        Intimate  Intimates\n",
              "1         1080   34  ...         Dresses    Dresses\n",
              "2         1077   60  ...         Dresses    Dresses\n",
              "3         1049   50  ...         Bottoms      Pants\n",
              "4          847   47  ...            Tops    Blouses\n",
              "\n",
              "[5 rows x 10 columns]"
            ]
          },
          "metadata": {},
          "execution_count": 3
        }
      ]
    },
    {
      "cell_type": "markdown",
      "metadata": {
        "id": "q-OwSePKm-FK"
      },
      "source": [
        "### 1 - Limpieza de datos\n",
        "Alumno:\n",
        "- Del dataset unicamente utilizar las columnas \"Review Text\" y \"Rating.\n",
        "- Tranformar el rating 1-5 a una escala numérica de 0 a 4.\n",
        "\n"
      ]
    },
    {
      "cell_type": "code",
      "metadata": {
        "id": "-hc7-AmYnPC3",
        "outputId": "ffc3e1dc-2b9c-4146-e01a-ae298b25d0ce",
        "colab": {
          "base_uri": "https://localhost:8080/",
          "height": 204
        }
      },
      "source": [
        "df_reviews = df.loc[:, ['Review Text', 'Rating']].dropna()\n",
        "df_reviews['Rating'] = df_reviews['Rating'] - 1\n",
        "df_reviews.head()"
      ],
      "execution_count": 4,
      "outputs": [
        {
          "output_type": "execute_result",
          "data": {
            "text/html": [
              "<div>\n",
              "<style scoped>\n",
              "    .dataframe tbody tr th:only-of-type {\n",
              "        vertical-align: middle;\n",
              "    }\n",
              "\n",
              "    .dataframe tbody tr th {\n",
              "        vertical-align: top;\n",
              "    }\n",
              "\n",
              "    .dataframe thead th {\n",
              "        text-align: right;\n",
              "    }\n",
              "</style>\n",
              "<table border=\"1\" class=\"dataframe\">\n",
              "  <thead>\n",
              "    <tr style=\"text-align: right;\">\n",
              "      <th></th>\n",
              "      <th>Review Text</th>\n",
              "      <th>Rating</th>\n",
              "    </tr>\n",
              "  </thead>\n",
              "  <tbody>\n",
              "    <tr>\n",
              "      <th>0</th>\n",
              "      <td>Absolutely wonderful - silky and sexy and comf...</td>\n",
              "      <td>3</td>\n",
              "    </tr>\n",
              "    <tr>\n",
              "      <th>1</th>\n",
              "      <td>Love this dress!  it's sooo pretty.  i happene...</td>\n",
              "      <td>4</td>\n",
              "    </tr>\n",
              "    <tr>\n",
              "      <th>2</th>\n",
              "      <td>I had such high hopes for this dress and reall...</td>\n",
              "      <td>2</td>\n",
              "    </tr>\n",
              "    <tr>\n",
              "      <th>3</th>\n",
              "      <td>I love, love, love this jumpsuit. it's fun, fl...</td>\n",
              "      <td>4</td>\n",
              "    </tr>\n",
              "    <tr>\n",
              "      <th>4</th>\n",
              "      <td>This shirt is very flattering to all due to th...</td>\n",
              "      <td>4</td>\n",
              "    </tr>\n",
              "  </tbody>\n",
              "</table>\n",
              "</div>"
            ],
            "text/plain": [
              "                                         Review Text  Rating\n",
              "0  Absolutely wonderful - silky and sexy and comf...       3\n",
              "1  Love this dress!  it's sooo pretty.  i happene...       4\n",
              "2  I had such high hopes for this dress and reall...       2\n",
              "3  I love, love, love this jumpsuit. it's fun, fl...       4\n",
              "4  This shirt is very flattering to all due to th...       4"
            ]
          },
          "metadata": {},
          "execution_count": 4
        }
      ]
    },
    {
      "cell_type": "code",
      "metadata": {
        "id": "sZtvASVOn3ty",
        "outputId": "103aab83-837c-46d1-9bb4-49e98223bffc",
        "colab": {
          "base_uri": "https://localhost:8080/",
          "height": 279
        }
      },
      "source": [
        "# Alumno: Observar como está distribuido el dataset respecto a la columna Rating\n",
        "# es decir, observar que tan balanceado se encuentra respecot a cada clase\n",
        "sns.countplot(x='Rating', data=df_reviews)\n",
        "plt.show()"
      ],
      "execution_count": 5,
      "outputs": [
        {
          "output_type": "display_data",
          "data": {
            "image/png": "[encoded data removed]",
            "text/plain": [
              "<Figure size 432x288 with 1 Axes>"
            ]
          },
          "metadata": {
            "needs_background": "light"
          }
        }
      ]
    },
    {
      "cell_type": "code",
      "metadata": {
        "id": "gVJ_RVi4o1h3"
      },
      "source": [
        "# Alumno: tomar la columna de las review y almacenarlo todo en un vector numpy de reviews\n",
        "text_sequences = df_reviews['Review Text'].values"
      ],
      "execution_count": 6,
      "outputs": []
    },
    {
      "cell_type": "code",
      "metadata": {
        "id": "4nT5Un_co65Q",
        "outputId": "49a2d9bf-4caf-4f15-9372-94b0780931ac",
        "colab": {
          "base_uri": "https://localhost:8080/"
        }
      },
      "source": [
        "# Alumno: Cuantas reviews (rows) hay para evaluar?\n",
        "text_sequences.shape"
      ],
      "execution_count": 7,
      "outputs": [
        {
          "output_type": "execute_result",
          "data": {
            "text/plain": [
              "(22641,)"
            ]
          },
          "metadata": {},
          "execution_count": 7
        }
      ]
    },
    {
      "cell_type": "code",
      "metadata": {
        "id": "HP5uN9tqpHu_"
      },
      "source": [
        "# Alumno: Concatenar todas las reviews para armar el corpus\n",
        "corpus = ' '.join(text_sequences)"
      ],
      "execution_count": 8,
      "outputs": []
    },
    {
      "cell_type": "code",
      "metadata": {
        "id": "FEzmePgdpf74",
        "outputId": "bff194f7-57b4-4c45-f877-53274eebe214",
        "colab": {
          "base_uri": "https://localhost:8080/"
        }
      },
      "source": [
        "# Alumno: ¿Cuál es la longitud de ese corpus?\n",
        "len(corpus)"
      ],
      "execution_count": 9,
      "outputs": [
        {
          "output_type": "execute_result",
          "data": {
            "text/plain": [
              "7011643"
            ]
          },
          "metadata": {},
          "execution_count": 9
        }
      ]
    },
    {
      "cell_type": "code",
      "metadata": {
        "id": "MYeJLdDmpvOe"
      },
      "source": [
        "# Alumno: Utilizar \"text_to_word_sequence\" para separar las palabras en tokens\n",
        "# recordar que text_to_word_sequence automaticamente quita los signos de puntuacion y pasa el texto a lowercase\n",
        "from keras.preprocessing.text import text_to_word_sequence\n",
        "tokens = text_to_word_sequence(corpus)"
      ],
      "execution_count": 10,
      "outputs": []
    },
    {
      "cell_type": "code",
      "metadata": {
        "id": "M6L-fnWAp_lA",
        "outputId": "a64f50f6-915e-45b0-c38f-6c005c548ee8",
        "colab": {
          "base_uri": "https://localhost:8080/"
        }
      },
      "source": [
        "# Alumno: Dar un vistazo a los primeros 20 tokens/palabras\n",
        "tokens[:20]"
      ],
      "execution_count": 11,
      "outputs": [
        {
          "output_type": "execute_result",
          "data": {
            "text/plain": [
              "['absolutely',\n",
              " 'wonderful',\n",
              " 'silky',\n",
              " 'and',\n",
              " 'sexy',\n",
              " 'and',\n",
              " 'comfortable',\n",
              " 'love',\n",
              " 'this',\n",
              " 'dress',\n",
              " \"it's\",\n",
              " 'sooo',\n",
              " 'pretty',\n",
              " 'i',\n",
              " 'happened',\n",
              " 'to',\n",
              " 'find',\n",
              " 'it',\n",
              " 'in',\n",
              " 'a']"
            ]
          },
          "metadata": {},
          "execution_count": 11
        }
      ]
    },
    {
      "cell_type": "code",
      "metadata": {
        "id": "-8QgwwMUqG0d",
        "outputId": "717088bd-7265-4c58-bf9d-9df7fcc67f79",
        "colab": {
          "base_uri": "https://localhost:8080/"
        }
      },
      "source": [
        "# Alumno: ¿Cuántos tokens/palabras hay?\n",
        "len(tokens)"
      ],
      "execution_count": 12,
      "outputs": [
        {
          "output_type": "execute_result",
          "data": {
            "text/plain": [
              "1372203"
            ]
          },
          "metadata": {},
          "execution_count": 12
        }
      ]
    },
    {
      "cell_type": "code",
      "metadata": {
        "id": "TFukNZdOsZ8_"
      },
      "source": [
        "# Alumno: Tokenizar las palabras con el Tokenizer de Keras\n",
        "# Definir una máxima cantidad de palabras a utilizar:\n",
        "# num_words --> the maximum number of words to keep, based on word frequency.\n",
        "# Only the most common num_words-1 words will be kept.\n",
        "from keras.preprocessing.text import Tokenizer\n",
        "num_words = 2000\n",
        "vocab_size = num_words\n",
        "tok = Tokenizer(num_words=2000) \n",
        "tok.fit_on_texts(tokens)"
      ],
      "execution_count": 13,
      "outputs": []
    },
    {
      "cell_type": "code",
      "metadata": {
        "id": "JnR1tlqZy94X",
        "outputId": "4f4db44a-b8a5-4c39-c615-e4b937442f36",
        "colab": {
          "base_uri": "https://localhost:8080/"
        }
      },
      "source": [
        "# Alumno: Obtener el diccionario de palabra (word) a índice\n",
        "# y observar la cantidad total del vocabulario\n",
        "word_index = tok.word_index\n",
        "len(word_index)"
      ],
      "execution_count": 14,
      "outputs": [
        {
          "output_type": "execute_result",
          "data": {
            "text/plain": [
              "14847"
            ]
          },
          "metadata": {},
          "execution_count": 14
        }
      ]
    },
    {
      "cell_type": "code",
      "metadata": {
        "id": "AvWzzSretQXf"
      },
      "source": [
        "# Alumno: Convertir las palabras/tokens a números\n",
        "sequences = tok.texts_to_sequences(text_sequences)"
      ],
      "execution_count": 15,
      "outputs": []
    },
    {
      "cell_type": "code",
      "metadata": {
        "id": "za73M5SRtbrP",
        "outputId": "274ebcfc-c19d-416a-b3f3-47b141d10eed",
        "colab": {
          "base_uri": "https://localhost:8080/"
        }
      },
      "source": [
        "# Alumno: Determinar cual es la oración más larga\n",
        "max(len(s) for s in sequences)"
      ],
      "execution_count": 16,
      "outputs": [
        {
          "output_type": "execute_result",
          "data": {
            "text/plain": [
              "115"
            ]
          },
          "metadata": {},
          "execution_count": 16
        }
      ]
    },
    {
      "cell_type": "code",
      "metadata": {
        "id": "oCkO9Wc9tls1"
      },
      "source": [
        "# Alumno: Realizar padding de las sentencias al mismo tamaño\n",
        "# tomando de referencia la máxima sentencia\n",
        "from keras.preprocessing.sequence import pad_sequences\n",
        "maxlen = 115\n",
        "# Al realizar padding obtener la variable \"X\" (input)\n",
        "X = pad_sequences(sequences, padding='pre', maxlen=maxlen)"
      ],
      "execution_count": 17,
      "outputs": []
    },
    {
      "cell_type": "code",
      "metadata": {
        "id": "kGHHabVdt_aa",
        "outputId": "032e3006-3128-4990-b146-60d3d8869149",
        "colab": {
          "base_uri": "https://localhost:8080/"
        }
      },
      "source": [
        "# Alumno: Observar las dimensiones de la variable input\n",
        "X.shape"
      ],
      "execution_count": 18,
      "outputs": [
        {
          "output_type": "execute_result",
          "data": {
            "text/plain": [
              "(22641, 115)"
            ]
          },
          "metadata": {},
          "execution_count": 18
        }
      ]
    },
    {
      "cell_type": "code",
      "metadata": {
        "id": "llVM-tzQo9_F",
        "outputId": "15f609cd-d1a0-403f-8ad6-b9d1966bad67",
        "colab": {
          "base_uri": "https://localhost:8080/"
        }
      },
      "source": [
        "# Alumno tomar la columna rating y alcemacenarla en una variable \"y\" transformada a oneHotEncoding\n",
        "# Su shape debe ser equivalente la cantidad de rows del corpus y a la cantidad\n",
        "# de clases que se deseen predecir (en este ejemplo son 5)\n",
        "y = pd.get_dummies(df_reviews.Rating, prefix='Rating')\n",
        "print(y.shape)"
      ],
      "execution_count": 19,
      "outputs": [
        {
          "output_type": "stream",
          "name": "stdout",
          "text": [
            "(22641, 5)\n"
          ]
        }
      ]
    },
    {
      "cell_type": "code",
      "metadata": {
        "id": "Rmz9A6n4uK4V"
      },
      "source": [
        "# Alumno: Dividir los datos en train y test\n",
        "from sklearn.model_selection import train_test_split\n",
        "X_train, X_test, y_train, y_test = train_test_split(X, y, test_size=0.2, random_state=42)"
      ],
      "execution_count": 20,
      "outputs": []
    },
    {
      "cell_type": "code",
      "metadata": {
        "id": "EcDPlhEouQ9E",
        "outputId": "e48bb1bc-8980-4d61-f8dd-b7d1885675fe",
        "colab": {
          "base_uri": "https://localhost:8080/"
        }
      },
      "source": [
        "# Alumno: determinar la dimensiones de entrada y salida\n",
        "in_shape = X_train.shape[1] # max input sentence len\n",
        "out_shape = y_train.shape[1] # multi class classification\n",
        "print(\"in_shape\", in_shape, \", out_shape\", out_shape)"
      ],
      "execution_count": 21,
      "outputs": [
        {
          "output_type": "stream",
          "name": "stdout",
          "text": [
            "in_shape 115 , out_shape 5\n"
          ]
        }
      ]
    },
    {
      "cell_type": "markdown",
      "metadata": {
        "id": "NpbQHExL6OTu"
      },
      "source": [
        "### 2 - Entrenar el modelo con Embeddings + LSTM"
      ]
    },
    {
      "cell_type": "code",
      "metadata": {
        "id": "NUkuWBsM6cx3",
        "outputId": "1420871d-046e-4f3a-83f6-d25346dcd4a7",
        "colab": {
          "base_uri": "https://localhost:8080/"
        }
      },
      "source": [
        "# Alumno: Entrene su modelo con LSTM entrenando sus propios embeddings\n",
        "# o utilizando embeddings pre-entrenados.\n",
        "from keras.layers import LSTM\n",
        "from keras.layers import Embedding\n",
        "from keras.layers import Dropout\n",
        "\n",
        "model = Sequential()\n",
        "# input_dim = vocab_size (max n_words)\n",
        "# input_length = setencias con padding a 200\n",
        "# output_dim = 50 --> crear embeddings de tamaño 50\n",
        "model.add(Embedding(input_dim=vocab_size+1, output_dim=50, input_length=in_shape))\n",
        "model.add(LSTM(units=64, return_sequences=True))\n",
        "model.add(Dropout(0.2))\n",
        "model.add(LSTM(units=64)) # La última capa LSTM no lleva return_sequences\n",
        "\n",
        "model.add(Dense(units=128, activation='relu'))\n",
        "model.add(Dropout(rate=0.2))\n",
        "model.add(Dense(units=out_shape, activation='sigmoid'))\n",
        "\n",
        "model.compile(optimizer=\"adam\",\n",
        "              loss='categorical_crossentropy',\n",
        "              metrics=['accuracy'])\n",
        "\n",
        "model.summary()"
      ],
      "execution_count": 22,
      "outputs": [
        {
          "output_type": "stream",
          "name": "stdout",
          "text": [
            "Model: \"sequential\"\n",
            "_________________________________________________________________\n",
            "Layer (type)                 Output Shape              Param #   \n",
            "=================================================================\n",
            "embedding (Embedding)        (None, 115, 50)           100050    \n",
            "_________________________________________________________________\n",
            "lstm (LSTM)                  (None, 115, 64)           29440     \n",
            "_________________________________________________________________\n",
            "dropout (Dropout)            (None, 115, 64)           0         \n",
            "_________________________________________________________________\n",
            "lstm_1 (LSTM)                (None, 64)                33024     \n",
            "_________________________________________________________________\n",
            "dense (Dense)                (None, 128)               8320      \n",
            "_________________________________________________________________\n",
            "dropout_1 (Dropout)          (None, 128)               0         \n",
            "_________________________________________________________________\n",
            "dense_1 (Dense)              (None, 5)                 645       \n",
            "=================================================================\n",
            "Total params: 171,479\n",
            "Trainable params: 171,479\n",
            "Non-trainable params: 0\n",
            "_________________________________________________________________\n"
          ]
        }
      ]
    },
    {
      "cell_type": "code",
      "metadata": {
        "id": "Lxr-vcJp6lZf",
        "outputId": "31781ace-ddf5-40cc-f1fb-d28b9288f9bb",
        "colab": {
          "base_uri": "https://localhost:8080/",
          "height": 865
        }
      },
      "source": [
        "from keras.utils.vis_utils import plot_model\n",
        "plot_model(model, to_file='model_plot.png', show_shapes=True, show_layer_names=True)"
      ],
      "execution_count": 23,
      "outputs": [
        {
          "output_type": "execute_result",
          "data": {
            "image/png": "[encoded data removed]",
            "text/plain": [
              "<IPython.core.display.Image object>"
            ]
          },
          "metadata": {},
          "execution_count": 23
        }
      ]
    },
    {
      "cell_type": "code",
      "metadata": {
        "id": "DF95AAGI-P2E"
      },
      "source": [
        "from keras.callbacks import ModelCheckpoint\n",
        "#create callback\n",
        "filepath = 'my_best_model.hdf5'\n",
        "checkpoint = ModelCheckpoint(filepath=filepath, \n",
        "                             monitor='val_accuracy',\n",
        "                             verbose=1, \n",
        "                             save_best_only=True,\n",
        "                             mode='max')"
      ],
      "execution_count": 24,
      "outputs": []
    },
    {
      "cell_type": "code",
      "metadata": {
        "id": "UQYEcZTs6q4m",
        "outputId": "40a970ec-9b65-4ab4-ed2c-25aa012063b7",
        "colab": {
          "base_uri": "https://localhost:8080/"
        }
      },
      "source": [
        "callbacks = [checkpoint]\n",
        "\n",
        "#fit the model\n",
        "hist = model.fit(X_train,\n",
        "                  y_train,\n",
        "                  epochs=10,\n",
        "                  validation_split=0.2,\n",
        "                  callbacks=callbacks)"
      ],
      "execution_count": 25,
      "outputs": [
        {
          "output_type": "stream",
          "name": "stdout",
          "text": [
            "Epoch 1/10\n",
            "453/453 [==============================] - 30s 59ms/step - loss: 1.0130 - accuracy: 0.5922 - val_loss: 0.9395 - val_accuracy: 0.6108\n",
            "\n",
            "Epoch 00001: val_accuracy improved from -inf to 0.61082, saving model to my_best_model.hdf5\n",
            "Epoch 2/10\n",
            "453/453 [==============================] - 25s 56ms/step - loss: 0.8657 - accuracy: 0.6292 - val_loss: 0.9072 - val_accuracy: 0.6152\n",
            "\n",
            "Epoch 00002: val_accuracy improved from 0.61082 to 0.61524, saving model to my_best_model.hdf5\n",
            "Epoch 3/10\n",
            "453/453 [==============================] - 25s 56ms/step - loss: 0.8013 - accuracy: 0.6576 - val_loss: 0.9128 - val_accuracy: 0.6290\n",
            "\n",
            "Epoch 00003: val_accuracy improved from 0.61524 to 0.62904, saving model to my_best_model.hdf5\n",
            "Epoch 4/10\n",
            "453/453 [==============================] - 25s 56ms/step - loss: 0.7554 - accuracy: 0.6809 - val_loss: 0.9150 - val_accuracy: 0.6213\n",
            "\n",
            "Epoch 00004: val_accuracy did not improve from 0.62904\n",
            "Epoch 5/10\n",
            "453/453 [==============================] - 25s 56ms/step - loss: 0.7177 - accuracy: 0.6948 - val_loss: 0.9420 - val_accuracy: 0.6216\n",
            "\n",
            "Epoch 00005: val_accuracy did not improve from 0.62904\n",
            "Epoch 6/10\n",
            "453/453 [==============================] - 25s 55ms/step - loss: 0.6848 - accuracy: 0.7139 - val_loss: 1.0127 - val_accuracy: 0.6053\n",
            "\n",
            "Epoch 00006: val_accuracy did not improve from 0.62904\n",
            "Epoch 7/10\n",
            "453/453 [==============================] - 25s 56ms/step - loss: 0.6515 - accuracy: 0.7272 - val_loss: 1.0158 - val_accuracy: 0.6169\n",
            "\n",
            "Epoch 00007: val_accuracy did not improve from 0.62904\n",
            "Epoch 8/10\n",
            "453/453 [==============================] - 26s 57ms/step - loss: 0.6287 - accuracy: 0.7380 - val_loss: 1.0464 - val_accuracy: 0.6122\n",
            "\n",
            "Epoch 00008: val_accuracy did not improve from 0.62904\n",
            "Epoch 9/10\n",
            "453/453 [==============================] - 26s 57ms/step - loss: 0.6018 - accuracy: 0.7482 - val_loss: 1.1419 - val_accuracy: 0.6056\n",
            "\n",
            "Epoch 00009: val_accuracy did not improve from 0.62904\n",
            "Epoch 10/10\n",
            "453/453 [==============================] - 26s 57ms/step - loss: 0.5655 - accuracy: 0.7692 - val_loss: 1.1504 - val_accuracy: 0.5973\n",
            "\n",
            "Epoch 00010: val_accuracy did not improve from 0.62904\n"
          ]
        }
      ]
    },
    {
      "cell_type": "code",
      "metadata": {
        "id": "tAwyLsZgEJFt"
      },
      "source": [
        "from keras.models import load_model\n",
        "model = load_model(filepath)"
      ],
      "execution_count": 27,
      "outputs": []
    },
    {
      "cell_type": "code",
      "metadata": {
        "id": "Fdsti9lg7RdA",
        "outputId": "d837de00-2674-4c08-dea5-9addb5f728a0",
        "colab": {
          "base_uri": "https://localhost:8080/",
          "height": 266
        }
      },
      "source": [
        "import matplotlib.pyplot as plt\n",
        "import seaborn as sns\n",
        "epoch_count = range(1, len(hist.history['accuracy']) + 1)\n",
        "sns.lineplot(x=epoch_count,  y=hist.history['accuracy'], label='train')\n",
        "sns.lineplot(x=epoch_count,  y=hist.history['val_accuracy'], label='valid')\n",
        "plt.show()"
      ],
      "execution_count": 28,
      "outputs": [
        {
          "output_type": "display_data",
          "data": {
            "image/png": "[encoded data removed]",
            "text/plain": [
              "<Figure size 432x288 with 1 Axes>"
            ]
          },
          "metadata": {
            "needs_background": "light"
          }
        }
      ]
    },
    {
      "cell_type": "code",
      "metadata": {
        "id": "zMdrjnZm75aI",
        "outputId": "c625a23c-5de0-402c-c1d7-ee2e4773628b",
        "colab": {
          "base_uri": "https://localhost:8080/"
        }
      },
      "source": [
        "model.evaluate(X_test, y_test)"
      ],
      "execution_count": 29,
      "outputs": [
        {
          "output_type": "stream",
          "name": "stdout",
          "text": [
            "142/142 [==============================] - 4s 19ms/step - loss: 0.8664 - accuracy: 0.6529\n"
          ]
        },
        {
          "output_type": "execute_result",
          "data": {
            "text/plain": [
              "[0.8663806915283203, 0.6529034972190857]"
            ]
          },
          "metadata": {},
          "execution_count": 29
        }
      ]
    },
    {
      "cell_type": "markdown",
      "metadata": {
        "id": "fGDesEf7sNrP"
      },
      "source": [
        "### 4 - Conclusión\n",
        "Se utilizaron Embeddings creados y se guardó el resultado de cada *epoch* para quedarme con la mejor"
      ]
    }
  ]
}